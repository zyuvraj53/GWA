{
 "cells": [
  {
   "cell_type": "code",
   "execution_count": 58,
   "id": "rising-leader",
   "metadata": {},
   "outputs": [],
   "source": [
    "import pandas as pd"
   ]
  },
  {
   "cell_type": "code",
   "execution_count": 59,
   "id": "sealed-switch",
   "metadata": {},
   "outputs": [],
   "source": [
    "df = pd.read_csv('processes_datasets.csv')"
   ]
  },
  {
   "cell_type": "code",
   "execution_count": 60,
   "id": "expanded-forwarding",
   "metadata": {},
   "outputs": [
    {
     "data": {
      "text/html": [
       "<div>\n",
       "<style scoped>\n",
       "    .dataframe tbody tr th:only-of-type {\n",
       "        vertical-align: middle;\n",
       "    }\n",
       "\n",
       "    .dataframe tbody tr th {\n",
       "        vertical-align: top;\n",
       "    }\n",
       "\n",
       "    .dataframe thead th {\n",
       "        text-align: right;\n",
       "    }\n",
       "</style>\n",
       "<table border=\"1\" class=\"dataframe\">\n",
       "  <thead>\n",
       "    <tr style=\"text-align: right;\">\n",
       "      <th></th>\n",
       "      <th>JobID</th>\n",
       "      <th>SubmitTime</th>\n",
       "      <th>WaitTime</th>\n",
       "      <th>RunTime</th>\n",
       "      <th>NProcs</th>\n",
       "      <th>AverageCPUTimeUsed</th>\n",
       "      <th>Used Memory</th>\n",
       "      <th>ReqNProcs</th>\n",
       "      <th>ReqTime:</th>\n",
       "      <th>ReqMemory</th>\n",
       "      <th>...</th>\n",
       "      <th>JobStructureParams</th>\n",
       "      <th>UsedNetwork</th>\n",
       "      <th>UsedLocalDiskSpace</th>\n",
       "      <th>UsedResources</th>\n",
       "      <th>ReqPlatform</th>\n",
       "      <th>ReqNetwork</th>\n",
       "      <th>ReqLocalDiskSpace</th>\n",
       "      <th>ReqResources</th>\n",
       "      <th>VOID</th>\n",
       "      <th>ProjectID</th>\n",
       "    </tr>\n",
       "  </thead>\n",
       "  <tbody>\n",
       "    <tr>\n",
       "      <th>0</th>\n",
       "      <td>1</td>\n",
       "      <td>1136070024</td>\n",
       "      <td>203761</td>\n",
       "      <td>138467</td>\n",
       "      <td>1</td>\n",
       "      <td>138371</td>\n",
       "      <td>98652</td>\n",
       "      <td>1</td>\n",
       "      <td>259200</td>\n",
       "      <td>-1</td>\n",
       "      <td>...</td>\n",
       "      <td>-1</td>\n",
       "      <td>-1</td>\n",
       "      <td>-1</td>\n",
       "      <td>-1</td>\n",
       "      <td>-1</td>\n",
       "      <td>-1</td>\n",
       "      <td>-1</td>\n",
       "      <td>-1</td>\n",
       "      <td>-1</td>\n",
       "      <td>-1</td>\n",
       "    </tr>\n",
       "    <tr>\n",
       "      <th>1</th>\n",
       "      <td>2</td>\n",
       "      <td>1136070690</td>\n",
       "      <td>0</td>\n",
       "      <td>11</td>\n",
       "      <td>1</td>\n",
       "      <td>4</td>\n",
       "      <td>35848</td>\n",
       "      <td>1</td>\n",
       "      <td>259200</td>\n",
       "      <td>-1</td>\n",
       "      <td>...</td>\n",
       "      <td>-1</td>\n",
       "      <td>-1</td>\n",
       "      <td>-1</td>\n",
       "      <td>-1</td>\n",
       "      <td>-1</td>\n",
       "      <td>-1</td>\n",
       "      <td>-1</td>\n",
       "      <td>-1</td>\n",
       "      <td>-1</td>\n",
       "      <td>-1</td>\n",
       "    </tr>\n",
       "    <tr>\n",
       "      <th>2</th>\n",
       "      <td>3</td>\n",
       "      <td>1136071207</td>\n",
       "      <td>117</td>\n",
       "      <td>201203</td>\n",
       "      <td>1</td>\n",
       "      <td>0</td>\n",
       "      <td>0</td>\n",
       "      <td>1</td>\n",
       "      <td>259200</td>\n",
       "      <td>-1</td>\n",
       "      <td>...</td>\n",
       "      <td>-1</td>\n",
       "      <td>-1</td>\n",
       "      <td>-1</td>\n",
       "      <td>-1</td>\n",
       "      <td>-1</td>\n",
       "      <td>-1</td>\n",
       "      <td>-1</td>\n",
       "      <td>-1</td>\n",
       "      <td>-1</td>\n",
       "      <td>-1</td>\n",
       "    </tr>\n",
       "    <tr>\n",
       "      <th>3</th>\n",
       "      <td>4</td>\n",
       "      <td>1136071267</td>\n",
       "      <td>4406</td>\n",
       "      <td>196985</td>\n",
       "      <td>1</td>\n",
       "      <td>0</td>\n",
       "      <td>0</td>\n",
       "      <td>1</td>\n",
       "      <td>259200</td>\n",
       "      <td>-1</td>\n",
       "      <td>...</td>\n",
       "      <td>-1</td>\n",
       "      <td>-1</td>\n",
       "      <td>-1</td>\n",
       "      <td>-1</td>\n",
       "      <td>-1</td>\n",
       "      <td>-1</td>\n",
       "      <td>-1</td>\n",
       "      <td>-1</td>\n",
       "      <td>-1</td>\n",
       "      <td>-1</td>\n",
       "    </tr>\n",
       "    <tr>\n",
       "      <th>4</th>\n",
       "      <td>5</td>\n",
       "      <td>1136071269</td>\n",
       "      <td>202516</td>\n",
       "      <td>19520</td>\n",
       "      <td>1</td>\n",
       "      <td>18731</td>\n",
       "      <td>522268</td>\n",
       "      <td>1</td>\n",
       "      <td>259200</td>\n",
       "      <td>-1</td>\n",
       "      <td>...</td>\n",
       "      <td>-1</td>\n",
       "      <td>-1</td>\n",
       "      <td>-1</td>\n",
       "      <td>-1</td>\n",
       "      <td>-1</td>\n",
       "      <td>-1</td>\n",
       "      <td>-1</td>\n",
       "      <td>-1</td>\n",
       "      <td>-1</td>\n",
       "      <td>-1</td>\n",
       "    </tr>\n",
       "    <tr>\n",
       "      <th>...</th>\n",
       "      <td>...</td>\n",
       "      <td>...</td>\n",
       "      <td>...</td>\n",
       "      <td>...</td>\n",
       "      <td>...</td>\n",
       "      <td>...</td>\n",
       "      <td>...</td>\n",
       "      <td>...</td>\n",
       "      <td>...</td>\n",
       "      <td>...</td>\n",
       "      <td>...</td>\n",
       "      <td>...</td>\n",
       "      <td>...</td>\n",
       "      <td>...</td>\n",
       "      <td>...</td>\n",
       "      <td>...</td>\n",
       "      <td>...</td>\n",
       "      <td>...</td>\n",
       "      <td>...</td>\n",
       "      <td>...</td>\n",
       "      <td>...</td>\n",
       "    </tr>\n",
       "    <tr>\n",
       "      <th>404171</th>\n",
       "      <td>404172</td>\n",
       "      <td>1167603618</td>\n",
       "      <td>2</td>\n",
       "      <td>56</td>\n",
       "      <td>1</td>\n",
       "      <td>18</td>\n",
       "      <td>0</td>\n",
       "      <td>1</td>\n",
       "      <td>259200</td>\n",
       "      <td>-1</td>\n",
       "      <td>...</td>\n",
       "      <td>-1</td>\n",
       "      <td>-1</td>\n",
       "      <td>-1</td>\n",
       "      <td>-1</td>\n",
       "      <td>-1</td>\n",
       "      <td>-1</td>\n",
       "      <td>-1</td>\n",
       "      <td>-1</td>\n",
       "      <td>-1</td>\n",
       "      <td>-1</td>\n",
       "    </tr>\n",
       "    <tr>\n",
       "      <th>404172</th>\n",
       "      <td>404173</td>\n",
       "      <td>1167603624</td>\n",
       "      <td>1</td>\n",
       "      <td>57</td>\n",
       "      <td>1</td>\n",
       "      <td>17</td>\n",
       "      <td>61084</td>\n",
       "      <td>1</td>\n",
       "      <td>259200</td>\n",
       "      <td>-1</td>\n",
       "      <td>...</td>\n",
       "      <td>-1</td>\n",
       "      <td>-1</td>\n",
       "      <td>-1</td>\n",
       "      <td>-1</td>\n",
       "      <td>-1</td>\n",
       "      <td>-1</td>\n",
       "      <td>-1</td>\n",
       "      <td>-1</td>\n",
       "      <td>-1</td>\n",
       "      <td>-1</td>\n",
       "    </tr>\n",
       "    <tr>\n",
       "      <th>404173</th>\n",
       "      <td>404174</td>\n",
       "      <td>1167603637</td>\n",
       "      <td>1</td>\n",
       "      <td>45</td>\n",
       "      <td>1</td>\n",
       "      <td>17</td>\n",
       "      <td>0</td>\n",
       "      <td>1</td>\n",
       "      <td>259200</td>\n",
       "      <td>-1</td>\n",
       "      <td>...</td>\n",
       "      <td>-1</td>\n",
       "      <td>-1</td>\n",
       "      <td>-1</td>\n",
       "      <td>-1</td>\n",
       "      <td>-1</td>\n",
       "      <td>-1</td>\n",
       "      <td>-1</td>\n",
       "      <td>-1</td>\n",
       "      <td>-1</td>\n",
       "      <td>-1</td>\n",
       "    </tr>\n",
       "    <tr>\n",
       "      <th>404174</th>\n",
       "      <td>404175</td>\n",
       "      <td>1167603747</td>\n",
       "      <td>1</td>\n",
       "      <td>43</td>\n",
       "      <td>1</td>\n",
       "      <td>17</td>\n",
       "      <td>0</td>\n",
       "      <td>1</td>\n",
       "      <td>259200</td>\n",
       "      <td>-1</td>\n",
       "      <td>...</td>\n",
       "      <td>-1</td>\n",
       "      <td>-1</td>\n",
       "      <td>-1</td>\n",
       "      <td>-1</td>\n",
       "      <td>-1</td>\n",
       "      <td>-1</td>\n",
       "      <td>-1</td>\n",
       "      <td>-1</td>\n",
       "      <td>-1</td>\n",
       "      <td>-1</td>\n",
       "    </tr>\n",
       "    <tr>\n",
       "      <th>404175</th>\n",
       "      <td>404176</td>\n",
       "      <td>1167605790</td>\n",
       "      <td>52</td>\n",
       "      <td>-1</td>\n",
       "      <td>0</td>\n",
       "      <td>-1</td>\n",
       "      <td>-1</td>\n",
       "      <td>1</td>\n",
       "      <td>-1</td>\n",
       "      <td>-1</td>\n",
       "      <td>...</td>\n",
       "      <td>-1</td>\n",
       "      <td>-1</td>\n",
       "      <td>-1</td>\n",
       "      <td>-1</td>\n",
       "      <td>-1</td>\n",
       "      <td>-1</td>\n",
       "      <td>-1</td>\n",
       "      <td>-1</td>\n",
       "      <td>-1</td>\n",
       "      <td>-1</td>\n",
       "    </tr>\n",
       "  </tbody>\n",
       "</table>\n",
       "<p>404176 rows × 29 columns</p>\n",
       "</div>"
      ],
      "text/plain": [
       "         JobID  SubmitTime  WaitTime  RunTime   NProcs  AverageCPUTimeUsed  \\\n",
       "0            1  1136070024    203761    138467       1              138371   \n",
       "1            2  1136070690         0        11       1                   4   \n",
       "2            3  1136071207       117    201203       1                   0   \n",
       "3            4  1136071267      4406    196985       1                   0   \n",
       "4            5  1136071269    202516     19520       1               18731   \n",
       "...        ...         ...       ...       ...     ...                 ...   \n",
       "404171  404172  1167603618         2        56       1                  18   \n",
       "404172  404173  1167603624         1        57       1                  17   \n",
       "404173  404174  1167603637         1        45       1                  17   \n",
       "404174  404175  1167603747         1        43       1                  17   \n",
       "404175  404176  1167605790        52        -1       0                  -1   \n",
       "\n",
       "        Used Memory  ReqNProcs  ReqTime:   ReqMemory  ...  JobStructureParams  \\\n",
       "0             98652          1     259200         -1  ...                  -1   \n",
       "1             35848          1     259200         -1  ...                  -1   \n",
       "2                 0          1     259200         -1  ...                  -1   \n",
       "3                 0          1     259200         -1  ...                  -1   \n",
       "4            522268          1     259200         -1  ...                  -1   \n",
       "...             ...        ...        ...        ...  ...                 ...   \n",
       "404171            0          1     259200         -1  ...                  -1   \n",
       "404172        61084          1     259200         -1  ...                  -1   \n",
       "404173            0          1     259200         -1  ...                  -1   \n",
       "404174            0          1     259200         -1  ...                  -1   \n",
       "404175           -1          1         -1         -1  ...                  -1   \n",
       "\n",
       "       UsedNetwork UsedLocalDiskSpace UsedResources ReqPlatform  ReqNetwork  \\\n",
       "0               -1                 -1            -1          -1          -1   \n",
       "1               -1                 -1            -1          -1          -1   \n",
       "2               -1                 -1            -1          -1          -1   \n",
       "3               -1                 -1            -1          -1          -1   \n",
       "4               -1                 -1            -1          -1          -1   \n",
       "...            ...                ...           ...         ...         ...   \n",
       "404171          -1                 -1            -1          -1          -1   \n",
       "404172          -1                 -1            -1          -1          -1   \n",
       "404173          -1                 -1            -1          -1          -1   \n",
       "404174          -1                 -1            -1          -1          -1   \n",
       "404175          -1                 -1            -1          -1          -1   \n",
       "\n",
       "       ReqLocalDiskSpace ReqResources  VOID  ProjectID  \n",
       "0                     -1           -1    -1         -1  \n",
       "1                     -1           -1    -1         -1  \n",
       "2                     -1           -1    -1         -1  \n",
       "3                     -1           -1    -1         -1  \n",
       "4                     -1           -1    -1         -1  \n",
       "...                  ...          ...   ...        ...  \n",
       "404171                -1           -1    -1         -1  \n",
       "404172                -1           -1    -1         -1  \n",
       "404173                -1           -1    -1         -1  \n",
       "404174                -1           -1    -1         -1  \n",
       "404175                -1           -1    -1         -1  \n",
       "\n",
       "[404176 rows x 29 columns]"
      ]
     },
     "execution_count": 60,
     "metadata": {},
     "output_type": "execute_result"
    }
   ],
   "source": [
    "df"
   ]
  },
  {
   "cell_type": "code",
   "execution_count": 61,
   "id": "medical-graphic",
   "metadata": {},
   "outputs": [],
   "source": [
    "df = df.iloc[0:, [1, 2, 3, 5, 6, 8]].copy()"
   ]
  },
  {
   "cell_type": "code",
   "execution_count": 62,
   "id": "medieval-singing",
   "metadata": {},
   "outputs": [
    {
     "data": {
      "text/html": [
       "<div>\n",
       "<style scoped>\n",
       "    .dataframe tbody tr th:only-of-type {\n",
       "        vertical-align: middle;\n",
       "    }\n",
       "\n",
       "    .dataframe tbody tr th {\n",
       "        vertical-align: top;\n",
       "    }\n",
       "\n",
       "    .dataframe thead th {\n",
       "        text-align: right;\n",
       "    }\n",
       "</style>\n",
       "<table border=\"1\" class=\"dataframe\">\n",
       "  <thead>\n",
       "    <tr style=\"text-align: right;\">\n",
       "      <th></th>\n",
       "      <th>SubmitTime</th>\n",
       "      <th>WaitTime</th>\n",
       "      <th>RunTime</th>\n",
       "      <th>AverageCPUTimeUsed</th>\n",
       "      <th>Used Memory</th>\n",
       "      <th>ReqTime:</th>\n",
       "    </tr>\n",
       "  </thead>\n",
       "  <tbody>\n",
       "    <tr>\n",
       "      <th>0</th>\n",
       "      <td>1136070024</td>\n",
       "      <td>203761</td>\n",
       "      <td>138467</td>\n",
       "      <td>138371</td>\n",
       "      <td>98652</td>\n",
       "      <td>259200</td>\n",
       "    </tr>\n",
       "    <tr>\n",
       "      <th>1</th>\n",
       "      <td>1136070690</td>\n",
       "      <td>0</td>\n",
       "      <td>11</td>\n",
       "      <td>4</td>\n",
       "      <td>35848</td>\n",
       "      <td>259200</td>\n",
       "    </tr>\n",
       "    <tr>\n",
       "      <th>2</th>\n",
       "      <td>1136071207</td>\n",
       "      <td>117</td>\n",
       "      <td>201203</td>\n",
       "      <td>0</td>\n",
       "      <td>0</td>\n",
       "      <td>259200</td>\n",
       "    </tr>\n",
       "    <tr>\n",
       "      <th>3</th>\n",
       "      <td>1136071267</td>\n",
       "      <td>4406</td>\n",
       "      <td>196985</td>\n",
       "      <td>0</td>\n",
       "      <td>0</td>\n",
       "      <td>259200</td>\n",
       "    </tr>\n",
       "    <tr>\n",
       "      <th>4</th>\n",
       "      <td>1136071269</td>\n",
       "      <td>202516</td>\n",
       "      <td>19520</td>\n",
       "      <td>18731</td>\n",
       "      <td>522268</td>\n",
       "      <td>259200</td>\n",
       "    </tr>\n",
       "    <tr>\n",
       "      <th>...</th>\n",
       "      <td>...</td>\n",
       "      <td>...</td>\n",
       "      <td>...</td>\n",
       "      <td>...</td>\n",
       "      <td>...</td>\n",
       "      <td>...</td>\n",
       "    </tr>\n",
       "    <tr>\n",
       "      <th>404171</th>\n",
       "      <td>1167603618</td>\n",
       "      <td>2</td>\n",
       "      <td>56</td>\n",
       "      <td>18</td>\n",
       "      <td>0</td>\n",
       "      <td>259200</td>\n",
       "    </tr>\n",
       "    <tr>\n",
       "      <th>404172</th>\n",
       "      <td>1167603624</td>\n",
       "      <td>1</td>\n",
       "      <td>57</td>\n",
       "      <td>17</td>\n",
       "      <td>61084</td>\n",
       "      <td>259200</td>\n",
       "    </tr>\n",
       "    <tr>\n",
       "      <th>404173</th>\n",
       "      <td>1167603637</td>\n",
       "      <td>1</td>\n",
       "      <td>45</td>\n",
       "      <td>17</td>\n",
       "      <td>0</td>\n",
       "      <td>259200</td>\n",
       "    </tr>\n",
       "    <tr>\n",
       "      <th>404174</th>\n",
       "      <td>1167603747</td>\n",
       "      <td>1</td>\n",
       "      <td>43</td>\n",
       "      <td>17</td>\n",
       "      <td>0</td>\n",
       "      <td>259200</td>\n",
       "    </tr>\n",
       "    <tr>\n",
       "      <th>404175</th>\n",
       "      <td>1167605790</td>\n",
       "      <td>52</td>\n",
       "      <td>-1</td>\n",
       "      <td>-1</td>\n",
       "      <td>-1</td>\n",
       "      <td>-1</td>\n",
       "    </tr>\n",
       "  </tbody>\n",
       "</table>\n",
       "<p>404176 rows × 6 columns</p>\n",
       "</div>"
      ],
      "text/plain": [
       "        SubmitTime  WaitTime  RunTime   AverageCPUTimeUsed  Used Memory  \\\n",
       "0       1136070024    203761    138467              138371        98652   \n",
       "1       1136070690         0        11                   4        35848   \n",
       "2       1136071207       117    201203                   0            0   \n",
       "3       1136071267      4406    196985                   0            0   \n",
       "4       1136071269    202516     19520               18731       522268   \n",
       "...            ...       ...       ...                 ...          ...   \n",
       "404171  1167603618         2        56                  18            0   \n",
       "404172  1167603624         1        57                  17        61084   \n",
       "404173  1167603637         1        45                  17            0   \n",
       "404174  1167603747         1        43                  17            0   \n",
       "404175  1167605790        52        -1                  -1           -1   \n",
       "\n",
       "        ReqTime:   \n",
       "0          259200  \n",
       "1          259200  \n",
       "2          259200  \n",
       "3          259200  \n",
       "4          259200  \n",
       "...           ...  \n",
       "404171     259200  \n",
       "404172     259200  \n",
       "404173     259200  \n",
       "404174     259200  \n",
       "404175         -1  \n",
       "\n",
       "[404176 rows x 6 columns]"
      ]
     },
     "execution_count": 62,
     "metadata": {},
     "output_type": "execute_result"
    }
   ],
   "source": [
    "df"
   ]
  },
  {
   "cell_type": "code",
   "execution_count": 63,
   "id": "economic-cause",
   "metadata": {},
   "outputs": [
    {
     "data": {
      "text/html": [
       "<div>\n",
       "<style scoped>\n",
       "    .dataframe tbody tr th:only-of-type {\n",
       "        vertical-align: middle;\n",
       "    }\n",
       "\n",
       "    .dataframe tbody tr th {\n",
       "        vertical-align: top;\n",
       "    }\n",
       "\n",
       "    .dataframe thead th {\n",
       "        text-align: right;\n",
       "    }\n",
       "</style>\n",
       "<table border=\"1\" class=\"dataframe\">\n",
       "  <thead>\n",
       "    <tr style=\"text-align: right;\">\n",
       "      <th></th>\n",
       "      <th>SubmitTime</th>\n",
       "      <th>WaitTime</th>\n",
       "      <th>RunTime</th>\n",
       "      <th>AverageCPUTimeUsed</th>\n",
       "      <th>Used Memory</th>\n",
       "      <th>ReqTime:</th>\n",
       "    </tr>\n",
       "  </thead>\n",
       "  <tbody>\n",
       "    <tr>\n",
       "      <th>SubmitTime</th>\n",
       "      <td>1.000000</td>\n",
       "      <td>0.049792</td>\n",
       "      <td>0.055988</td>\n",
       "      <td>0.051565</td>\n",
       "      <td>0.078524</td>\n",
       "      <td>-0.116449</td>\n",
       "    </tr>\n",
       "    <tr>\n",
       "      <th>WaitTime</th>\n",
       "      <td>0.049792</td>\n",
       "      <td>1.000000</td>\n",
       "      <td>0.082618</td>\n",
       "      <td>0.094106</td>\n",
       "      <td>0.037051</td>\n",
       "      <td>0.001670</td>\n",
       "    </tr>\n",
       "    <tr>\n",
       "      <th>RunTime</th>\n",
       "      <td>0.055988</td>\n",
       "      <td>0.082618</td>\n",
       "      <td>1.000000</td>\n",
       "      <td>0.864234</td>\n",
       "      <td>0.419717</td>\n",
       "      <td>0.274379</td>\n",
       "    </tr>\n",
       "    <tr>\n",
       "      <th>AverageCPUTimeUsed</th>\n",
       "      <td>0.051565</td>\n",
       "      <td>0.094106</td>\n",
       "      <td>0.864234</td>\n",
       "      <td>1.000000</td>\n",
       "      <td>0.447703</td>\n",
       "      <td>0.290692</td>\n",
       "    </tr>\n",
       "    <tr>\n",
       "      <th>Used Memory</th>\n",
       "      <td>0.078524</td>\n",
       "      <td>0.037051</td>\n",
       "      <td>0.419717</td>\n",
       "      <td>0.447703</td>\n",
       "      <td>1.000000</td>\n",
       "      <td>0.244945</td>\n",
       "    </tr>\n",
       "    <tr>\n",
       "      <th>ReqTime:</th>\n",
       "      <td>-0.116449</td>\n",
       "      <td>0.001670</td>\n",
       "      <td>0.274379</td>\n",
       "      <td>0.290692</td>\n",
       "      <td>0.244945</td>\n",
       "      <td>1.000000</td>\n",
       "    </tr>\n",
       "  </tbody>\n",
       "</table>\n",
       "</div>"
      ],
      "text/plain": [
       "                    SubmitTime  WaitTime  RunTime   AverageCPUTimeUsed  \\\n",
       "SubmitTime            1.000000  0.049792  0.055988            0.051565   \n",
       "WaitTime              0.049792  1.000000  0.082618            0.094106   \n",
       "RunTime               0.055988  0.082618  1.000000            0.864234   \n",
       "AverageCPUTimeUsed    0.051565  0.094106  0.864234            1.000000   \n",
       "Used Memory           0.078524  0.037051  0.419717            0.447703   \n",
       "ReqTime:             -0.116449  0.001670  0.274379            0.290692   \n",
       "\n",
       "                    Used Memory  ReqTime:   \n",
       "SubmitTime             0.078524  -0.116449  \n",
       "WaitTime               0.037051   0.001670  \n",
       "RunTime                0.419717   0.274379  \n",
       "AverageCPUTimeUsed     0.447703   0.290692  \n",
       "Used Memory            1.000000   0.244945  \n",
       "ReqTime:               0.244945   1.000000  "
      ]
     },
     "execution_count": 63,
     "metadata": {},
     "output_type": "execute_result"
    }
   ],
   "source": [
    "df.corr()"
   ]
  },
  {
   "cell_type": "code",
   "execution_count": 64,
   "id": "fundamental-accessory",
   "metadata": {},
   "outputs": [],
   "source": [
    "df.columns = [\"submit_time\", 'wait_time', 'run_time', 'avg_cpu_time_used', 'used_mem', 'req_time']"
   ]
  },
  {
   "cell_type": "code",
   "execution_count": 65,
   "id": "skilled-montreal",
   "metadata": {},
   "outputs": [
    {
     "data": {
      "text/html": [
       "<div>\n",
       "<style scoped>\n",
       "    .dataframe tbody tr th:only-of-type {\n",
       "        vertical-align: middle;\n",
       "    }\n",
       "\n",
       "    .dataframe tbody tr th {\n",
       "        vertical-align: top;\n",
       "    }\n",
       "\n",
       "    .dataframe thead th {\n",
       "        text-align: right;\n",
       "    }\n",
       "</style>\n",
       "<table border=\"1\" class=\"dataframe\">\n",
       "  <thead>\n",
       "    <tr style=\"text-align: right;\">\n",
       "      <th></th>\n",
       "      <th>submit_time</th>\n",
       "      <th>wait_time</th>\n",
       "      <th>run_time</th>\n",
       "      <th>avg_cpu_time_used</th>\n",
       "      <th>used_mem</th>\n",
       "      <th>req_time</th>\n",
       "    </tr>\n",
       "  </thead>\n",
       "  <tbody>\n",
       "    <tr>\n",
       "      <th>0</th>\n",
       "      <td>1136070024</td>\n",
       "      <td>203761</td>\n",
       "      <td>138467</td>\n",
       "      <td>138371</td>\n",
       "      <td>98652</td>\n",
       "      <td>259200</td>\n",
       "    </tr>\n",
       "    <tr>\n",
       "      <th>1</th>\n",
       "      <td>1136070690</td>\n",
       "      <td>0</td>\n",
       "      <td>11</td>\n",
       "      <td>4</td>\n",
       "      <td>35848</td>\n",
       "      <td>259200</td>\n",
       "    </tr>\n",
       "    <tr>\n",
       "      <th>2</th>\n",
       "      <td>1136071207</td>\n",
       "      <td>117</td>\n",
       "      <td>201203</td>\n",
       "      <td>0</td>\n",
       "      <td>0</td>\n",
       "      <td>259200</td>\n",
       "    </tr>\n",
       "    <tr>\n",
       "      <th>3</th>\n",
       "      <td>1136071267</td>\n",
       "      <td>4406</td>\n",
       "      <td>196985</td>\n",
       "      <td>0</td>\n",
       "      <td>0</td>\n",
       "      <td>259200</td>\n",
       "    </tr>\n",
       "    <tr>\n",
       "      <th>4</th>\n",
       "      <td>1136071269</td>\n",
       "      <td>202516</td>\n",
       "      <td>19520</td>\n",
       "      <td>18731</td>\n",
       "      <td>522268</td>\n",
       "      <td>259200</td>\n",
       "    </tr>\n",
       "    <tr>\n",
       "      <th>...</th>\n",
       "      <td>...</td>\n",
       "      <td>...</td>\n",
       "      <td>...</td>\n",
       "      <td>...</td>\n",
       "      <td>...</td>\n",
       "      <td>...</td>\n",
       "    </tr>\n",
       "    <tr>\n",
       "      <th>404171</th>\n",
       "      <td>1167603618</td>\n",
       "      <td>2</td>\n",
       "      <td>56</td>\n",
       "      <td>18</td>\n",
       "      <td>0</td>\n",
       "      <td>259200</td>\n",
       "    </tr>\n",
       "    <tr>\n",
       "      <th>404172</th>\n",
       "      <td>1167603624</td>\n",
       "      <td>1</td>\n",
       "      <td>57</td>\n",
       "      <td>17</td>\n",
       "      <td>61084</td>\n",
       "      <td>259200</td>\n",
       "    </tr>\n",
       "    <tr>\n",
       "      <th>404173</th>\n",
       "      <td>1167603637</td>\n",
       "      <td>1</td>\n",
       "      <td>45</td>\n",
       "      <td>17</td>\n",
       "      <td>0</td>\n",
       "      <td>259200</td>\n",
       "    </tr>\n",
       "    <tr>\n",
       "      <th>404174</th>\n",
       "      <td>1167603747</td>\n",
       "      <td>1</td>\n",
       "      <td>43</td>\n",
       "      <td>17</td>\n",
       "      <td>0</td>\n",
       "      <td>259200</td>\n",
       "    </tr>\n",
       "    <tr>\n",
       "      <th>404175</th>\n",
       "      <td>1167605790</td>\n",
       "      <td>52</td>\n",
       "      <td>-1</td>\n",
       "      <td>-1</td>\n",
       "      <td>-1</td>\n",
       "      <td>-1</td>\n",
       "    </tr>\n",
       "  </tbody>\n",
       "</table>\n",
       "<p>404176 rows × 6 columns</p>\n",
       "</div>"
      ],
      "text/plain": [
       "        submit_time  wait_time  run_time  avg_cpu_time_used  used_mem  \\\n",
       "0        1136070024     203761    138467             138371     98652   \n",
       "1        1136070690          0        11                  4     35848   \n",
       "2        1136071207        117    201203                  0         0   \n",
       "3        1136071267       4406    196985                  0         0   \n",
       "4        1136071269     202516     19520              18731    522268   \n",
       "...             ...        ...       ...                ...       ...   \n",
       "404171   1167603618          2        56                 18         0   \n",
       "404172   1167603624          1        57                 17     61084   \n",
       "404173   1167603637          1        45                 17         0   \n",
       "404174   1167603747          1        43                 17         0   \n",
       "404175   1167605790         52        -1                 -1        -1   \n",
       "\n",
       "        req_time  \n",
       "0         259200  \n",
       "1         259200  \n",
       "2         259200  \n",
       "3         259200  \n",
       "4         259200  \n",
       "...          ...  \n",
       "404171    259200  \n",
       "404172    259200  \n",
       "404173    259200  \n",
       "404174    259200  \n",
       "404175        -1  \n",
       "\n",
       "[404176 rows x 6 columns]"
      ]
     },
     "execution_count": 65,
     "metadata": {},
     "output_type": "execute_result"
    }
   ],
   "source": [
    "df"
   ]
  },
  {
   "cell_type": "code",
   "execution_count": 66,
   "id": "conditional-competition",
   "metadata": {},
   "outputs": [
    {
     "data": {
      "text/plain": [
       "<AxesSubplot:>"
      ]
     },
     "execution_count": 66,
     "metadata": {},
     "output_type": "execute_result"
    },
    {
     "data": {
      "image/png": "[encoded data removed]",
      "text/plain": [
       "<Figure size 640x480 with 1 Axes>"
      ]
     },
     "metadata": {},
     "output_type": "display_data"
    }
   ],
   "source": [
    "df[\"submit_time\"].plot()"
   ]
  },
  {
   "cell_type": "code",
   "execution_count": 67,
   "id": "generic-penny",
   "metadata": {},
   "outputs": [
    {
     "data": {
      "text/plain": [
       "<AxesSubplot:>"
      ]
     },
     "execution_count": 67,
     "metadata": {},
     "output_type": "execute_result"
    },
    {
     "data": {
      "image/png": "[encoded data removed]",
      "text/plain": [
       "<Figure size 640x480 with 1 Axes>"
      ]
     },
     "metadata": {},
     "output_type": "display_data"
    }
   ],
   "source": [
    "df[\"run_time\"].plot()"
   ]
  },
  {
   "cell_type": "code",
   "execution_count": 68,
   "id": "solved-classic",
   "metadata": {},
   "outputs": [],
   "source": [
    "run_time = df[\"run_time\"]"
   ]
  },
  {
   "cell_type": "code",
   "execution_count": 69,
   "id": "sweet-flood",
   "metadata": {},
   "outputs": [
    {
     "data": {
      "text/plain": [
       "0         138467\n",
       "1             11\n",
       "2         201203\n",
       "3         196985\n",
       "4          19520\n",
       "           ...  \n",
       "404171        56\n",
       "404172        57\n",
       "404173        45\n",
       "404174        43\n",
       "404175        -1\n",
       "Name: run_time, Length: 404176, dtype: int64"
      ]
     },
     "execution_count": 69,
     "metadata": {},
     "output_type": "execute_result"
    }
   ],
   "source": [
    "run_time"
   ]
  },
  {
   "cell_type": "code",
   "execution_count": 70,
   "id": "sound-raising",
   "metadata": {},
   "outputs": [
    {
     "data": {
      "text/plain": [
       "-1         56565\n",
       " 2         10783\n",
       " 1          9639\n",
       " 0          8297\n",
       " 3          2108\n",
       "           ...  \n",
       " 67087         1\n",
       " 56687         1\n",
       " 52399         1\n",
       " 163628        1\n",
       " 18314         1\n",
       "Name: run_time, Length: 82498, dtype: int64"
      ]
     },
     "execution_count": 70,
     "metadata": {},
     "output_type": "execute_result"
    }
   ],
   "source": [
    "run_time.value_counts()"
   ]
  },
  {
   "cell_type": "code",
   "execution_count": 71,
   "id": "tested-adobe",
   "metadata": {},
   "outputs": [
    {
     "data": {
      "text/plain": [
       "(404176,)"
      ]
     },
     "execution_count": 71,
     "metadata": {},
     "output_type": "execute_result"
    }
   ],
   "source": [
    "run_time.shape"
   ]
  },
  {
   "cell_type": "code",
   "execution_count": 72,
   "id": "annoying-typing",
   "metadata": {},
   "outputs": [
    {
     "data": {
      "text/plain": [
       "pandas.core.series.Series"
      ]
     },
     "execution_count": 72,
     "metadata": {},
     "output_type": "execute_result"
    }
   ],
   "source": [
    "type(run_time)"
   ]
  },
  {
   "cell_type": "code",
   "execution_count": 73,
   "id": "oriented-aquarium",
   "metadata": {},
   "outputs": [
    {
     "data": {
      "text/plain": [
       "(1575814, -1)"
      ]
     },
     "execution_count": 73,
     "metadata": {},
     "output_type": "execute_result"
    }
   ],
   "source": [
    "run_time.max(), run_time.min()"
   ]
  },
  {
   "cell_type": "code",
   "execution_count": 74,
   "id": "revolutionary-bracelet",
   "metadata": {},
   "outputs": [],
   "source": [
    "run_time_full = run_time"
   ]
  },
  {
   "cell_type": "code",
   "execution_count": 75,
   "id": "intense-employee",
   "metadata": {},
   "outputs": [],
   "source": [
    "run_time = run_time.iloc[0:330000]"
   ]
  },
  {
   "cell_type": "code",
   "execution_count": 76,
   "id": "informed-concord",
   "metadata": {},
   "outputs": [
    {
     "data": {
      "text/plain": [
       "<AxesSubplot:>"
      ]
     },
     "execution_count": 76,
     "metadata": {},
     "output_type": "execute_result"
    },
    {
     "data": {
      "image/png": "[encoded data removed]",
      "text/plain": [
       "<Figure size 640x480 with 1 Axes>"
      ]
     },
     "metadata": {},
     "output_type": "display_data"
    }
   ],
   "source": [
    "run_time.plot()"
   ]
  },
  {
   "cell_type": "code",
   "execution_count": 77,
   "id": "informal-hampton",
   "metadata": {},
   "outputs": [],
   "source": [
    "from matplotlib import pyplot as plt"
   ]
  },
  {
   "cell_type": "code",
   "execution_count": 78,
   "id": "subtle-enterprise",
   "metadata": {},
   "outputs": [],
   "source": [
    "from sklearn.preprocessing import MinMaxScaler"
   ]
  },
  {
   "cell_type": "code",
   "execution_count": 79,
   "id": "industrial-cooking",
   "metadata": {},
   "outputs": [
    {
     "data": {
      "text/plain": [
       "-1         33320\n",
       " 2         10410\n",
       " 1          8390\n",
       " 0          8117\n",
       " 3          2077\n",
       "           ...  \n",
       " 57188         1\n",
       " 63876         1\n",
       " 84106         1\n",
       " 59787         1\n",
       " 140689        1\n",
       "Name: run_time, Length: 73177, dtype: int64"
      ]
     },
     "execution_count": 79,
     "metadata": {},
     "output_type": "execute_result"
    }
   ],
   "source": [
    "run_time.value_counts()"
   ]
  },
  {
   "cell_type": "code",
   "execution_count": 80,
   "id": "separate-guyana",
   "metadata": {},
   "outputs": [
    {
     "data": {
      "text/plain": [
       "(330000,)"
      ]
     },
     "execution_count": 80,
     "metadata": {},
     "output_type": "execute_result"
    }
   ],
   "source": [
    "run_time.shape"
   ]
  },
  {
   "cell_type": "code",
   "execution_count": 81,
   "id": "forced-jacob",
   "metadata": {},
   "outputs": [
    {
     "data": {
      "text/plain": [
       "0         138467\n",
       "1             11\n",
       "2         201203\n",
       "3         196985\n",
       "4          19520\n",
       "           ...  \n",
       "329995        98\n",
       "329996        15\n",
       "329997        92\n",
       "329998       112\n",
       "329999       122\n",
       "Name: run_time, Length: 330000, dtype: int64"
      ]
     },
     "execution_count": 81,
     "metadata": {},
     "output_type": "execute_result"
    }
   ],
   "source": [
    "run_time"
   ]
  },
  {
   "cell_type": "code",
   "execution_count": 82,
   "id": "logical-mattress",
   "metadata": {},
   "outputs": [],
   "source": [
    "for i, value in enumerate(run_time):\n",
    "    if value == -1:\n",
    "        run_time[i] = run_time[i-1]"
   ]
  },
  {
   "cell_type": "code",
   "execution_count": 83,
   "id": "heated-ethernet",
   "metadata": {},
   "outputs": [
    {
     "data": {
      "text/plain": [
       "2         14013\n",
       "1          9191\n",
       "0          8246\n",
       "3          3067\n",
       "10         2017\n",
       "          ...  \n",
       "114874        1\n",
       "35998         1\n",
       "70200         1\n",
       "57285         1\n",
       "140689        1\n",
       "Name: run_time, Length: 73176, dtype: int64"
      ]
     },
     "execution_count": 83,
     "metadata": {},
     "output_type": "execute_result"
    }
   ],
   "source": [
    "run_time.value_counts()"
   ]
  },
  {
   "cell_type": "markdown",
   "id": "critical-haven",
   "metadata": {},
   "source": [
    "## data analysis and skimming done"
   ]
  },
  {
   "cell_type": "markdown",
   "id": "searching-briefs",
   "metadata": {},
   "source": [
    "### sdfgsdfg\n",
    "## sdfg"
   ]
  },
  {
   "cell_type": "code",
   "execution_count": 84,
   "id": "complex-booth",
   "metadata": {},
   "outputs": [],
   "source": [
    "scaler = MinMaxScaler(feature_range=(0,1))"
   ]
  },
  {
   "cell_type": "code",
   "execution_count": 85,
   "id": "horizontal-hampshire",
   "metadata": {},
   "outputs": [],
   "source": [
    "scaled_run_time = scaler.fit_transform(run_time.values.reshape(-1, 1))"
   ]
  },
  {
   "cell_type": "code",
   "execution_count": 86,
   "id": "literary-attack",
   "metadata": {},
   "outputs": [
    {
     "data": {
      "text/plain": [
       "array([[2.74356693e-01],\n",
       "       [2.17952554e-05],\n",
       "       [3.98660979e-01],\n",
       "       ...,\n",
       "       [1.82287590e-04],\n",
       "       [2.21915327e-04],\n",
       "       [2.41729196e-04]])"
      ]
     },
     "execution_count": 86,
     "metadata": {},
     "output_type": "execute_result"
    }
   ],
   "source": [
    "scaled_run_time"
   ]
  },
  {
   "cell_type": "code",
   "execution_count": 87,
   "id": "persistent-dayton",
   "metadata": {},
   "outputs": [],
   "source": [
    "run_time_df = pd.DataFrame(scaled_run_time)"
   ]
  },
  {
   "cell_type": "code",
   "execution_count": 88,
   "id": "desirable-debut",
   "metadata": {},
   "outputs": [
    {
     "data": {
      "text/plain": [
       "(0.000004    14013\n",
       " 0.000002     9191\n",
       " 0.000000     8246\n",
       " 0.000006     3067\n",
       " 0.000020     2017\n",
       "             ...  \n",
       " 0.100018        1\n",
       " 0.100032        1\n",
       " 0.100056        1\n",
       " 0.100058        1\n",
       " 1.000000        1\n",
       " Length: 73176, dtype: int64,\n",
       " 0    0.0\n",
       " dtype: float64,\n",
       " 0    1.0\n",
       " dtype: float64)"
      ]
     },
     "execution_count": 88,
     "metadata": {},
     "output_type": "execute_result"
    }
   ],
   "source": [
    "run_time_df.value_counts(), run_time_df.min(), run_time_df.max()"
   ]
  },
  {
   "cell_type": "code",
   "execution_count": 89,
   "id": "eight-virtue",
   "metadata": {},
   "outputs": [
    {
     "data": {
      "text/plain": [
       "array([[<AxesSubplot:title={'center':'0'}>]], dtype=object)"
      ]
     },
     "execution_count": 89,
     "metadata": {},
     "output_type": "execute_result"
    },
    {
     "data": {
      "image/png": "[encoded data removed]",
      "text/plain": [
       "<Figure size 640x480 with 1 Axes>"
      ]
     },
     "metadata": {},
     "output_type": "display_data"
    }
   ],
   "source": [
    "run_time_df.hist(bins=[0.0, 0.1, 0.2, 0.3, 0.4, 0.5, 0.6, 0.7, 0.8, 0.9, 1.0])"
   ]
  },
  {
   "cell_type": "markdown",
   "id": "crude-prior",
   "metadata": {},
   "source": [
    "## Scaling done"
   ]
  },
  {
   "cell_type": "code",
   "execution_count": 108,
   "id": "applied-monday",
   "metadata": {},
   "outputs": [],
   "source": [
    "import numpy as np"
   ]
  },
  {
   "cell_type": "code",
   "execution_count": 109,
   "id": "lesser-tournament",
   "metadata": {},
   "outputs": [],
   "source": [
    "npa = np.array(scaled_run_time)"
   ]
  },
  {
   "cell_type": "code",
   "execution_count": 118,
   "id": "amber-running",
   "metadata": {},
   "outputs": [
    {
     "data": {
      "text/plain": [
       "array([[2.74356693e-01],\n",
       "       [2.17952554e-05],\n",
       "       [3.98660979e-01],\n",
       "       [3.90303489e-01],\n",
       "       [3.86766713e-02],\n",
       "       [9.11437952e-05],\n",
       "       [4.16091239e-05],\n",
       "       [3.91979742e-01],\n",
       "       [3.91684516e-01],\n",
       "       [3.91426935e-01],\n",
       "       [3.91313996e-01]])"
      ]
     },
     "execution_count": 118,
     "metadata": {},
     "output_type": "execute_result"
    }
   ],
   "source": [
    "npa[0:11]"
   ]
  },
  {
   "cell_type": "code",
   "execution_count": 111,
   "id": "integrated-fancy",
   "metadata": {},
   "outputs": [
    {
     "name": "stdout",
     "output_type": "stream",
     "text": [
      "Testing data length is:  10 :  [array([[2.74356693e-01],\n",
      "       [2.17952554e-05],\n",
      "       [3.98660979e-01],\n",
      "       [3.90303489e-01],\n",
      "       [3.86766713e-02],\n",
      "       [9.11437952e-05],\n",
      "       [4.16091239e-05],\n",
      "       [3.91979742e-01],\n",
      "       [3.91684516e-01],\n",
      "       [3.91426935e-01]])]\n",
      "Training data length is:  1 :  [0.39131399631858327]\n"
     ]
    }
   ],
   "source": [
    "samples = 10\n",
    "steps = 1\n",
    "X = []\n",
    "Y = []\n",
    "\n",
    "for i in range(npa.shape[0] - samples):\n",
    "    X.append(npa[i:i+samples])\n",
    "    Y.append(npa[i+samples][0])\n",
    "    \n",
    "print(\"Testing data length is: \", len(X[0:1][0]), ': ', X[0:1])\n",
    "print(\"Training data length is: \", len(Y[0:1]), ': ', Y[0:1])"
   ]
  },
  {
   "cell_type": "code",
   "execution_count": 119,
   "id": "heard-celebration",
   "metadata": {},
   "outputs": [
    {
     "name": "stdout",
     "output_type": "stream",
     "text": [
      "Dimensions of X (329990, 10, 1) Dimensions of Y (329990,)\n",
      "Threshold is 296991\n"
     ]
    }
   ],
   "source": [
    "X = np.array(X)\n",
    "Y = np.array(Y)\n",
    "\n",
    "print('Dimensions of X', X.shape, 'Dimensions of Y', Y.shape)\n",
    "\n",
    "threshold = round(0.9 * X.shape[0])\n",
    "print('Threshold is', threshold)"
   ]
  },
  {
   "cell_type": "code",
   "execution_count": 127,
   "id": "substantial-rainbow",
   "metadata": {},
   "outputs": [
    {
     "data": {
      "text/plain": [
       "array([[3.86766713e-02],\n",
       "       [9.11437952e-05],\n",
       "       [4.16091239e-05],\n",
       "       [3.91979742e-01],\n",
       "       [3.91684516e-01],\n",
       "       [3.91426935e-01],\n",
       "       [3.91313996e-01],\n",
       "       [3.72480914e-02],\n",
       "       [4.16091239e-05],\n",
       "       [4.16091239e-05]])"
      ]
     },
     "execution_count": 127,
     "metadata": {},
     "output_type": "execute_result"
    }
   ],
   "source": [
    "X[4]"
   ]
  },
  {
   "cell_type": "code",
   "execution_count": 128,
   "id": "resistant-audio",
   "metadata": {},
   "outputs": [
    {
     "data": {
      "text/plain": [
       "array([3.91313996e-01, 3.72480914e-02, 4.16091239e-05, ...,\n",
       "       1.82287590e-04, 2.21915327e-04, 2.41729196e-04])"
      ]
     },
     "execution_count": 128,
     "metadata": {},
     "output_type": "execute_result"
    }
   ],
   "source": [
    "Y"
   ]
  },
  {
   "cell_type": "code",
   "execution_count": null,
   "id": "dressed-hygiene",
   "metadata": {},
   "outputs": [],
   "source": []
  },
  {
   "cell_type": "code",
   "execution_count": null,
   "id": "improving-region",
   "metadata": {},
   "outputs": [],
   "source": []
  },
  {
   "cell_type": "code",
   "execution_count": null,
   "id": "cleared-thompson",
   "metadata": {},
   "outputs": [],
   "source": []
  },
  {
   "cell_type": "code",
   "execution_count": null,
   "id": "sorted-familiar",
   "metadata": {},
   "outputs": [],
   "source": []
  },
  {
   "cell_type": "code",
   "execution_count": null,
   "id": "experimental-siemens",
   "metadata": {},
   "outputs": [],
   "source": []
  },
  {
   "cell_type": "code",
   "execution_count": null,
   "id": "unlike-eleven",
   "metadata": {},
   "outputs": [],
   "source": []
  },
  {
   "cell_type": "code",
   "execution_count": null,
   "id": "authorized-decrease",
   "metadata": {},
   "outputs": [],
   "source": []
  },
  {
   "cell_type": "code",
   "execution_count": 135,
   "id": "temporal-neighbor",
   "metadata": {},
   "outputs": [],
   "source": [
    "import tensorflow as tf\n",
    "from tensorflow import keras\n",
    "from tensorflow.keras import layers\n",
    "from tensorflow.keras.models import Sequential\n",
    "from tensorflow.keras.layers import SimpleRNN, Dense"
   ]
  },
  {
   "cell_type": "code",
   "execution_count": 136,
   "id": "automatic-omaha",
   "metadata": {},
   "outputs": [],
   "source": [
    "model = keras.Sequential()"
   ]
  },
  {
   "cell_type": "code",
   "execution_count": 137,
   "id": "earlier-quick",
   "metadata": {},
   "outputs": [],
   "source": [
    "model.add(layers.SimpleRNN(20, use_bias=True,input_shape=([None, 1])))"
   ]
  },
  {
   "cell_type": "code",
   "execution_count": 138,
   "id": "varied-motion",
   "metadata": {},
   "outputs": [],
   "source": [
    "model.add(layers.Dense(1))"
   ]
  },
  {
   "cell_type": "code",
   "execution_count": 139,
   "id": "paperback-singing",
   "metadata": {},
   "outputs": [],
   "source": [
    "model.compile(loss='mean_squared_error', optimizer='adam')"
   ]
  },
  {
   "cell_type": "code",
   "execution_count": 140,
   "id": "correct-greene",
   "metadata": {},
   "outputs": [
    {
     "data": {
      "text/html": [
       "<pre style=\"white-space:pre;overflow-x:auto;line-height:normal;font-family:Menlo,'DejaVu Sans Mono',consolas,'Courier New',monospace\"><span style=\"font-weight: bold\">Model: \"sequential_4\"</span>\n",
       "</pre>\n"
      ],
      "text/plain": [
       "\u001b[1mModel: \"sequential_4\"\u001b[0m\n"
      ]
     },
     "metadata": {},
     "output_type": "display_data"
    },
    {
     "data": {
      "text/html": [
       "<pre style=\"white-space:pre;overflow-x:auto;line-height:normal;font-family:Menlo,'DejaVu Sans Mono',consolas,'Courier New',monospace\">┏━━━━━━━━━━━━━━━━━━━━━━━━━━━━━━━━━━━━┳━━━━━━━━━━━━━━━━━━━━━━━━━━━━━━━┳━━━━━━━━━━━━━┓\n",
       "┃<span style=\"font-weight: bold\"> Layer (type)                       </span>┃<span style=\"font-weight: bold\"> Output Shape                  </span>┃<span style=\"font-weight: bold\">     Param # </span>┃\n",
       "┡━━━━━━━━━━━━━━━━━━━━━━━━━━━━━━━━━━━━╇━━━━━━━━━━━━━━━━━━━━━━━━━━━━━━━╇━━━━━━━━━━━━━┩\n",
       "│ simple_rnn_3 (<span style=\"color: #0087ff; text-decoration-color: #0087ff\">SimpleRNN</span>)           │ (<span style=\"color: #00d7ff; text-decoration-color: #00d7ff\">None</span>, <span style=\"color: #00af00; text-decoration-color: #00af00\">20</span>)                    │         <span style=\"color: #00af00; text-decoration-color: #00af00\">440</span> │\n",
       "├────────────────────────────────────┼───────────────────────────────┼─────────────┤\n",
       "│ dense_3 (<span style=\"color: #0087ff; text-decoration-color: #0087ff\">Dense</span>)                    │ (<span style=\"color: #00d7ff; text-decoration-color: #00d7ff\">None</span>, <span style=\"color: #00af00; text-decoration-color: #00af00\">1</span>)                     │          <span style=\"color: #00af00; text-decoration-color: #00af00\">21</span> │\n",
       "└────────────────────────────────────┴───────────────────────────────┴─────────────┘\n",
       "</pre>\n"
      ],
      "text/plain": [
       "┏━━━━━━━━━━━━━━━━━━━━━━━━━━━━━━━━━━━━┳━━━━━━━━━━━━━━━━━━━━━━━━━━━━━━━┳━━━━━━━━━━━━━┓\n",
       "┃\u001b[1m \u001b[0m\u001b[1mLayer (type)                      \u001b[0m\u001b[1m \u001b[0m┃\u001b[1m \u001b[0m\u001b[1mOutput Shape                 \u001b[0m\u001b[1m \u001b[0m┃\u001b[1m \u001b[0m\u001b[1m    Param #\u001b[0m\u001b[1m \u001b[0m┃\n",
       "┡━━━━━━━━━━━━━━━━━━━━━━━━━━━━━━━━━━━━╇━━━━━━━━━━━━━━━━━━━━━━━━━━━━━━━╇━━━━━━━━━━━━━┩\n",
       "│ simple_rnn_3 (\u001b[38;5;33mSimpleRNN\u001b[0m)           │ (\u001b[38;5;45mNone\u001b[0m, \u001b[38;5;34m20\u001b[0m)                    │         \u001b[38;5;34m440\u001b[0m │\n",
       "├────────────────────────────────────┼───────────────────────────────┼─────────────┤\n",
       "│ dense_3 (\u001b[38;5;33mDense\u001b[0m)                    │ (\u001b[38;5;45mNone\u001b[0m, \u001b[38;5;34m1\u001b[0m)                     │          \u001b[38;5;34m21\u001b[0m │\n",
       "└────────────────────────────────────┴───────────────────────────────┴─────────────┘\n"
      ]
     },
     "metadata": {},
     "output_type": "display_data"
    },
    {
     "data": {
      "text/html": [
       "<pre style=\"white-space:pre;overflow-x:auto;line-height:normal;font-family:Menlo,'DejaVu Sans Mono',consolas,'Courier New',monospace\"><span style=\"font-weight: bold\"> Total params: </span><span style=\"color: #00af00; text-decoration-color: #00af00\">461</span> (1.80 KB)\n",
       "</pre>\n"
      ],
      "text/plain": [
       "\u001b[1m Total params: \u001b[0m\u001b[38;5;34m461\u001b[0m (1.80 KB)\n"
      ]
     },
     "metadata": {},
     "output_type": "display_data"
    },
    {
     "data": {
      "text/html": [
       "<pre style=\"white-space:pre;overflow-x:auto;line-height:normal;font-family:Menlo,'DejaVu Sans Mono',consolas,'Courier New',monospace\"><span style=\"font-weight: bold\"> Trainable params: </span><span style=\"color: #00af00; text-decoration-color: #00af00\">461</span> (1.80 KB)\n",
       "</pre>\n"
      ],
      "text/plain": [
       "\u001b[1m Trainable params: \u001b[0m\u001b[38;5;34m461\u001b[0m (1.80 KB)\n"
      ]
     },
     "metadata": {},
     "output_type": "display_data"
    },
    {
     "data": {
      "text/html": [
       "<pre style=\"white-space:pre;overflow-x:auto;line-height:normal;font-family:Menlo,'DejaVu Sans Mono',consolas,'Courier New',monospace\"><span style=\"font-weight: bold\"> Non-trainable params: </span><span style=\"color: #00af00; text-decoration-color: #00af00\">0</span> (0.00 B)\n",
       "</pre>\n"
      ],
      "text/plain": [
       "\u001b[1m Non-trainable params: \u001b[0m\u001b[38;5;34m0\u001b[0m (0.00 B)\n"
      ]
     },
     "metadata": {},
     "output_type": "display_data"
    }
   ],
   "source": [
    "model.summary()"
   ]
  },
  {
   "cell_type": "code",
   "execution_count": 141,
   "id": "arctic-blogger",
   "metadata": {},
   "outputs": [
    {
     "name": "stdout",
     "output_type": "stream",
     "text": [
      "Epoch 1/10\n",
      "\u001b[1m7425/7425\u001b[0m \u001b[32m━━━━━━━━━━━━━━━━━━━━\u001b[0m\u001b[37m\u001b[0m \u001b[1m17s\u001b[0m 2ms/step - loss: 0.0024 - val_loss: 0.0036\n",
      "Epoch 2/10\n",
      "\u001b[1m7425/7425\u001b[0m \u001b[32m━━━━━━━━━━━━━━━━━━━━\u001b[0m\u001b[37m\u001b[0m \u001b[1m14s\u001b[0m 2ms/step - loss: 0.0023 - val_loss: 0.0035\n",
      "Epoch 3/10\n",
      "\u001b[1m7425/7425\u001b[0m \u001b[32m━━━━━━━━━━━━━━━━━━━━\u001b[0m\u001b[37m\u001b[0m \u001b[1m14s\u001b[0m 2ms/step - loss: 0.0023 - val_loss: 0.0035\n",
      "Epoch 4/10\n",
      "\u001b[1m7425/7425\u001b[0m \u001b[32m━━━━━━━━━━━━━━━━━━━━\u001b[0m\u001b[37m\u001b[0m \u001b[1m14s\u001b[0m 2ms/step - loss: 0.0022 - val_loss: 0.0035\n",
      "Epoch 5/10\n",
      "\u001b[1m7425/7425\u001b[0m \u001b[32m━━━━━━━━━━━━━━━━━━━━\u001b[0m\u001b[37m\u001b[0m \u001b[1m14s\u001b[0m 2ms/step - loss: 0.0022 - val_loss: 0.0035\n",
      "Epoch 6/10\n",
      "\u001b[1m7425/7425\u001b[0m \u001b[32m━━━━━━━━━━━━━━━━━━━━\u001b[0m\u001b[37m\u001b[0m \u001b[1m15s\u001b[0m 2ms/step - loss: 0.0022 - val_loss: 0.0034\n",
      "Epoch 7/10\n",
      "\u001b[1m7425/7425\u001b[0m \u001b[32m━━━━━━━━━━━━━━━━━━━━\u001b[0m\u001b[37m\u001b[0m \u001b[1m15s\u001b[0m 2ms/step - loss: 0.0022 - val_loss: 0.0034\n",
      "Epoch 8/10\n",
      "\u001b[1m7425/7425\u001b[0m \u001b[32m━━━━━━━━━━━━━━━━━━━━\u001b[0m\u001b[37m\u001b[0m \u001b[1m15s\u001b[0m 2ms/step - loss: 0.0022 - val_loss: 0.0034\n",
      "Epoch 9/10\n",
      "\u001b[1m7425/7425\u001b[0m \u001b[32m━━━━━━━━━━━━━━━━━━━━\u001b[0m\u001b[37m\u001b[0m \u001b[1m14s\u001b[0m 2ms/step - loss: 0.0022 - val_loss: 0.0034\n",
      "Epoch 10/10\n",
      "\u001b[1m7425/7425\u001b[0m \u001b[32m━━━━━━━━━━━━━━━━━━━━\u001b[0m\u001b[37m\u001b[0m \u001b[1m15s\u001b[0m 2ms/step - loss: 0.0022 - val_loss: 0.0034\n"
     ]
    }
   ],
   "source": [
    "history = model.fit(X[:threshold],\n",
    "                    Y[:threshold],\n",
    "                    shuffle=False,\n",
    "                    epochs=10,\n",
    "                    batch_size=32,\n",
    "                    validation_split=0.2,\n",
    "                    verbose=1)"
   ]
  },
  {
   "cell_type": "code",
   "execution_count": null,
   "id": "driving-consciousness",
   "metadata": {},
   "outputs": [],
   "source": []
  }
 ],
 "metadata": {
  "kernelspec": {
   "display_name": "Python 3 (ipykernel)",
   "language": "python",
   "name": "python3"
  },
  "language_info": {
   "codemirror_mode": {
    "name": "ipython",
    "version": 3
   },
   "file_extension": ".py",
   "mimetype": "text/x-python",
   "name": "python",
   "nbconvert_exporter": "python",
   "pygments_lexer": "ipython3",
   "version": "3.9.1"
  }
 },
 "nbformat": 4,
 "nbformat_minor": 5
}
