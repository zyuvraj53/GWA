{
 "cells": [
  {
   "cell_type": "code",
   "execution_count": 1,
   "id": "improved-island",
   "metadata": {},
   "outputs": [],
   "source": [
    "import pandas as pd"
   ]
  },
  {
   "cell_type": "code",
   "execution_count": 2,
   "id": "understanding-testing",
   "metadata": {},
   "outputs": [],
   "source": [
    "df = pd.read_csv('processes_datasets.csv')"
   ]
  },
  {
   "cell_type": "code",
   "execution_count": 3,
   "id": "variable-circular",
   "metadata": {},
   "outputs": [
    {
     "data": {
      "text/html": [
       "<div>\n",
       "<style scoped>\n",
       "    .dataframe tbody tr th:only-of-type {\n",
       "        vertical-align: middle;\n",
       "    }\n",
       "\n",
       "    .dataframe tbody tr th {\n",
       "        vertical-align: top;\n",
       "    }\n",
       "\n",
       "    .dataframe thead th {\n",
       "        text-align: right;\n",
       "    }\n",
       "</style>\n",
       "<table border=\"1\" class=\"dataframe\">\n",
       "  <thead>\n",
       "    <tr style=\"text-align: right;\">\n",
       "      <th></th>\n",
       "      <th>JobID</th>\n",
       "      <th>SubmitTime</th>\n",
       "      <th>WaitTime</th>\n",
       "      <th>RunTime</th>\n",
       "      <th>NProcs</th>\n",
       "      <th>AverageCPUTimeUsed</th>\n",
       "      <th>Used Memory</th>\n",
       "      <th>ReqNProcs</th>\n",
       "      <th>ReqTime:</th>\n",
       "      <th>ReqMemory</th>\n",
       "      <th>...</th>\n",
       "      <th>JobStructureParams</th>\n",
       "      <th>UsedNetwork</th>\n",
       "      <th>UsedLocalDiskSpace</th>\n",
       "      <th>UsedResources</th>\n",
       "      <th>ReqPlatform</th>\n",
       "      <th>ReqNetwork</th>\n",
       "      <th>ReqLocalDiskSpace</th>\n",
       "      <th>ReqResources</th>\n",
       "      <th>VOID</th>\n",
       "      <th>ProjectID</th>\n",
       "    </tr>\n",
       "  </thead>\n",
       "  <tbody>\n",
       "    <tr>\n",
       "      <th>0</th>\n",
       "      <td>1</td>\n",
       "      <td>1136070024</td>\n",
       "      <td>203761</td>\n",
       "      <td>138467</td>\n",
       "      <td>1</td>\n",
       "      <td>138371</td>\n",
       "      <td>98652</td>\n",
       "      <td>1</td>\n",
       "      <td>259200</td>\n",
       "      <td>-1</td>\n",
       "      <td>...</td>\n",
       "      <td>-1</td>\n",
       "      <td>-1</td>\n",
       "      <td>-1</td>\n",
       "      <td>-1</td>\n",
       "      <td>-1</td>\n",
       "      <td>-1</td>\n",
       "      <td>-1</td>\n",
       "      <td>-1</td>\n",
       "      <td>-1</td>\n",
       "      <td>-1</td>\n",
       "    </tr>\n",
       "    <tr>\n",
       "      <th>1</th>\n",
       "      <td>2</td>\n",
       "      <td>1136070690</td>\n",
       "      <td>0</td>\n",
       "      <td>11</td>\n",
       "      <td>1</td>\n",
       "      <td>4</td>\n",
       "      <td>35848</td>\n",
       "      <td>1</td>\n",
       "      <td>259200</td>\n",
       "      <td>-1</td>\n",
       "      <td>...</td>\n",
       "      <td>-1</td>\n",
       "      <td>-1</td>\n",
       "      <td>-1</td>\n",
       "      <td>-1</td>\n",
       "      <td>-1</td>\n",
       "      <td>-1</td>\n",
       "      <td>-1</td>\n",
       "      <td>-1</td>\n",
       "      <td>-1</td>\n",
       "      <td>-1</td>\n",
       "    </tr>\n",
       "    <tr>\n",
       "      <th>2</th>\n",
       "      <td>3</td>\n",
       "      <td>1136071207</td>\n",
       "      <td>117</td>\n",
       "      <td>201203</td>\n",
       "      <td>1</td>\n",
       "      <td>0</td>\n",
       "      <td>0</td>\n",
       "      <td>1</td>\n",
       "      <td>259200</td>\n",
       "      <td>-1</td>\n",
       "      <td>...</td>\n",
       "      <td>-1</td>\n",
       "      <td>-1</td>\n",
       "      <td>-1</td>\n",
       "      <td>-1</td>\n",
       "      <td>-1</td>\n",
       "      <td>-1</td>\n",
       "      <td>-1</td>\n",
       "      <td>-1</td>\n",
       "      <td>-1</td>\n",
       "      <td>-1</td>\n",
       "    </tr>\n",
       "    <tr>\n",
       "      <th>3</th>\n",
       "      <td>4</td>\n",
       "      <td>1136071267</td>\n",
       "      <td>4406</td>\n",
       "      <td>196985</td>\n",
       "      <td>1</td>\n",
       "      <td>0</td>\n",
       "      <td>0</td>\n",
       "      <td>1</td>\n",
       "      <td>259200</td>\n",
       "      <td>-1</td>\n",
       "      <td>...</td>\n",
       "      <td>-1</td>\n",
       "      <td>-1</td>\n",
       "      <td>-1</td>\n",
       "      <td>-1</td>\n",
       "      <td>-1</td>\n",
       "      <td>-1</td>\n",
       "      <td>-1</td>\n",
       "      <td>-1</td>\n",
       "      <td>-1</td>\n",
       "      <td>-1</td>\n",
       "    </tr>\n",
       "    <tr>\n",
       "      <th>4</th>\n",
       "      <td>5</td>\n",
       "      <td>1136071269</td>\n",
       "      <td>202516</td>\n",
       "      <td>19520</td>\n",
       "      <td>1</td>\n",
       "      <td>18731</td>\n",
       "      <td>522268</td>\n",
       "      <td>1</td>\n",
       "      <td>259200</td>\n",
       "      <td>-1</td>\n",
       "      <td>...</td>\n",
       "      <td>-1</td>\n",
       "      <td>-1</td>\n",
       "      <td>-1</td>\n",
       "      <td>-1</td>\n",
       "      <td>-1</td>\n",
       "      <td>-1</td>\n",
       "      <td>-1</td>\n",
       "      <td>-1</td>\n",
       "      <td>-1</td>\n",
       "      <td>-1</td>\n",
       "    </tr>\n",
       "    <tr>\n",
       "      <th>...</th>\n",
       "      <td>...</td>\n",
       "      <td>...</td>\n",
       "      <td>...</td>\n",
       "      <td>...</td>\n",
       "      <td>...</td>\n",
       "      <td>...</td>\n",
       "      <td>...</td>\n",
       "      <td>...</td>\n",
       "      <td>...</td>\n",
       "      <td>...</td>\n",
       "      <td>...</td>\n",
       "      <td>...</td>\n",
       "      <td>...</td>\n",
       "      <td>...</td>\n",
       "      <td>...</td>\n",
       "      <td>...</td>\n",
       "      <td>...</td>\n",
       "      <td>...</td>\n",
       "      <td>...</td>\n",
       "      <td>...</td>\n",
       "      <td>...</td>\n",
       "    </tr>\n",
       "    <tr>\n",
       "      <th>404171</th>\n",
       "      <td>404172</td>\n",
       "      <td>1167603618</td>\n",
       "      <td>2</td>\n",
       "      <td>56</td>\n",
       "      <td>1</td>\n",
       "      <td>18</td>\n",
       "      <td>0</td>\n",
       "      <td>1</td>\n",
       "      <td>259200</td>\n",
       "      <td>-1</td>\n",
       "      <td>...</td>\n",
       "      <td>-1</td>\n",
       "      <td>-1</td>\n",
       "      <td>-1</td>\n",
       "      <td>-1</td>\n",
       "      <td>-1</td>\n",
       "      <td>-1</td>\n",
       "      <td>-1</td>\n",
       "      <td>-1</td>\n",
       "      <td>-1</td>\n",
       "      <td>-1</td>\n",
       "    </tr>\n",
       "    <tr>\n",
       "      <th>404172</th>\n",
       "      <td>404173</td>\n",
       "      <td>1167603624</td>\n",
       "      <td>1</td>\n",
       "      <td>57</td>\n",
       "      <td>1</td>\n",
       "      <td>17</td>\n",
       "      <td>61084</td>\n",
       "      <td>1</td>\n",
       "      <td>259200</td>\n",
       "      <td>-1</td>\n",
       "      <td>...</td>\n",
       "      <td>-1</td>\n",
       "      <td>-1</td>\n",
       "      <td>-1</td>\n",
       "      <td>-1</td>\n",
       "      <td>-1</td>\n",
       "      <td>-1</td>\n",
       "      <td>-1</td>\n",
       "      <td>-1</td>\n",
       "      <td>-1</td>\n",
       "      <td>-1</td>\n",
       "    </tr>\n",
       "    <tr>\n",
       "      <th>404173</th>\n",
       "      <td>404174</td>\n",
       "      <td>1167603637</td>\n",
       "      <td>1</td>\n",
       "      <td>45</td>\n",
       "      <td>1</td>\n",
       "      <td>17</td>\n",
       "      <td>0</td>\n",
       "      <td>1</td>\n",
       "      <td>259200</td>\n",
       "      <td>-1</td>\n",
       "      <td>...</td>\n",
       "      <td>-1</td>\n",
       "      <td>-1</td>\n",
       "      <td>-1</td>\n",
       "      <td>-1</td>\n",
       "      <td>-1</td>\n",
       "      <td>-1</td>\n",
       "      <td>-1</td>\n",
       "      <td>-1</td>\n",
       "      <td>-1</td>\n",
       "      <td>-1</td>\n",
       "    </tr>\n",
       "    <tr>\n",
       "      <th>404174</th>\n",
       "      <td>404175</td>\n",
       "      <td>1167603747</td>\n",
       "      <td>1</td>\n",
       "      <td>43</td>\n",
       "      <td>1</td>\n",
       "      <td>17</td>\n",
       "      <td>0</td>\n",
       "      <td>1</td>\n",
       "      <td>259200</td>\n",
       "      <td>-1</td>\n",
       "      <td>...</td>\n",
       "      <td>-1</td>\n",
       "      <td>-1</td>\n",
       "      <td>-1</td>\n",
       "      <td>-1</td>\n",
       "      <td>-1</td>\n",
       "      <td>-1</td>\n",
       "      <td>-1</td>\n",
       "      <td>-1</td>\n",
       "      <td>-1</td>\n",
       "      <td>-1</td>\n",
       "    </tr>\n",
       "    <tr>\n",
       "      <th>404175</th>\n",
       "      <td>404176</td>\n",
       "      <td>1167605790</td>\n",
       "      <td>52</td>\n",
       "      <td>-1</td>\n",
       "      <td>0</td>\n",
       "      <td>-1</td>\n",
       "      <td>-1</td>\n",
       "      <td>1</td>\n",
       "      <td>-1</td>\n",
       "      <td>-1</td>\n",
       "      <td>...</td>\n",
       "      <td>-1</td>\n",
       "      <td>-1</td>\n",
       "      <td>-1</td>\n",
       "      <td>-1</td>\n",
       "      <td>-1</td>\n",
       "      <td>-1</td>\n",
       "      <td>-1</td>\n",
       "      <td>-1</td>\n",
       "      <td>-1</td>\n",
       "      <td>-1</td>\n",
       "    </tr>\n",
       "  </tbody>\n",
       "</table>\n",
       "<p>404176 rows × 29 columns</p>\n",
       "</div>"
      ],
      "text/plain": [
       "         JobID  SubmitTime  WaitTime  RunTime   NProcs  AverageCPUTimeUsed  \\\n",
       "0            1  1136070024    203761    138467       1              138371   \n",
       "1            2  1136070690         0        11       1                   4   \n",
       "2            3  1136071207       117    201203       1                   0   \n",
       "3            4  1136071267      4406    196985       1                   0   \n",
       "4            5  1136071269    202516     19520       1               18731   \n",
       "...        ...         ...       ...       ...     ...                 ...   \n",
       "404171  404172  1167603618         2        56       1                  18   \n",
       "404172  404173  1167603624         1        57       1                  17   \n",
       "404173  404174  1167603637         1        45       1                  17   \n",
       "404174  404175  1167603747         1        43       1                  17   \n",
       "404175  404176  1167605790        52        -1       0                  -1   \n",
       "\n",
       "        Used Memory  ReqNProcs  ReqTime:   ReqMemory  ...  JobStructureParams  \\\n",
       "0             98652          1     259200         -1  ...                  -1   \n",
       "1             35848          1     259200         -1  ...                  -1   \n",
       "2                 0          1     259200         -1  ...                  -1   \n",
       "3                 0          1     259200         -1  ...                  -1   \n",
       "4            522268          1     259200         -1  ...                  -1   \n",
       "...             ...        ...        ...        ...  ...                 ...   \n",
       "404171            0          1     259200         -1  ...                  -1   \n",
       "404172        61084          1     259200         -1  ...                  -1   \n",
       "404173            0          1     259200         -1  ...                  -1   \n",
       "404174            0          1     259200         -1  ...                  -1   \n",
       "404175           -1          1         -1         -1  ...                  -1   \n",
       "\n",
       "       UsedNetwork UsedLocalDiskSpace UsedResources ReqPlatform  ReqNetwork  \\\n",
       "0               -1                 -1            -1          -1          -1   \n",
       "1               -1                 -1            -1          -1          -1   \n",
       "2               -1                 -1            -1          -1          -1   \n",
       "3               -1                 -1            -1          -1          -1   \n",
       "4               -1                 -1            -1          -1          -1   \n",
       "...            ...                ...           ...         ...         ...   \n",
       "404171          -1                 -1            -1          -1          -1   \n",
       "404172          -1                 -1            -1          -1          -1   \n",
       "404173          -1                 -1            -1          -1          -1   \n",
       "404174          -1                 -1            -1          -1          -1   \n",
       "404175          -1                 -1            -1          -1          -1   \n",
       "\n",
       "       ReqLocalDiskSpace ReqResources  VOID  ProjectID  \n",
       "0                     -1           -1    -1         -1  \n",
       "1                     -1           -1    -1         -1  \n",
       "2                     -1           -1    -1         -1  \n",
       "3                     -1           -1    -1         -1  \n",
       "4                     -1           -1    -1         -1  \n",
       "...                  ...          ...   ...        ...  \n",
       "404171                -1           -1    -1         -1  \n",
       "404172                -1           -1    -1         -1  \n",
       "404173                -1           -1    -1         -1  \n",
       "404174                -1           -1    -1         -1  \n",
       "404175                -1           -1    -1         -1  \n",
       "\n",
       "[404176 rows x 29 columns]"
      ]
     },
     "execution_count": 3,
     "metadata": {},
     "output_type": "execute_result"
    }
   ],
   "source": [
    "df"
   ]
  },
  {
   "cell_type": "code",
   "execution_count": 4,
   "id": "addressed-strategy",
   "metadata": {},
   "outputs": [],
   "source": [
    "df = df.iloc[0:, [1, 2, 3, 5, 6, 8]].copy()"
   ]
  },
  {
   "cell_type": "code",
   "execution_count": 5,
   "id": "raising-delicious",
   "metadata": {},
   "outputs": [
    {
     "data": {
      "text/html": [
       "<div>\n",
       "<style scoped>\n",
       "    .dataframe tbody tr th:only-of-type {\n",
       "        vertical-align: middle;\n",
       "    }\n",
       "\n",
       "    .dataframe tbody tr th {\n",
       "        vertical-align: top;\n",
       "    }\n",
       "\n",
       "    .dataframe thead th {\n",
       "        text-align: right;\n",
       "    }\n",
       "</style>\n",
       "<table border=\"1\" class=\"dataframe\">\n",
       "  <thead>\n",
       "    <tr style=\"text-align: right;\">\n",
       "      <th></th>\n",
       "      <th>SubmitTime</th>\n",
       "      <th>WaitTime</th>\n",
       "      <th>RunTime</th>\n",
       "      <th>AverageCPUTimeUsed</th>\n",
       "      <th>Used Memory</th>\n",
       "      <th>ReqTime:</th>\n",
       "    </tr>\n",
       "  </thead>\n",
       "  <tbody>\n",
       "    <tr>\n",
       "      <th>0</th>\n",
       "      <td>1136070024</td>\n",
       "      <td>203761</td>\n",
       "      <td>138467</td>\n",
       "      <td>138371</td>\n",
       "      <td>98652</td>\n",
       "      <td>259200</td>\n",
       "    </tr>\n",
       "    <tr>\n",
       "      <th>1</th>\n",
       "      <td>1136070690</td>\n",
       "      <td>0</td>\n",
       "      <td>11</td>\n",
       "      <td>4</td>\n",
       "      <td>35848</td>\n",
       "      <td>259200</td>\n",
       "    </tr>\n",
       "    <tr>\n",
       "      <th>2</th>\n",
       "      <td>1136071207</td>\n",
       "      <td>117</td>\n",
       "      <td>201203</td>\n",
       "      <td>0</td>\n",
       "      <td>0</td>\n",
       "      <td>259200</td>\n",
       "    </tr>\n",
       "    <tr>\n",
       "      <th>3</th>\n",
       "      <td>1136071267</td>\n",
       "      <td>4406</td>\n",
       "      <td>196985</td>\n",
       "      <td>0</td>\n",
       "      <td>0</td>\n",
       "      <td>259200</td>\n",
       "    </tr>\n",
       "    <tr>\n",
       "      <th>4</th>\n",
       "      <td>1136071269</td>\n",
       "      <td>202516</td>\n",
       "      <td>19520</td>\n",
       "      <td>18731</td>\n",
       "      <td>522268</td>\n",
       "      <td>259200</td>\n",
       "    </tr>\n",
       "    <tr>\n",
       "      <th>...</th>\n",
       "      <td>...</td>\n",
       "      <td>...</td>\n",
       "      <td>...</td>\n",
       "      <td>...</td>\n",
       "      <td>...</td>\n",
       "      <td>...</td>\n",
       "    </tr>\n",
       "    <tr>\n",
       "      <th>404171</th>\n",
       "      <td>1167603618</td>\n",
       "      <td>2</td>\n",
       "      <td>56</td>\n",
       "      <td>18</td>\n",
       "      <td>0</td>\n",
       "      <td>259200</td>\n",
       "    </tr>\n",
       "    <tr>\n",
       "      <th>404172</th>\n",
       "      <td>1167603624</td>\n",
       "      <td>1</td>\n",
       "      <td>57</td>\n",
       "      <td>17</td>\n",
       "      <td>61084</td>\n",
       "      <td>259200</td>\n",
       "    </tr>\n",
       "    <tr>\n",
       "      <th>404173</th>\n",
       "      <td>1167603637</td>\n",
       "      <td>1</td>\n",
       "      <td>45</td>\n",
       "      <td>17</td>\n",
       "      <td>0</td>\n",
       "      <td>259200</td>\n",
       "    </tr>\n",
       "    <tr>\n",
       "      <th>404174</th>\n",
       "      <td>1167603747</td>\n",
       "      <td>1</td>\n",
       "      <td>43</td>\n",
       "      <td>17</td>\n",
       "      <td>0</td>\n",
       "      <td>259200</td>\n",
       "    </tr>\n",
       "    <tr>\n",
       "      <th>404175</th>\n",
       "      <td>1167605790</td>\n",
       "      <td>52</td>\n",
       "      <td>-1</td>\n",
       "      <td>-1</td>\n",
       "      <td>-1</td>\n",
       "      <td>-1</td>\n",
       "    </tr>\n",
       "  </tbody>\n",
       "</table>\n",
       "<p>404176 rows × 6 columns</p>\n",
       "</div>"
      ],
      "text/plain": [
       "        SubmitTime  WaitTime  RunTime   AverageCPUTimeUsed  Used Memory  \\\n",
       "0       1136070024    203761    138467              138371        98652   \n",
       "1       1136070690         0        11                   4        35848   \n",
       "2       1136071207       117    201203                   0            0   \n",
       "3       1136071267      4406    196985                   0            0   \n",
       "4       1136071269    202516     19520               18731       522268   \n",
       "...            ...       ...       ...                 ...          ...   \n",
       "404171  1167603618         2        56                  18            0   \n",
       "404172  1167603624         1        57                  17        61084   \n",
       "404173  1167603637         1        45                  17            0   \n",
       "404174  1167603747         1        43                  17            0   \n",
       "404175  1167605790        52        -1                  -1           -1   \n",
       "\n",
       "        ReqTime:   \n",
       "0          259200  \n",
       "1          259200  \n",
       "2          259200  \n",
       "3          259200  \n",
       "4          259200  \n",
       "...           ...  \n",
       "404171     259200  \n",
       "404172     259200  \n",
       "404173     259200  \n",
       "404174     259200  \n",
       "404175         -1  \n",
       "\n",
       "[404176 rows x 6 columns]"
      ]
     },
     "execution_count": 5,
     "metadata": {},
     "output_type": "execute_result"
    }
   ],
   "source": [
    "df"
   ]
  },
  {
   "cell_type": "code",
   "execution_count": 6,
   "id": "pursuant-characteristic",
   "metadata": {},
   "outputs": [
    {
     "data": {
      "text/html": [
       "<div>\n",
       "<style scoped>\n",
       "    .dataframe tbody tr th:only-of-type {\n",
       "        vertical-align: middle;\n",
       "    }\n",
       "\n",
       "    .dataframe tbody tr th {\n",
       "        vertical-align: top;\n",
       "    }\n",
       "\n",
       "    .dataframe thead th {\n",
       "        text-align: right;\n",
       "    }\n",
       "</style>\n",
       "<table border=\"1\" class=\"dataframe\">\n",
       "  <thead>\n",
       "    <tr style=\"text-align: right;\">\n",
       "      <th></th>\n",
       "      <th>SubmitTime</th>\n",
       "      <th>WaitTime</th>\n",
       "      <th>RunTime</th>\n",
       "      <th>AverageCPUTimeUsed</th>\n",
       "      <th>Used Memory</th>\n",
       "      <th>ReqTime:</th>\n",
       "    </tr>\n",
       "  </thead>\n",
       "  <tbody>\n",
       "    <tr>\n",
       "      <th>SubmitTime</th>\n",
       "      <td>1.000000</td>\n",
       "      <td>0.049792</td>\n",
       "      <td>0.055988</td>\n",
       "      <td>0.051565</td>\n",
       "      <td>0.078524</td>\n",
       "      <td>-0.116449</td>\n",
       "    </tr>\n",
       "    <tr>\n",
       "      <th>WaitTime</th>\n",
       "      <td>0.049792</td>\n",
       "      <td>1.000000</td>\n",
       "      <td>0.082618</td>\n",
       "      <td>0.094106</td>\n",
       "      <td>0.037051</td>\n",
       "      <td>0.001670</td>\n",
       "    </tr>\n",
       "    <tr>\n",
       "      <th>RunTime</th>\n",
       "      <td>0.055988</td>\n",
       "      <td>0.082618</td>\n",
       "      <td>1.000000</td>\n",
       "      <td>0.864234</td>\n",
       "      <td>0.419717</td>\n",
       "      <td>0.274379</td>\n",
       "    </tr>\n",
       "    <tr>\n",
       "      <th>AverageCPUTimeUsed</th>\n",
       "      <td>0.051565</td>\n",
       "      <td>0.094106</td>\n",
       "      <td>0.864234</td>\n",
       "      <td>1.000000</td>\n",
       "      <td>0.447703</td>\n",
       "      <td>0.290692</td>\n",
       "    </tr>\n",
       "    <tr>\n",
       "      <th>Used Memory</th>\n",
       "      <td>0.078524</td>\n",
       "      <td>0.037051</td>\n",
       "      <td>0.419717</td>\n",
       "      <td>0.447703</td>\n",
       "      <td>1.000000</td>\n",
       "      <td>0.244945</td>\n",
       "    </tr>\n",
       "    <tr>\n",
       "      <th>ReqTime:</th>\n",
       "      <td>-0.116449</td>\n",
       "      <td>0.001670</td>\n",
       "      <td>0.274379</td>\n",
       "      <td>0.290692</td>\n",
       "      <td>0.244945</td>\n",
       "      <td>1.000000</td>\n",
       "    </tr>\n",
       "  </tbody>\n",
       "</table>\n",
       "</div>"
      ],
      "text/plain": [
       "                    SubmitTime  WaitTime  RunTime   AverageCPUTimeUsed  \\\n",
       "SubmitTime            1.000000  0.049792  0.055988            0.051565   \n",
       "WaitTime              0.049792  1.000000  0.082618            0.094106   \n",
       "RunTime               0.055988  0.082618  1.000000            0.864234   \n",
       "AverageCPUTimeUsed    0.051565  0.094106  0.864234            1.000000   \n",
       "Used Memory           0.078524  0.037051  0.419717            0.447703   \n",
       "ReqTime:             -0.116449  0.001670  0.274379            0.290692   \n",
       "\n",
       "                    Used Memory  ReqTime:   \n",
       "SubmitTime             0.078524  -0.116449  \n",
       "WaitTime               0.037051   0.001670  \n",
       "RunTime                0.419717   0.274379  \n",
       "AverageCPUTimeUsed     0.447703   0.290692  \n",
       "Used Memory            1.000000   0.244945  \n",
       "ReqTime:               0.244945   1.000000  "
      ]
     },
     "execution_count": 6,
     "metadata": {},
     "output_type": "execute_result"
    }
   ],
   "source": [
    "df.corr()"
   ]
  },
  {
   "cell_type": "code",
   "execution_count": 7,
   "id": "expanded-alfred",
   "metadata": {},
   "outputs": [],
   "source": [
    "df.columns = [\"submit_time\", 'wait_time', 'run_time', 'avg_cpu_time_used', 'used_mem', 'req_time']"
   ]
  },
  {
   "cell_type": "code",
   "execution_count": 8,
   "id": "modified-panel",
   "metadata": {
    "scrolled": false
   },
   "outputs": [
    {
     "data": {
      "text/html": [
       "<div>\n",
       "<style scoped>\n",
       "    .dataframe tbody tr th:only-of-type {\n",
       "        vertical-align: middle;\n",
       "    }\n",
       "\n",
       "    .dataframe tbody tr th {\n",
       "        vertical-align: top;\n",
       "    }\n",
       "\n",
       "    .dataframe thead th {\n",
       "        text-align: right;\n",
       "    }\n",
       "</style>\n",
       "<table border=\"1\" class=\"dataframe\">\n",
       "  <thead>\n",
       "    <tr style=\"text-align: right;\">\n",
       "      <th></th>\n",
       "      <th>submit_time</th>\n",
       "      <th>wait_time</th>\n",
       "      <th>run_time</th>\n",
       "      <th>avg_cpu_time_used</th>\n",
       "      <th>used_mem</th>\n",
       "      <th>req_time</th>\n",
       "    </tr>\n",
       "  </thead>\n",
       "  <tbody>\n",
       "    <tr>\n",
       "      <th>0</th>\n",
       "      <td>1136070024</td>\n",
       "      <td>203761</td>\n",
       "      <td>138467</td>\n",
       "      <td>138371</td>\n",
       "      <td>98652</td>\n",
       "      <td>259200</td>\n",
       "    </tr>\n",
       "    <tr>\n",
       "      <th>1</th>\n",
       "      <td>1136070690</td>\n",
       "      <td>0</td>\n",
       "      <td>11</td>\n",
       "      <td>4</td>\n",
       "      <td>35848</td>\n",
       "      <td>259200</td>\n",
       "    </tr>\n",
       "    <tr>\n",
       "      <th>2</th>\n",
       "      <td>1136071207</td>\n",
       "      <td>117</td>\n",
       "      <td>201203</td>\n",
       "      <td>0</td>\n",
       "      <td>0</td>\n",
       "      <td>259200</td>\n",
       "    </tr>\n",
       "    <tr>\n",
       "      <th>3</th>\n",
       "      <td>1136071267</td>\n",
       "      <td>4406</td>\n",
       "      <td>196985</td>\n",
       "      <td>0</td>\n",
       "      <td>0</td>\n",
       "      <td>259200</td>\n",
       "    </tr>\n",
       "    <tr>\n",
       "      <th>4</th>\n",
       "      <td>1136071269</td>\n",
       "      <td>202516</td>\n",
       "      <td>19520</td>\n",
       "      <td>18731</td>\n",
       "      <td>522268</td>\n",
       "      <td>259200</td>\n",
       "    </tr>\n",
       "    <tr>\n",
       "      <th>...</th>\n",
       "      <td>...</td>\n",
       "      <td>...</td>\n",
       "      <td>...</td>\n",
       "      <td>...</td>\n",
       "      <td>...</td>\n",
       "      <td>...</td>\n",
       "    </tr>\n",
       "    <tr>\n",
       "      <th>404171</th>\n",
       "      <td>1167603618</td>\n",
       "      <td>2</td>\n",
       "      <td>56</td>\n",
       "      <td>18</td>\n",
       "      <td>0</td>\n",
       "      <td>259200</td>\n",
       "    </tr>\n",
       "    <tr>\n",
       "      <th>404172</th>\n",
       "      <td>1167603624</td>\n",
       "      <td>1</td>\n",
       "      <td>57</td>\n",
       "      <td>17</td>\n",
       "      <td>61084</td>\n",
       "      <td>259200</td>\n",
       "    </tr>\n",
       "    <tr>\n",
       "      <th>404173</th>\n",
       "      <td>1167603637</td>\n",
       "      <td>1</td>\n",
       "      <td>45</td>\n",
       "      <td>17</td>\n",
       "      <td>0</td>\n",
       "      <td>259200</td>\n",
       "    </tr>\n",
       "    <tr>\n",
       "      <th>404174</th>\n",
       "      <td>1167603747</td>\n",
       "      <td>1</td>\n",
       "      <td>43</td>\n",
       "      <td>17</td>\n",
       "      <td>0</td>\n",
       "      <td>259200</td>\n",
       "    </tr>\n",
       "    <tr>\n",
       "      <th>404175</th>\n",
       "      <td>1167605790</td>\n",
       "      <td>52</td>\n",
       "      <td>-1</td>\n",
       "      <td>-1</td>\n",
       "      <td>-1</td>\n",
       "      <td>-1</td>\n",
       "    </tr>\n",
       "  </tbody>\n",
       "</table>\n",
       "<p>404176 rows × 6 columns</p>\n",
       "</div>"
      ],
      "text/plain": [
       "        submit_time  wait_time  run_time  avg_cpu_time_used  used_mem  \\\n",
       "0        1136070024     203761    138467             138371     98652   \n",
       "1        1136070690          0        11                  4     35848   \n",
       "2        1136071207        117    201203                  0         0   \n",
       "3        1136071267       4406    196985                  0         0   \n",
       "4        1136071269     202516     19520              18731    522268   \n",
       "...             ...        ...       ...                ...       ...   \n",
       "404171   1167603618          2        56                 18         0   \n",
       "404172   1167603624          1        57                 17     61084   \n",
       "404173   1167603637          1        45                 17         0   \n",
       "404174   1167603747          1        43                 17         0   \n",
       "404175   1167605790         52        -1                 -1        -1   \n",
       "\n",
       "        req_time  \n",
       "0         259200  \n",
       "1         259200  \n",
       "2         259200  \n",
       "3         259200  \n",
       "4         259200  \n",
       "...          ...  \n",
       "404171    259200  \n",
       "404172    259200  \n",
       "404173    259200  \n",
       "404174    259200  \n",
       "404175        -1  \n",
       "\n",
       "[404176 rows x 6 columns]"
      ]
     },
     "execution_count": 8,
     "metadata": {},
     "output_type": "execute_result"
    }
   ],
   "source": [
    "df"
   ]
  },
  {
   "cell_type": "code",
   "execution_count": 9,
   "id": "ruled-greene",
   "metadata": {},
   "outputs": [],
   "source": [
    "from matplotlib import pyplot as plt"
   ]
  },
  {
   "cell_type": "code",
   "execution_count": 10,
   "id": "electric-endorsement",
   "metadata": {},
   "outputs": [],
   "source": [
    "from sklearn.preprocessing import MinMaxScaler"
   ]
  },
  {
   "cell_type": "code",
   "execution_count": 11,
   "id": "informed-trouble",
   "metadata": {},
   "outputs": [],
   "source": [
    "scaler = MinMaxScaler(feature_range=(0,1))"
   ]
  },
  {
   "cell_type": "code",
   "execution_count": 12,
   "id": "durable-genius",
   "metadata": {},
   "outputs": [],
   "source": [
    "import numpy as np"
   ]
  },
  {
   "cell_type": "code",
   "execution_count": 13,
   "id": "amateur-ethnic",
   "metadata": {},
   "outputs": [],
   "source": [
    "import tensorflow as tf\n",
    "from tensorflow import keras\n",
    "from tensorflow.keras import layers\n",
    "from tensorflow.keras.models import Sequential\n",
    "from tensorflow.keras.layers import SimpleRNN, Dense"
   ]
  },
  {
   "cell_type": "markdown",
   "id": "imported-grade",
   "metadata": {},
   "source": [
    "# Multivariate RNN"
   ]
  },
  {
   "cell_type": "markdown",
   "id": "oriental-indication",
   "metadata": {},
   "source": [
    "### Cleaning Data"
   ]
  },
  {
   "cell_type": "code",
   "execution_count": 14,
   "id": "running-extension",
   "metadata": {},
   "outputs": [
    {
     "data": {
      "text/html": [
       "<div>\n",
       "<style scoped>\n",
       "    .dataframe tbody tr th:only-of-type {\n",
       "        vertical-align: middle;\n",
       "    }\n",
       "\n",
       "    .dataframe tbody tr th {\n",
       "        vertical-align: top;\n",
       "    }\n",
       "\n",
       "    .dataframe thead th {\n",
       "        text-align: right;\n",
       "    }\n",
       "</style>\n",
       "<table border=\"1\" class=\"dataframe\">\n",
       "  <thead>\n",
       "    <tr style=\"text-align: right;\">\n",
       "      <th></th>\n",
       "      <th>submit_time</th>\n",
       "      <th>wait_time</th>\n",
       "      <th>run_time</th>\n",
       "      <th>avg_cpu_time_used</th>\n",
       "      <th>used_mem</th>\n",
       "      <th>req_time</th>\n",
       "    </tr>\n",
       "  </thead>\n",
       "  <tbody>\n",
       "    <tr>\n",
       "      <th>0</th>\n",
       "      <td>1136070024</td>\n",
       "      <td>203761</td>\n",
       "      <td>138467</td>\n",
       "      <td>138371</td>\n",
       "      <td>98652</td>\n",
       "      <td>259200</td>\n",
       "    </tr>\n",
       "    <tr>\n",
       "      <th>1</th>\n",
       "      <td>1136070690</td>\n",
       "      <td>0</td>\n",
       "      <td>11</td>\n",
       "      <td>4</td>\n",
       "      <td>35848</td>\n",
       "      <td>259200</td>\n",
       "    </tr>\n",
       "    <tr>\n",
       "      <th>2</th>\n",
       "      <td>1136071207</td>\n",
       "      <td>117</td>\n",
       "      <td>201203</td>\n",
       "      <td>0</td>\n",
       "      <td>0</td>\n",
       "      <td>259200</td>\n",
       "    </tr>\n",
       "    <tr>\n",
       "      <th>3</th>\n",
       "      <td>1136071267</td>\n",
       "      <td>4406</td>\n",
       "      <td>196985</td>\n",
       "      <td>0</td>\n",
       "      <td>0</td>\n",
       "      <td>259200</td>\n",
       "    </tr>\n",
       "    <tr>\n",
       "      <th>4</th>\n",
       "      <td>1136071269</td>\n",
       "      <td>202516</td>\n",
       "      <td>19520</td>\n",
       "      <td>18731</td>\n",
       "      <td>522268</td>\n",
       "      <td>259200</td>\n",
       "    </tr>\n",
       "    <tr>\n",
       "      <th>...</th>\n",
       "      <td>...</td>\n",
       "      <td>...</td>\n",
       "      <td>...</td>\n",
       "      <td>...</td>\n",
       "      <td>...</td>\n",
       "      <td>...</td>\n",
       "    </tr>\n",
       "    <tr>\n",
       "      <th>404171</th>\n",
       "      <td>1167603618</td>\n",
       "      <td>2</td>\n",
       "      <td>56</td>\n",
       "      <td>18</td>\n",
       "      <td>0</td>\n",
       "      <td>259200</td>\n",
       "    </tr>\n",
       "    <tr>\n",
       "      <th>404172</th>\n",
       "      <td>1167603624</td>\n",
       "      <td>1</td>\n",
       "      <td>57</td>\n",
       "      <td>17</td>\n",
       "      <td>61084</td>\n",
       "      <td>259200</td>\n",
       "    </tr>\n",
       "    <tr>\n",
       "      <th>404173</th>\n",
       "      <td>1167603637</td>\n",
       "      <td>1</td>\n",
       "      <td>45</td>\n",
       "      <td>17</td>\n",
       "      <td>0</td>\n",
       "      <td>259200</td>\n",
       "    </tr>\n",
       "    <tr>\n",
       "      <th>404174</th>\n",
       "      <td>1167603747</td>\n",
       "      <td>1</td>\n",
       "      <td>43</td>\n",
       "      <td>17</td>\n",
       "      <td>0</td>\n",
       "      <td>259200</td>\n",
       "    </tr>\n",
       "    <tr>\n",
       "      <th>404175</th>\n",
       "      <td>1167605790</td>\n",
       "      <td>52</td>\n",
       "      <td>-1</td>\n",
       "      <td>-1</td>\n",
       "      <td>-1</td>\n",
       "      <td>-1</td>\n",
       "    </tr>\n",
       "  </tbody>\n",
       "</table>\n",
       "<p>404176 rows × 6 columns</p>\n",
       "</div>"
      ],
      "text/plain": [
       "        submit_time  wait_time  run_time  avg_cpu_time_used  used_mem  \\\n",
       "0        1136070024     203761    138467             138371     98652   \n",
       "1        1136070690          0        11                  4     35848   \n",
       "2        1136071207        117    201203                  0         0   \n",
       "3        1136071267       4406    196985                  0         0   \n",
       "4        1136071269     202516     19520              18731    522268   \n",
       "...             ...        ...       ...                ...       ...   \n",
       "404171   1167603618          2        56                 18         0   \n",
       "404172   1167603624          1        57                 17     61084   \n",
       "404173   1167603637          1        45                 17         0   \n",
       "404174   1167603747          1        43                 17         0   \n",
       "404175   1167605790         52        -1                 -1        -1   \n",
       "\n",
       "        req_time  \n",
       "0         259200  \n",
       "1         259200  \n",
       "2         259200  \n",
       "3         259200  \n",
       "4         259200  \n",
       "...          ...  \n",
       "404171    259200  \n",
       "404172    259200  \n",
       "404173    259200  \n",
       "404174    259200  \n",
       "404175        -1  \n",
       "\n",
       "[404176 rows x 6 columns]"
      ]
     },
     "execution_count": 14,
     "metadata": {},
     "output_type": "execute_result"
    }
   ],
   "source": [
    "df"
   ]
  },
  {
   "cell_type": "code",
   "execution_count": 15,
   "id": "wrong-hunger",
   "metadata": {},
   "outputs": [
    {
     "data": {
      "text/html": [
       "<div>\n",
       "<style scoped>\n",
       "    .dataframe tbody tr th:only-of-type {\n",
       "        vertical-align: middle;\n",
       "    }\n",
       "\n",
       "    .dataframe tbody tr th {\n",
       "        vertical-align: top;\n",
       "    }\n",
       "\n",
       "    .dataframe thead th {\n",
       "        text-align: right;\n",
       "    }\n",
       "</style>\n",
       "<table border=\"1\" class=\"dataframe\">\n",
       "  <thead>\n",
       "    <tr style=\"text-align: right;\">\n",
       "      <th></th>\n",
       "      <th>submit_time</th>\n",
       "      <th>wait_time</th>\n",
       "      <th>run_time</th>\n",
       "      <th>avg_cpu_time_used</th>\n",
       "      <th>used_mem</th>\n",
       "      <th>req_time</th>\n",
       "    </tr>\n",
       "  </thead>\n",
       "  <tbody>\n",
       "    <tr>\n",
       "      <th>submit_time</th>\n",
       "      <td>1.000000</td>\n",
       "      <td>0.049792</td>\n",
       "      <td>0.055988</td>\n",
       "      <td>0.051565</td>\n",
       "      <td>0.078524</td>\n",
       "      <td>-0.116449</td>\n",
       "    </tr>\n",
       "    <tr>\n",
       "      <th>wait_time</th>\n",
       "      <td>0.049792</td>\n",
       "      <td>1.000000</td>\n",
       "      <td>0.082618</td>\n",
       "      <td>0.094106</td>\n",
       "      <td>0.037051</td>\n",
       "      <td>0.001670</td>\n",
       "    </tr>\n",
       "    <tr>\n",
       "      <th>run_time</th>\n",
       "      <td>0.055988</td>\n",
       "      <td>0.082618</td>\n",
       "      <td>1.000000</td>\n",
       "      <td>0.864234</td>\n",
       "      <td>0.419717</td>\n",
       "      <td>0.274379</td>\n",
       "    </tr>\n",
       "    <tr>\n",
       "      <th>avg_cpu_time_used</th>\n",
       "      <td>0.051565</td>\n",
       "      <td>0.094106</td>\n",
       "      <td>0.864234</td>\n",
       "      <td>1.000000</td>\n",
       "      <td>0.447703</td>\n",
       "      <td>0.290692</td>\n",
       "    </tr>\n",
       "    <tr>\n",
       "      <th>used_mem</th>\n",
       "      <td>0.078524</td>\n",
       "      <td>0.037051</td>\n",
       "      <td>0.419717</td>\n",
       "      <td>0.447703</td>\n",
       "      <td>1.000000</td>\n",
       "      <td>0.244945</td>\n",
       "    </tr>\n",
       "    <tr>\n",
       "      <th>req_time</th>\n",
       "      <td>-0.116449</td>\n",
       "      <td>0.001670</td>\n",
       "      <td>0.274379</td>\n",
       "      <td>0.290692</td>\n",
       "      <td>0.244945</td>\n",
       "      <td>1.000000</td>\n",
       "    </tr>\n",
       "  </tbody>\n",
       "</table>\n",
       "</div>"
      ],
      "text/plain": [
       "                   submit_time  wait_time  run_time  avg_cpu_time_used  \\\n",
       "submit_time           1.000000   0.049792  0.055988           0.051565   \n",
       "wait_time             0.049792   1.000000  0.082618           0.094106   \n",
       "run_time              0.055988   0.082618  1.000000           0.864234   \n",
       "avg_cpu_time_used     0.051565   0.094106  0.864234           1.000000   \n",
       "used_mem              0.078524   0.037051  0.419717           0.447703   \n",
       "req_time             -0.116449   0.001670  0.274379           0.290692   \n",
       "\n",
       "                   used_mem  req_time  \n",
       "submit_time        0.078524 -0.116449  \n",
       "wait_time          0.037051  0.001670  \n",
       "run_time           0.419717  0.274379  \n",
       "avg_cpu_time_used  0.447703  0.290692  \n",
       "used_mem           1.000000  0.244945  \n",
       "req_time           0.244945  1.000000  "
      ]
     },
     "execution_count": 15,
     "metadata": {},
     "output_type": "execute_result"
    }
   ],
   "source": [
    "df.corr()"
   ]
  },
  {
   "cell_type": "code",
   "execution_count": 16,
   "id": "retained-microphone",
   "metadata": {
    "scrolled": true
   },
   "outputs": [
    {
     "data": {
      "text/plain": [
       "<matplotlib.legend.Legend at 0x1804afcf220>"
      ]
     },
     "execution_count": 16,
     "metadata": {},
     "output_type": "execute_result"
    },
    {
     "data": {
      "image/png": "[encoded data removed]",
      "text/plain": [
       "<Figure size 640x480 with 1 Axes>"
      ]
     },
     "metadata": {},
     "output_type": "display_data"
    }
   ],
   "source": [
    "plt.plot(df['run_time'], alpha = 0.25, label = \"run_time\")\n",
    "plt.plot(df['avg_cpu_time_used'], alpha = 0.25, label = \"avg_cpu_time_used\")\n",
    "plt.plot(df['used_mem'], alpha = 0.25, label = \"used_mem\")\n",
    "plt.legend()"
   ]
  },
  {
   "cell_type": "code",
   "execution_count": 17,
   "id": "postal-collection",
   "metadata": {},
   "outputs": [],
   "source": [
    "for i, value in enumerate(df[\"avg_cpu_time_used\"]):\n",
    "    if value == -1:\n",
    "        df[\"avg_cpu_time_used\"][i] = df[\"avg_cpu_time_used\"][i-1]\n",
    "for i, value in enumerate(df[\"run_time\"]):\n",
    "    if value == -1:\n",
    "        df[\"run_time\"][i] = df[\"run_time\"][i-1]"
   ]
  },
  {
   "cell_type": "code",
   "execution_count": 18,
   "id": "adjusted-violence",
   "metadata": {},
   "outputs": [],
   "source": [
    "run_time = df[\"run_time\"]\n",
    "avg_cpu_time_used = df[\"avg_cpu_time_used\"]\n",
    "\n",
    "run_time = scaler.fit_transform(run_time.values.reshape(-1, 1))\n",
    "avg_cpu_time_used = scaler.fit_transform(avg_cpu_time_used.values.reshape(-1, 1))"
   ]
  },
  {
   "cell_type": "code",
   "execution_count": 19,
   "id": "cubic-thumb",
   "metadata": {},
   "outputs": [],
   "source": [
    "df = {\n",
    "    \"run_time\" : run_time.reshape(-1),\n",
    "    \"avg_cpu_time_used\" : avg_cpu_time_used.reshape(-1),\n",
    "    \"pred_run\" : run_time.reshape(-1)\n",
    "}"
   ]
  },
  {
   "cell_type": "code",
   "execution_count": 20,
   "id": "committed-commonwealth",
   "metadata": {},
   "outputs": [],
   "source": [
    "df = pd.DataFrame(df)"
   ]
  },
  {
   "cell_type": "code",
   "execution_count": 21,
   "id": "neutral-seller",
   "metadata": {},
   "outputs": [
    {
     "data": {
      "text/html": [
       "<div>\n",
       "<style scoped>\n",
       "    .dataframe tbody tr th:only-of-type {\n",
       "        vertical-align: middle;\n",
       "    }\n",
       "\n",
       "    .dataframe tbody tr th {\n",
       "        vertical-align: top;\n",
       "    }\n",
       "\n",
       "    .dataframe thead th {\n",
       "        text-align: right;\n",
       "    }\n",
       "</style>\n",
       "<table border=\"1\" class=\"dataframe\">\n",
       "  <thead>\n",
       "    <tr style=\"text-align: right;\">\n",
       "      <th></th>\n",
       "      <th>run_time</th>\n",
       "      <th>avg_cpu_time_used</th>\n",
       "      <th>pred_run</th>\n",
       "    </tr>\n",
       "  </thead>\n",
       "  <tbody>\n",
       "    <tr>\n",
       "      <th>0</th>\n",
       "      <td>0.087870</td>\n",
       "      <td>0.533600</td>\n",
       "      <td>0.087870</td>\n",
       "    </tr>\n",
       "    <tr>\n",
       "      <th>1</th>\n",
       "      <td>0.000007</td>\n",
       "      <td>0.000015</td>\n",
       "      <td>0.000007</td>\n",
       "    </tr>\n",
       "    <tr>\n",
       "      <th>2</th>\n",
       "      <td>0.127682</td>\n",
       "      <td>0.000000</td>\n",
       "      <td>0.127682</td>\n",
       "    </tr>\n",
       "    <tr>\n",
       "      <th>3</th>\n",
       "      <td>0.125005</td>\n",
       "      <td>0.000000</td>\n",
       "      <td>0.125005</td>\n",
       "    </tr>\n",
       "    <tr>\n",
       "      <th>4</th>\n",
       "      <td>0.012387</td>\n",
       "      <td>0.072232</td>\n",
       "      <td>0.012387</td>\n",
       "    </tr>\n",
       "    <tr>\n",
       "      <th>...</th>\n",
       "      <td>...</td>\n",
       "      <td>...</td>\n",
       "      <td>...</td>\n",
       "    </tr>\n",
       "    <tr>\n",
       "      <th>404171</th>\n",
       "      <td>0.000036</td>\n",
       "      <td>0.000069</td>\n",
       "      <td>0.000036</td>\n",
       "    </tr>\n",
       "    <tr>\n",
       "      <th>404172</th>\n",
       "      <td>0.000036</td>\n",
       "      <td>0.000066</td>\n",
       "      <td>0.000036</td>\n",
       "    </tr>\n",
       "    <tr>\n",
       "      <th>404173</th>\n",
       "      <td>0.000029</td>\n",
       "      <td>0.000066</td>\n",
       "      <td>0.000029</td>\n",
       "    </tr>\n",
       "    <tr>\n",
       "      <th>404174</th>\n",
       "      <td>0.000027</td>\n",
       "      <td>0.000066</td>\n",
       "      <td>0.000027</td>\n",
       "    </tr>\n",
       "    <tr>\n",
       "      <th>404175</th>\n",
       "      <td>0.000027</td>\n",
       "      <td>0.000066</td>\n",
       "      <td>0.000027</td>\n",
       "    </tr>\n",
       "  </tbody>\n",
       "</table>\n",
       "<p>404176 rows × 3 columns</p>\n",
       "</div>"
      ],
      "text/plain": [
       "        run_time  avg_cpu_time_used  pred_run\n",
       "0       0.087870           0.533600  0.087870\n",
       "1       0.000007           0.000015  0.000007\n",
       "2       0.127682           0.000000  0.127682\n",
       "3       0.125005           0.000000  0.125005\n",
       "4       0.012387           0.072232  0.012387\n",
       "...          ...                ...       ...\n",
       "404171  0.000036           0.000069  0.000036\n",
       "404172  0.000036           0.000066  0.000036\n",
       "404173  0.000029           0.000066  0.000029\n",
       "404174  0.000027           0.000066  0.000027\n",
       "404175  0.000027           0.000066  0.000027\n",
       "\n",
       "[404176 rows x 3 columns]"
      ]
     },
     "execution_count": 21,
     "metadata": {},
     "output_type": "execute_result"
    }
   ],
   "source": [
    "df"
   ]
  },
  {
   "cell_type": "code",
   "execution_count": 22,
   "id": "surprising-mumbai",
   "metadata": {},
   "outputs": [
    {
     "name": "stdout",
     "output_type": "stream",
     "text": [
      "Testing data length is:  10 :  [   run_time  avg_cpu_time_used\n",
      "0  0.087870           0.533600\n",
      "1  0.000007           0.000015\n",
      "2  0.127682           0.000000\n",
      "3  0.125005           0.000000\n",
      "4  0.012387           0.072232\n",
      "5  0.000029           0.000012\n",
      "6  0.000013           0.000000\n",
      "7  0.125542           0.000000\n",
      "8  0.125448           0.000000\n",
      "9  0.125365           0.000000]\n",
      "Training data length is:  1 :  [pred_run    0.125329\n",
      "Name: 10, dtype: float64]\n"
     ]
    }
   ],
   "source": [
    "samples = 10\n",
    "steps = 1\n",
    "X = []\n",
    "Y = []\n",
    "\n",
    "for i in range(df.shape[0] - samples):\n",
    "    X.append(df.iloc[i:i+samples, 0:2])\n",
    "    Y.append(df.iloc[i+samples, 2:])\n",
    "    \n",
    "print(\"Testing data length is: \", len(X[0:1][0]), ': ', X[0:1])\n",
    "print(\"Training data length is: \", len(Y[0:1]), ': ', Y[0:1])"
   ]
  },
  {
   "cell_type": "code",
   "execution_count": 23,
   "id": "viral-truck",
   "metadata": {},
   "outputs": [],
   "source": [
    "X = np.array(X)\n",
    "Y = np.array(Y)"
   ]
  },
  {
   "cell_type": "code",
   "execution_count": 24,
   "id": "prerequisite-omega",
   "metadata": {
    "scrolled": true
   },
   "outputs": [
    {
     "data": {
      "text/plain": [
       "(array([[[8.78701420e-02, 5.33599932e-01],\n",
       "         [6.98051927e-06, 1.54251955e-05],\n",
       "         [1.27681947e-01, 0.00000000e+00],\n",
       "         ...,\n",
       "         [1.25542101e-01, 0.00000000e+00],\n",
       "         [1.25447546e-01, 0.00000000e+00],\n",
       "         [1.25365049e-01, 0.00000000e+00]],\n",
       " \n",
       "        [[6.98051927e-06, 1.54251955e-05],\n",
       "         [1.27681947e-01, 0.00000000e+00],\n",
       "         [1.25005235e-01, 0.00000000e+00],\n",
       "         ...,\n",
       "         [1.25447546e-01, 0.00000000e+00],\n",
       "         [1.25365049e-01, 0.00000000e+00],\n",
       "         [1.25328878e-01, 0.00000000e+00]],\n",
       " \n",
       "        [[1.27681947e-01, 0.00000000e+00],\n",
       "         [1.25005235e-01, 0.00000000e+00],\n",
       "         [1.23872487e-02, 7.22323343e-02],\n",
       "         ...,\n",
       "         [1.25365049e-01, 0.00000000e+00],\n",
       "         [1.25328878e-01, 0.00000000e+00],\n",
       "         [1.19297074e-02, 7.01769270e-02]],\n",
       " \n",
       "        ...,\n",
       " \n",
       "        [[1.29139607e-03, 9.64074720e-05],\n",
       "         [1.29076147e-03, 9.64074720e-05],\n",
       "         [1.29139607e-03, 1.04120070e-04],\n",
       "         ...,\n",
       "         [2.60182991e-05, 6.55570809e-05],\n",
       "         [3.55371890e-05, 6.94133798e-05],\n",
       "         [3.61717817e-05, 6.55570809e-05]],\n",
       " \n",
       "        [[1.29076147e-03, 9.64074720e-05],\n",
       "         [1.29139607e-03, 1.04120070e-04],\n",
       "         [3.49025964e-05, 7.32696787e-05],\n",
       "         ...,\n",
       "         [3.55371890e-05, 6.94133798e-05],\n",
       "         [3.61717817e-05, 6.55570809e-05],\n",
       "         [2.85566698e-05, 6.55570809e-05]],\n",
       " \n",
       "        [[1.29139607e-03, 1.04120070e-04],\n",
       "         [3.49025964e-05, 7.32696787e-05],\n",
       "         [3.36334110e-05, 6.55570809e-05],\n",
       "         ...,\n",
       "         [3.61717817e-05, 6.55570809e-05],\n",
       "         [2.85566698e-05, 6.55570809e-05],\n",
       "         [2.72874844e-05, 6.55570809e-05]]]),\n",
       " (404166, 10, 2))"
      ]
     },
     "execution_count": 24,
     "metadata": {},
     "output_type": "execute_result"
    }
   ],
   "source": [
    "X, X.shape"
   ]
  },
  {
   "cell_type": "code",
   "execution_count": 25,
   "id": "valuable-theory",
   "metadata": {},
   "outputs": [
    {
     "name": "stdout",
     "output_type": "stream",
     "text": [
      "Threshold is 403358\n"
     ]
    }
   ],
   "source": [
    "threshold = round(0.998 * X.shape[0])\n",
    "print('Threshold is', threshold)"
   ]
  },
  {
   "cell_type": "code",
   "execution_count": 26,
   "id": "grand-transmission",
   "metadata": {},
   "outputs": [],
   "source": [
    "trainX, trainY = X[:threshold], Y[:threshold]\n",
    "testX, testY = X[threshold:], Y[threshold:]"
   ]
  },
  {
   "cell_type": "code",
   "execution_count": 27,
   "id": "industrial-order",
   "metadata": {},
   "outputs": [
    {
     "data": {
      "text/plain": [
       "((403358, 10, 2), (403358, 1))"
      ]
     },
     "execution_count": 27,
     "metadata": {},
     "output_type": "execute_result"
    }
   ],
   "source": [
    "trainX.shape, trainY.shape"
   ]
  },
  {
   "cell_type": "code",
   "execution_count": 60,
   "id": "assisted-venture",
   "metadata": {},
   "outputs": [],
   "source": [
    "model = keras.Sequential()\n"
   ]
  },
  {
   "cell_type": "code",
   "execution_count": 61,
   "id": "prepared-algebra",
   "metadata": {},
   "outputs": [],
   "source": [
    "model.add(layers.LSTM(50,\n",
    "                      use_bias=True,\n",
    "                      input_shape=(trainX.shape[1], trainX.shape[2]),\n",
    "                      return_sequences = True\n",
    "                      ))"
   ]
  },
  {
   "cell_type": "code",
   "execution_count": 62,
   "id": "authorized-spectacular",
   "metadata": {},
   "outputs": [],
   "source": [
    "model.add(layers.LSTM(1,\n",
    "                           use_bias=True,\n",
    "                           input_shape=(trainX.shape[1], trainX.shape[2])))"
   ]
  },
  {
   "cell_type": "code",
   "execution_count": 63,
   "id": "subtle-wright",
   "metadata": {},
   "outputs": [],
   "source": [
    "model.add(layers.Dropout(rate = 0.2))"
   ]
  },
  {
   "cell_type": "code",
   "execution_count": 64,
   "id": "agricultural-singapore",
   "metadata": {},
   "outputs": [],
   "source": [
    "model.add(layers.Dense(1))"
   ]
  },
  {
   "cell_type": "code",
   "execution_count": 65,
   "id": "contemporary-planner",
   "metadata": {},
   "outputs": [],
   "source": [
    "model.compile(loss='mean_squared_error', optimizer='adam')"
   ]
  },
  {
   "cell_type": "code",
   "execution_count": 66,
   "id": "reduced-process",
   "metadata": {},
   "outputs": [
    {
     "data": {
      "text/html": [
       "<pre style=\"white-space:pre;overflow-x:auto;line-height:normal;font-family:Menlo,'DejaVu Sans Mono',consolas,'Courier New',monospace\"><span style=\"font-weight: bold\">Model: \"sequential_2\"</span>\n",
       "</pre>\n"
      ],
      "text/plain": [
       "\u001b[1mModel: \"sequential_2\"\u001b[0m\n"
      ]
     },
     "metadata": {},
     "output_type": "display_data"
    },
    {
     "data": {
      "text/html": [
       "<pre style=\"white-space:pre;overflow-x:auto;line-height:normal;font-family:Menlo,'DejaVu Sans Mono',consolas,'Courier New',monospace\">┏━━━━━━━━━━━━━━━━━━━━━━━━━━━━━━━━━━━━┳━━━━━━━━━━━━━━━━━━━━━━━━━━━━━━━┳━━━━━━━━━━━━━┓\n",
       "┃<span style=\"font-weight: bold\"> Layer (type)                       </span>┃<span style=\"font-weight: bold\"> Output Shape                  </span>┃<span style=\"font-weight: bold\">     Param # </span>┃\n",
       "┡━━━━━━━━━━━━━━━━━━━━━━━━━━━━━━━━━━━━╇━━━━━━━━━━━━━━━━━━━━━━━━━━━━━━━╇━━━━━━━━━━━━━┩\n",
       "│ lstm_3 (<span style=\"color: #0087ff; text-decoration-color: #0087ff\">LSTM</span>)                      │ (<span style=\"color: #00d7ff; text-decoration-color: #00d7ff\">None</span>, <span style=\"color: #00af00; text-decoration-color: #00af00\">10</span>, <span style=\"color: #00af00; text-decoration-color: #00af00\">50</span>)                │      <span style=\"color: #00af00; text-decoration-color: #00af00\">10,600</span> │\n",
       "├────────────────────────────────────┼───────────────────────────────┼─────────────┤\n",
       "│ lstm_4 (<span style=\"color: #0087ff; text-decoration-color: #0087ff\">LSTM</span>)                      │ (<span style=\"color: #00d7ff; text-decoration-color: #00d7ff\">None</span>, <span style=\"color: #00af00; text-decoration-color: #00af00\">1</span>)                     │         <span style=\"color: #00af00; text-decoration-color: #00af00\">208</span> │\n",
       "├────────────────────────────────────┼───────────────────────────────┼─────────────┤\n",
       "│ dropout_1 (<span style=\"color: #0087ff; text-decoration-color: #0087ff\">Dropout</span>)                │ (<span style=\"color: #00d7ff; text-decoration-color: #00d7ff\">None</span>, <span style=\"color: #00af00; text-decoration-color: #00af00\">1</span>)                     │           <span style=\"color: #00af00; text-decoration-color: #00af00\">0</span> │\n",
       "├────────────────────────────────────┼───────────────────────────────┼─────────────┤\n",
       "│ dense_2 (<span style=\"color: #0087ff; text-decoration-color: #0087ff\">Dense</span>)                    │ (<span style=\"color: #00d7ff; text-decoration-color: #00d7ff\">None</span>, <span style=\"color: #00af00; text-decoration-color: #00af00\">1</span>)                     │           <span style=\"color: #00af00; text-decoration-color: #00af00\">2</span> │\n",
       "└────────────────────────────────────┴───────────────────────────────┴─────────────┘\n",
       "</pre>\n"
      ],
      "text/plain": [
       "┏━━━━━━━━━━━━━━━━━━━━━━━━━━━━━━━━━━━━┳━━━━━━━━━━━━━━━━━━━━━━━━━━━━━━━┳━━━━━━━━━━━━━┓\n",
       "┃\u001b[1m \u001b[0m\u001b[1mLayer (type)                      \u001b[0m\u001b[1m \u001b[0m┃\u001b[1m \u001b[0m\u001b[1mOutput Shape                 \u001b[0m\u001b[1m \u001b[0m┃\u001b[1m \u001b[0m\u001b[1m    Param #\u001b[0m\u001b[1m \u001b[0m┃\n",
       "┡━━━━━━━━━━━━━━━━━━━━━━━━━━━━━━━━━━━━╇━━━━━━━━━━━━━━━━━━━━━━━━━━━━━━━╇━━━━━━━━━━━━━┩\n",
       "│ lstm_3 (\u001b[38;5;33mLSTM\u001b[0m)                      │ (\u001b[38;5;45mNone\u001b[0m, \u001b[38;5;34m10\u001b[0m, \u001b[38;5;34m50\u001b[0m)                │      \u001b[38;5;34m10,600\u001b[0m │\n",
       "├────────────────────────────────────┼───────────────────────────────┼─────────────┤\n",
       "│ lstm_4 (\u001b[38;5;33mLSTM\u001b[0m)                      │ (\u001b[38;5;45mNone\u001b[0m, \u001b[38;5;34m1\u001b[0m)                     │         \u001b[38;5;34m208\u001b[0m │\n",
       "├────────────────────────────────────┼───────────────────────────────┼─────────────┤\n",
       "│ dropout_1 (\u001b[38;5;33mDropout\u001b[0m)                │ (\u001b[38;5;45mNone\u001b[0m, \u001b[38;5;34m1\u001b[0m)                     │           \u001b[38;5;34m0\u001b[0m │\n",
       "├────────────────────────────────────┼───────────────────────────────┼─────────────┤\n",
       "│ dense_2 (\u001b[38;5;33mDense\u001b[0m)                    │ (\u001b[38;5;45mNone\u001b[0m, \u001b[38;5;34m1\u001b[0m)                     │           \u001b[38;5;34m2\u001b[0m │\n",
       "└────────────────────────────────────┴───────────────────────────────┴─────────────┘\n"
      ]
     },
     "metadata": {},
     "output_type": "display_data"
    },
    {
     "data": {
      "text/html": [
       "<pre style=\"white-space:pre;overflow-x:auto;line-height:normal;font-family:Menlo,'DejaVu Sans Mono',consolas,'Courier New',monospace\"><span style=\"font-weight: bold\"> Total params: </span><span style=\"color: #00af00; text-decoration-color: #00af00\">10,810</span> (42.23 KB)\n",
       "</pre>\n"
      ],
      "text/plain": [
       "\u001b[1m Total params: \u001b[0m\u001b[38;5;34m10,810\u001b[0m (42.23 KB)\n"
      ]
     },
     "metadata": {},
     "output_type": "display_data"
    },
    {
     "data": {
      "text/html": [
       "<pre style=\"white-space:pre;overflow-x:auto;line-height:normal;font-family:Menlo,'DejaVu Sans Mono',consolas,'Courier New',monospace\"><span style=\"font-weight: bold\"> Trainable params: </span><span style=\"color: #00af00; text-decoration-color: #00af00\">10,810</span> (42.23 KB)\n",
       "</pre>\n"
      ],
      "text/plain": [
       "\u001b[1m Trainable params: \u001b[0m\u001b[38;5;34m10,810\u001b[0m (42.23 KB)\n"
      ]
     },
     "metadata": {},
     "output_type": "display_data"
    },
    {
     "data": {
      "text/html": [
       "<pre style=\"white-space:pre;overflow-x:auto;line-height:normal;font-family:Menlo,'DejaVu Sans Mono',consolas,'Courier New',monospace\"><span style=\"font-weight: bold\"> Non-trainable params: </span><span style=\"color: #00af00; text-decoration-color: #00af00\">0</span> (0.00 B)\n",
       "</pre>\n"
      ],
      "text/plain": [
       "\u001b[1m Non-trainable params: \u001b[0m\u001b[38;5;34m0\u001b[0m (0.00 B)\n"
      ]
     },
     "metadata": {},
     "output_type": "display_data"
    }
   ],
   "source": [
    "model.summary()"
   ]
  },
  {
   "cell_type": "code",
   "execution_count": 67,
   "id": "cooperative-environment",
   "metadata": {},
   "outputs": [
    {
     "name": "stdout",
     "output_type": "stream",
     "text": [
      "Epoch 1/7\n",
      "\u001b[1m12479/12479\u001b[0m \u001b[32m━━━━━━━━━━━━━━━━━━━━\u001b[0m\u001b[37m\u001b[0m \u001b[1m206s\u001b[0m 16ms/step - loss: 3.5272e-04 - val_loss: 1.9557e-04\n",
      "Epoch 2/7\n",
      "\u001b[1m12479/12479\u001b[0m \u001b[32m━━━━━━━━━━━━━━━━━━━━\u001b[0m\u001b[37m\u001b[0m \u001b[1m186s\u001b[0m 15ms/step - loss: 3.2041e-04 - val_loss: 1.9292e-04\n",
      "Epoch 3/7\n",
      "\u001b[1m12479/12479\u001b[0m \u001b[32m━━━━━━━━━━━━━━━━━━━━\u001b[0m\u001b[37m\u001b[0m \u001b[1m176s\u001b[0m 14ms/step - loss: 3.1884e-04 - val_loss: 1.9767e-04\n",
      "Epoch 4/7\n",
      "\u001b[1m12479/12479\u001b[0m \u001b[32m━━━━━━━━━━━━━━━━━━━━\u001b[0m\u001b[37m\u001b[0m \u001b[1m172s\u001b[0m 14ms/step - loss: 3.1655e-04 - val_loss: 1.9742e-04\n",
      "Epoch 5/7\n",
      "\u001b[1m12479/12479\u001b[0m \u001b[32m━━━━━━━━━━━━━━━━━━━━\u001b[0m\u001b[37m\u001b[0m \u001b[1m174s\u001b[0m 14ms/step - loss: 3.1652e-04 - val_loss: 1.9618e-04\n",
      "Epoch 6/7\n",
      "\u001b[1m12479/12479\u001b[0m \u001b[32m━━━━━━━━━━━━━━━━━━━━\u001b[0m\u001b[37m\u001b[0m \u001b[1m171s\u001b[0m 14ms/step - loss: 3.1526e-04 - val_loss: 1.9988e-04\n",
      "Epoch 7/7\n",
      "\u001b[1m12479/12479\u001b[0m \u001b[32m━━━━━━━━━━━━━━━━━━━━\u001b[0m\u001b[37m\u001b[0m \u001b[1m1721s\u001b[0m 138ms/step - loss: 3.1670e-04 - val_loss: 1.9813e-04\n"
     ]
    }
   ],
   "source": [
    "history = model.fit(X[:threshold],\n",
    "                    Y[:threshold],\n",
    "                    shuffle=False,\n",
    "                    epochs=7,\n",
    "                    batch_size=32,\n",
    "                    validation_split=0.01,\n",
    "                    verbose=1)"
   ]
  },
  {
   "cell_type": "code",
   "execution_count": 36,
   "id": "interim-patrol",
   "metadata": {
    "scrolled": false
   },
   "outputs": [
    {
     "data": {
      "text/plain": [
       "<matplotlib.legend.Legend at 0x18095f97a90>"
      ]
     },
     "execution_count": 36,
     "metadata": {},
     "output_type": "execute_result"
    },
    {
     "data": {
      "image/png": "[encoded data removed]",
      "text/plain": [
       "<Figure size 640x480 with 1 Axes>"
      ]
     },
     "metadata": {},
     "output_type": "display_data"
    }
   ],
   "source": [
    "# tr_loss >> val_loss : underfitting\n",
    "# tr_loss << val_loss : overfitting\n",
    "\n",
    "plt.plot(history.history[\"loss\"], label = \"Training Loss\")\n",
    "plt.plot(history.history[\"val_loss\"], label = \"Validation Loss\")\n",
    "plt.legend()"
   ]
  },
  {
   "cell_type": "code",
   "execution_count": 37,
   "id": "third-preserve",
   "metadata": {},
   "outputs": [
    {
     "name": "stdout",
     "output_type": "stream",
     "text": [
      "\u001b[1m26/26\u001b[0m \u001b[32m━━━━━━━━━━━━━━━━━━━━\u001b[0m\u001b[37m\u001b[0m \u001b[1m1s\u001b[0m 19ms/step\n"
     ]
    },
    {
     "data": {
      "text/plain": [
       "(808, 1)"
      ]
     },
     "execution_count": 37,
     "metadata": {},
     "output_type": "execute_result"
    }
   ],
   "source": [
    "y_pred = model.predict(testX)\n",
    "y_pred.shape"
   ]
  },
  {
   "cell_type": "code",
   "execution_count": 38,
   "id": "expressed-difference",
   "metadata": {
    "scrolled": true
   },
   "outputs": [
    {
     "name": "stdout",
     "output_type": "stream",
     "text": [
      "\u001b[1m26/26\u001b[0m \u001b[32m━━━━━━━━━━━━━━━━━━━━\u001b[0m\u001b[37m\u001b[0m \u001b[1m0s\u001b[0m 5ms/step\n"
     ]
    },
    {
     "data": {
      "text/plain": [
       "<matplotlib.legend.Legend at 0x18095ffd8e0>"
      ]
     },
     "execution_count": 38,
     "metadata": {},
     "output_type": "execute_result"
    },
    {
     "data": {
      "image/png": "[encoded data removed]",
      "text/plain": [
       "<Figure size 640x480 with 1 Axes>"
      ]
     },
     "metadata": {},
     "output_type": "display_data"
    }
   ],
   "source": [
    "y_pred = model.predict(testX)\n",
    "plt.plot(testY, label = \"True Value\")\n",
    "plt.plot(y_pred, label = \"Forecasted Value\")\n",
    "plt.legend()"
   ]
  },
  {
   "cell_type": "code",
   "execution_count": 39,
   "id": "committed-graduate",
   "metadata": {},
   "outputs": [],
   "source": [
    "y_pred = scaler.inverse_transform(y_pred)"
   ]
  },
  {
   "cell_type": "code",
   "execution_count": 40,
   "id": "intellectual-treatment",
   "metadata": {},
   "outputs": [],
   "source": [
    "testY = scaler.inverse_transform(testY)"
   ]
  },
  {
   "cell_type": "code",
   "execution_count": null,
   "id": "offshore-principle",
   "metadata": {},
   "outputs": [],
   "source": []
  },
  {
   "cell_type": "code",
   "execution_count": 41,
   "id": "progressive-ratio",
   "metadata": {},
   "outputs": [],
   "source": [
    "rae = 0\n",
    "for i in range(len(y_pred)):\n",
    "    abs_val = abs(y_pred[i][0] - testY[i][0])\n",
    "    rae += abs_val\n",
    "\n",
    "rae = rae / len(y_pred)"
   ]
  },
  {
   "cell_type": "code",
   "execution_count": 42,
   "id": "rough-constitutional",
   "metadata": {},
   "outputs": [
    {
     "data": {
      "text/plain": [
       "671.6186013758787"
      ]
     },
     "execution_count": 42,
     "metadata": {},
     "output_type": "execute_result"
    }
   ],
   "source": [
    "rae"
   ]
  },
  {
   "cell_type": "code",
   "execution_count": 43,
   "id": "norman-monte",
   "metadata": {},
   "outputs": [
    {
     "data": {
      "text/plain": [
       "array([3416.10167444])"
      ]
     },
     "execution_count": 43,
     "metadata": {},
     "output_type": "execute_result"
    }
   ],
   "source": [
    "testY[1]"
   ]
  },
  {
   "cell_type": "code",
   "execution_count": 44,
   "id": "reported-potato",
   "metadata": {},
   "outputs": [
    {
     "data": {
      "text/plain": [
       "67161.86013758786"
      ]
     },
     "execution_count": 44,
     "metadata": {},
     "output_type": "execute_result"
    }
   ],
   "source": [
    "rae * 100"
   ]
  },
  {
   "cell_type": "code",
   "execution_count": 45,
   "id": "juvenile-transsexual",
   "metadata": {},
   "outputs": [],
   "source": [
    "from sklearn.metrics import mean_absolute_error"
   ]
  },
  {
   "cell_type": "code",
   "execution_count": 46,
   "id": "effective-austin",
   "metadata": {},
   "outputs": [],
   "source": [
    "mae = mean_absolute_error(testY, y_pred)"
   ]
  },
  {
   "cell_type": "code",
   "execution_count": 47,
   "id": "given-playing",
   "metadata": {},
   "outputs": [
    {
     "data": {
      "text/plain": [
       "671.6186013758778"
      ]
     },
     "execution_count": 47,
     "metadata": {},
     "output_type": "execute_result"
    }
   ],
   "source": [
    "mae"
   ]
  },
  {
   "cell_type": "code",
   "execution_count": 48,
   "id": "democratic-athens",
   "metadata": {},
   "outputs": [],
   "source": [
    "final_df = pd.DataFrame({\"testY\" : testY.reshape(-1),\n",
    "                        \"y_pred\" : y_pred.reshape(-1)})"
   ]
  },
  {
   "cell_type": "code",
   "execution_count": 49,
   "id": "congressional-error",
   "metadata": {},
   "outputs": [
    {
     "data": {
      "text/plain": [
       "(          testY      y_pred\n",
       " 793    5.759601  295.198639\n",
       " 794    4.936801  294.862946\n",
       " 795  334.879662  294.121033\n",
       " 796  334.715102  406.970428\n",
       " 797  334.879662  435.271179\n",
       " 798    9.050802  448.487640\n",
       " 799    8.721682  346.527557\n",
       " 800    6.582401  326.647430\n",
       " 801    6.582401  320.798126\n",
       " 802    6.746961  317.628601\n",
       " 803    9.215362  314.692108\n",
       " 804    9.379922  312.565155\n",
       " 805    7.405201  309.826233\n",
       " 806    7.076081  303.103882\n",
       " 807    7.076081  297.743164,\n",
       "           testY       y_pred\n",
       " 0   4026.783948   806.341858\n",
       " 1   3416.101674  3613.037109\n",
       " 2   3416.101674  3233.734131\n",
       " 3   3416.101674  3145.200684\n",
       " 4   3416.101674  3110.170898\n",
       " 5   3416.101674  3116.447754\n",
       " 6   3416.101674  3131.730713\n",
       " 7   3416.101674  3149.908203\n",
       " 8   3416.101674  3168.215820\n",
       " 9     13.000242  3185.234863\n",
       " 10  3632.333555   427.041565\n",
       " 11    11.848322  3266.926514\n",
       " 12     6.417841   474.556854\n",
       " 13     6.417841   374.169464\n",
       " 14     5.759601   398.559479)"
      ]
     },
     "execution_count": 49,
     "metadata": {},
     "output_type": "execute_result"
    }
   ],
   "source": [
    "final_df.tail(15),final_df.head(15)"
   ]
  },
  {
   "cell_type": "code",
   "execution_count": 50,
   "id": "numeric-reducing",
   "metadata": {},
   "outputs": [
    {
     "data": {
      "text/html": [
       "<div>\n",
       "<style scoped>\n",
       "    .dataframe tbody tr th:only-of-type {\n",
       "        vertical-align: middle;\n",
       "    }\n",
       "\n",
       "    .dataframe tbody tr th {\n",
       "        vertical-align: top;\n",
       "    }\n",
       "\n",
       "    .dataframe thead th {\n",
       "        text-align: right;\n",
       "    }\n",
       "</style>\n",
       "<table border=\"1\" class=\"dataframe\">\n",
       "  <thead>\n",
       "    <tr style=\"text-align: right;\">\n",
       "      <th></th>\n",
       "      <th>testY</th>\n",
       "      <th>y_pred</th>\n",
       "    </tr>\n",
       "  </thead>\n",
       "  <tbody>\n",
       "    <tr>\n",
       "      <th>testY</th>\n",
       "      <td>1.000000</td>\n",
       "      <td>0.711484</td>\n",
       "    </tr>\n",
       "    <tr>\n",
       "      <th>y_pred</th>\n",
       "      <td>0.711484</td>\n",
       "      <td>1.000000</td>\n",
       "    </tr>\n",
       "  </tbody>\n",
       "</table>\n",
       "</div>"
      ],
      "text/plain": [
       "           testY    y_pred\n",
       "testY   1.000000  0.711484\n",
       "y_pred  0.711484  1.000000"
      ]
     },
     "execution_count": 50,
     "metadata": {},
     "output_type": "execute_result"
    }
   ],
   "source": [
    "final_df.corr()"
   ]
  },
  {
   "cell_type": "code",
   "execution_count": 51,
   "id": "ceramic-protection",
   "metadata": {},
   "outputs": [
    {
     "data": {
      "text/plain": [
       "<AxesSubplot:>"
      ]
     },
     "execution_count": 51,
     "metadata": {},
     "output_type": "execute_result"
    },
    {
     "data": {
      "image/png": "[encoded data removed]",
      "text/plain": [
       "<Figure size 640x480 with 1 Axes>"
      ]
     },
     "metadata": {},
     "output_type": "display_data"
    }
   ],
   "source": [
    "final_df[\"testY\"].plot()\n",
    "final_df[\"y_pred\"].plot()"
   ]
  },
  {
   "cell_type": "code",
   "execution_count": null,
   "id": "editorial-yemen",
   "metadata": {},
   "outputs": [],
   "source": []
  }
 ],
 "metadata": {
  "kernelspec": {
   "display_name": "Python 3 (ipykernel)",
   "language": "python",
   "name": "python3"
  },
  "language_info": {
   "codemirror_mode": {
    "name": "ipython",
    "version": 3
   },
   "file_extension": ".py",
   "mimetype": "text/x-python",
   "name": "python",
   "nbconvert_exporter": "python",
   "pygments_lexer": "ipython3",
   "version": "3.9.1"
  }
 },
 "nbformat": 4,
 "nbformat_minor": 5
}
