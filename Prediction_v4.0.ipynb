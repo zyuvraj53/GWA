{
 "cells": [
  {
   "cell_type": "code",
   "execution_count": 60,
   "id": "improved-island",
   "metadata": {},
   "outputs": [],
   "source": [
    "import pandas as pd"
   ]
  },
  {
   "cell_type": "code",
   "execution_count": 61,
   "id": "understanding-testing",
   "metadata": {},
   "outputs": [],
   "source": [
    "df = pd.read_csv('processes_datasets_run_tim.csv')"
   ]
  },
  {
   "cell_type": "code",
   "execution_count": 62,
   "id": "variable-circular",
   "metadata": {},
   "outputs": [
    {
     "data": {
      "text/html": [
       "<div>\n",
       "<style scoped>\n",
       "    .dataframe tbody tr th:only-of-type {\n",
       "        vertical-align: middle;\n",
       "    }\n",
       "\n",
       "    .dataframe tbody tr th {\n",
       "        vertical-align: top;\n",
       "    }\n",
       "\n",
       "    .dataframe thead th {\n",
       "        text-align: right;\n",
       "    }\n",
       "</style>\n",
       "<table border=\"1\" class=\"dataframe\">\n",
       "  <thead>\n",
       "    <tr style=\"text-align: right;\">\n",
       "      <th></th>\n",
       "      <th>index</th>\n",
       "      <th>submit_time</th>\n",
       "      <th>wait_time</th>\n",
       "      <th>run_time</th>\n",
       "      <th>avg_cpu_time_used</th>\n",
       "      <th>used_mem</th>\n",
       "      <th>req_time</th>\n",
       "    </tr>\n",
       "  </thead>\n",
       "  <tbody>\n",
       "    <tr>\n",
       "      <th>0</th>\n",
       "      <td>0</td>\n",
       "      <td>1136070024</td>\n",
       "      <td>203761</td>\n",
       "      <td>138467</td>\n",
       "      <td>138371</td>\n",
       "      <td>98652</td>\n",
       "      <td>259200</td>\n",
       "    </tr>\n",
       "    <tr>\n",
       "      <th>1</th>\n",
       "      <td>1</td>\n",
       "      <td>1136070690</td>\n",
       "      <td>0</td>\n",
       "      <td>11</td>\n",
       "      <td>4</td>\n",
       "      <td>35848</td>\n",
       "      <td>259200</td>\n",
       "    </tr>\n",
       "    <tr>\n",
       "      <th>2</th>\n",
       "      <td>2</td>\n",
       "      <td>1136071207</td>\n",
       "      <td>117</td>\n",
       "      <td>201203</td>\n",
       "      <td>0</td>\n",
       "      <td>0</td>\n",
       "      <td>259200</td>\n",
       "    </tr>\n",
       "    <tr>\n",
       "      <th>3</th>\n",
       "      <td>3</td>\n",
       "      <td>1136071267</td>\n",
       "      <td>4406</td>\n",
       "      <td>196985</td>\n",
       "      <td>0</td>\n",
       "      <td>0</td>\n",
       "      <td>259200</td>\n",
       "    </tr>\n",
       "    <tr>\n",
       "      <th>4</th>\n",
       "      <td>4</td>\n",
       "      <td>1136071269</td>\n",
       "      <td>202516</td>\n",
       "      <td>19520</td>\n",
       "      <td>18731</td>\n",
       "      <td>522268</td>\n",
       "      <td>259200</td>\n",
       "    </tr>\n",
       "    <tr>\n",
       "      <th>...</th>\n",
       "      <td>...</td>\n",
       "      <td>...</td>\n",
       "      <td>...</td>\n",
       "      <td>...</td>\n",
       "      <td>...</td>\n",
       "      <td>...</td>\n",
       "      <td>...</td>\n",
       "    </tr>\n",
       "    <tr>\n",
       "      <th>339309</th>\n",
       "      <td>404170</td>\n",
       "      <td>1167602999</td>\n",
       "      <td>1</td>\n",
       "      <td>41</td>\n",
       "      <td>17</td>\n",
       "      <td>0</td>\n",
       "      <td>259200</td>\n",
       "    </tr>\n",
       "    <tr>\n",
       "      <th>339310</th>\n",
       "      <td>404171</td>\n",
       "      <td>1167603618</td>\n",
       "      <td>2</td>\n",
       "      <td>56</td>\n",
       "      <td>18</td>\n",
       "      <td>0</td>\n",
       "      <td>259200</td>\n",
       "    </tr>\n",
       "    <tr>\n",
       "      <th>339311</th>\n",
       "      <td>404172</td>\n",
       "      <td>1167603624</td>\n",
       "      <td>1</td>\n",
       "      <td>57</td>\n",
       "      <td>17</td>\n",
       "      <td>61084</td>\n",
       "      <td>259200</td>\n",
       "    </tr>\n",
       "    <tr>\n",
       "      <th>339312</th>\n",
       "      <td>404173</td>\n",
       "      <td>1167603637</td>\n",
       "      <td>1</td>\n",
       "      <td>45</td>\n",
       "      <td>17</td>\n",
       "      <td>0</td>\n",
       "      <td>259200</td>\n",
       "    </tr>\n",
       "    <tr>\n",
       "      <th>339313</th>\n",
       "      <td>404174</td>\n",
       "      <td>1167603747</td>\n",
       "      <td>1</td>\n",
       "      <td>43</td>\n",
       "      <td>17</td>\n",
       "      <td>0</td>\n",
       "      <td>259200</td>\n",
       "    </tr>\n",
       "  </tbody>\n",
       "</table>\n",
       "<p>339314 rows × 7 columns</p>\n",
       "</div>"
      ],
      "text/plain": [
       "         index  submit_time  wait_time  run_time  avg_cpu_time_used  used_mem  \\\n",
       "0            0   1136070024     203761    138467             138371     98652   \n",
       "1            1   1136070690          0        11                  4     35848   \n",
       "2            2   1136071207        117    201203                  0         0   \n",
       "3            3   1136071267       4406    196985                  0         0   \n",
       "4            4   1136071269     202516     19520              18731    522268   \n",
       "...        ...          ...        ...       ...                ...       ...   \n",
       "339309  404170   1167602999          1        41                 17         0   \n",
       "339310  404171   1167603618          2        56                 18         0   \n",
       "339311  404172   1167603624          1        57                 17     61084   \n",
       "339312  404173   1167603637          1        45                 17         0   \n",
       "339313  404174   1167603747          1        43                 17         0   \n",
       "\n",
       "        req_time  \n",
       "0         259200  \n",
       "1         259200  \n",
       "2         259200  \n",
       "3         259200  \n",
       "4         259200  \n",
       "...          ...  \n",
       "339309    259200  \n",
       "339310    259200  \n",
       "339311    259200  \n",
       "339312    259200  \n",
       "339313    259200  \n",
       "\n",
       "[339314 rows x 7 columns]"
      ]
     },
     "execution_count": 62,
     "metadata": {},
     "output_type": "execute_result"
    }
   ],
   "source": [
    "df"
   ]
  },
  {
   "cell_type": "code",
   "execution_count": 4,
   "id": "addressed-strategy",
   "metadata": {},
   "outputs": [],
   "source": [
    "df = df.iloc[0:, [1, 2, 3, 5, 6, 8]].copy()"
   ]
  },
  {
   "cell_type": "code",
   "execution_count": 5,
   "id": "raising-delicious",
   "metadata": {},
   "outputs": [
    {
     "data": {
      "text/html": [
       "<div>\n",
       "<style scoped>\n",
       "    .dataframe tbody tr th:only-of-type {\n",
       "        vertical-align: middle;\n",
       "    }\n",
       "\n",
       "    .dataframe tbody tr th {\n",
       "        vertical-align: top;\n",
       "    }\n",
       "\n",
       "    .dataframe thead th {\n",
       "        text-align: right;\n",
       "    }\n",
       "</style>\n",
       "<table border=\"1\" class=\"dataframe\">\n",
       "  <thead>\n",
       "    <tr style=\"text-align: right;\">\n",
       "      <th></th>\n",
       "      <th>SubmitTime</th>\n",
       "      <th>WaitTime</th>\n",
       "      <th>RunTime</th>\n",
       "      <th>AverageCPUTimeUsed</th>\n",
       "      <th>Used Memory</th>\n",
       "      <th>ReqTime:</th>\n",
       "    </tr>\n",
       "  </thead>\n",
       "  <tbody>\n",
       "    <tr>\n",
       "      <th>0</th>\n",
       "      <td>1136070024</td>\n",
       "      <td>203761</td>\n",
       "      <td>138467</td>\n",
       "      <td>138371</td>\n",
       "      <td>98652</td>\n",
       "      <td>259200</td>\n",
       "    </tr>\n",
       "    <tr>\n",
       "      <th>1</th>\n",
       "      <td>1136070690</td>\n",
       "      <td>0</td>\n",
       "      <td>11</td>\n",
       "      <td>4</td>\n",
       "      <td>35848</td>\n",
       "      <td>259200</td>\n",
       "    </tr>\n",
       "    <tr>\n",
       "      <th>2</th>\n",
       "      <td>1136071207</td>\n",
       "      <td>117</td>\n",
       "      <td>201203</td>\n",
       "      <td>0</td>\n",
       "      <td>0</td>\n",
       "      <td>259200</td>\n",
       "    </tr>\n",
       "    <tr>\n",
       "      <th>3</th>\n",
       "      <td>1136071267</td>\n",
       "      <td>4406</td>\n",
       "      <td>196985</td>\n",
       "      <td>0</td>\n",
       "      <td>0</td>\n",
       "      <td>259200</td>\n",
       "    </tr>\n",
       "    <tr>\n",
       "      <th>4</th>\n",
       "      <td>1136071269</td>\n",
       "      <td>202516</td>\n",
       "      <td>19520</td>\n",
       "      <td>18731</td>\n",
       "      <td>522268</td>\n",
       "      <td>259200</td>\n",
       "    </tr>\n",
       "    <tr>\n",
       "      <th>...</th>\n",
       "      <td>...</td>\n",
       "      <td>...</td>\n",
       "      <td>...</td>\n",
       "      <td>...</td>\n",
       "      <td>...</td>\n",
       "      <td>...</td>\n",
       "    </tr>\n",
       "    <tr>\n",
       "      <th>404171</th>\n",
       "      <td>1167603618</td>\n",
       "      <td>2</td>\n",
       "      <td>56</td>\n",
       "      <td>18</td>\n",
       "      <td>0</td>\n",
       "      <td>259200</td>\n",
       "    </tr>\n",
       "    <tr>\n",
       "      <th>404172</th>\n",
       "      <td>1167603624</td>\n",
       "      <td>1</td>\n",
       "      <td>57</td>\n",
       "      <td>17</td>\n",
       "      <td>61084</td>\n",
       "      <td>259200</td>\n",
       "    </tr>\n",
       "    <tr>\n",
       "      <th>404173</th>\n",
       "      <td>1167603637</td>\n",
       "      <td>1</td>\n",
       "      <td>45</td>\n",
       "      <td>17</td>\n",
       "      <td>0</td>\n",
       "      <td>259200</td>\n",
       "    </tr>\n",
       "    <tr>\n",
       "      <th>404174</th>\n",
       "      <td>1167603747</td>\n",
       "      <td>1</td>\n",
       "      <td>43</td>\n",
       "      <td>17</td>\n",
       "      <td>0</td>\n",
       "      <td>259200</td>\n",
       "    </tr>\n",
       "    <tr>\n",
       "      <th>404175</th>\n",
       "      <td>1167605790</td>\n",
       "      <td>52</td>\n",
       "      <td>-1</td>\n",
       "      <td>-1</td>\n",
       "      <td>-1</td>\n",
       "      <td>-1</td>\n",
       "    </tr>\n",
       "  </tbody>\n",
       "</table>\n",
       "<p>404176 rows × 6 columns</p>\n",
       "</div>"
      ],
      "text/plain": [
       "        SubmitTime  WaitTime  RunTime   AverageCPUTimeUsed  Used Memory  \\\n",
       "0       1136070024    203761    138467              138371        98652   \n",
       "1       1136070690         0        11                   4        35848   \n",
       "2       1136071207       117    201203                   0            0   \n",
       "3       1136071267      4406    196985                   0            0   \n",
       "4       1136071269    202516     19520               18731       522268   \n",
       "...            ...       ...       ...                 ...          ...   \n",
       "404171  1167603618         2        56                  18            0   \n",
       "404172  1167603624         1        57                  17        61084   \n",
       "404173  1167603637         1        45                  17            0   \n",
       "404174  1167603747         1        43                  17            0   \n",
       "404175  1167605790        52        -1                  -1           -1   \n",
       "\n",
       "        ReqTime:   \n",
       "0          259200  \n",
       "1          259200  \n",
       "2          259200  \n",
       "3          259200  \n",
       "4          259200  \n",
       "...           ...  \n",
       "404171     259200  \n",
       "404172     259200  \n",
       "404173     259200  \n",
       "404174     259200  \n",
       "404175         -1  \n",
       "\n",
       "[404176 rows x 6 columns]"
      ]
     },
     "execution_count": 5,
     "metadata": {},
     "output_type": "execute_result"
    }
   ],
   "source": [
    "df"
   ]
  },
  {
   "cell_type": "code",
   "execution_count": 6,
   "id": "pursuant-characteristic",
   "metadata": {},
   "outputs": [
    {
     "data": {
      "text/html": [
       "<div>\n",
       "<style scoped>\n",
       "    .dataframe tbody tr th:only-of-type {\n",
       "        vertical-align: middle;\n",
       "    }\n",
       "\n",
       "    .dataframe tbody tr th {\n",
       "        vertical-align: top;\n",
       "    }\n",
       "\n",
       "    .dataframe thead th {\n",
       "        text-align: right;\n",
       "    }\n",
       "</style>\n",
       "<table border=\"1\" class=\"dataframe\">\n",
       "  <thead>\n",
       "    <tr style=\"text-align: right;\">\n",
       "      <th></th>\n",
       "      <th>SubmitTime</th>\n",
       "      <th>WaitTime</th>\n",
       "      <th>RunTime</th>\n",
       "      <th>AverageCPUTimeUsed</th>\n",
       "      <th>Used Memory</th>\n",
       "      <th>ReqTime:</th>\n",
       "    </tr>\n",
       "  </thead>\n",
       "  <tbody>\n",
       "    <tr>\n",
       "      <th>SubmitTime</th>\n",
       "      <td>1.000000</td>\n",
       "      <td>0.049792</td>\n",
       "      <td>0.055988</td>\n",
       "      <td>0.051565</td>\n",
       "      <td>0.078524</td>\n",
       "      <td>-0.116449</td>\n",
       "    </tr>\n",
       "    <tr>\n",
       "      <th>WaitTime</th>\n",
       "      <td>0.049792</td>\n",
       "      <td>1.000000</td>\n",
       "      <td>0.082618</td>\n",
       "      <td>0.094106</td>\n",
       "      <td>0.037051</td>\n",
       "      <td>0.001670</td>\n",
       "    </tr>\n",
       "    <tr>\n",
       "      <th>RunTime</th>\n",
       "      <td>0.055988</td>\n",
       "      <td>0.082618</td>\n",
       "      <td>1.000000</td>\n",
       "      <td>0.864234</td>\n",
       "      <td>0.419717</td>\n",
       "      <td>0.274379</td>\n",
       "    </tr>\n",
       "    <tr>\n",
       "      <th>AverageCPUTimeUsed</th>\n",
       "      <td>0.051565</td>\n",
       "      <td>0.094106</td>\n",
       "      <td>0.864234</td>\n",
       "      <td>1.000000</td>\n",
       "      <td>0.447703</td>\n",
       "      <td>0.290692</td>\n",
       "    </tr>\n",
       "    <tr>\n",
       "      <th>Used Memory</th>\n",
       "      <td>0.078524</td>\n",
       "      <td>0.037051</td>\n",
       "      <td>0.419717</td>\n",
       "      <td>0.447703</td>\n",
       "      <td>1.000000</td>\n",
       "      <td>0.244945</td>\n",
       "    </tr>\n",
       "    <tr>\n",
       "      <th>ReqTime:</th>\n",
       "      <td>-0.116449</td>\n",
       "      <td>0.001670</td>\n",
       "      <td>0.274379</td>\n",
       "      <td>0.290692</td>\n",
       "      <td>0.244945</td>\n",
       "      <td>1.000000</td>\n",
       "    </tr>\n",
       "  </tbody>\n",
       "</table>\n",
       "</div>"
      ],
      "text/plain": [
       "                    SubmitTime  WaitTime  RunTime   AverageCPUTimeUsed  \\\n",
       "SubmitTime            1.000000  0.049792  0.055988            0.051565   \n",
       "WaitTime              0.049792  1.000000  0.082618            0.094106   \n",
       "RunTime               0.055988  0.082618  1.000000            0.864234   \n",
       "AverageCPUTimeUsed    0.051565  0.094106  0.864234            1.000000   \n",
       "Used Memory           0.078524  0.037051  0.419717            0.447703   \n",
       "ReqTime:             -0.116449  0.001670  0.274379            0.290692   \n",
       "\n",
       "                    Used Memory  ReqTime:   \n",
       "SubmitTime             0.078524  -0.116449  \n",
       "WaitTime               0.037051   0.001670  \n",
       "RunTime                0.419717   0.274379  \n",
       "AverageCPUTimeUsed     0.447703   0.290692  \n",
       "Used Memory            1.000000   0.244945  \n",
       "ReqTime:               0.244945   1.000000  "
      ]
     },
     "execution_count": 6,
     "metadata": {},
     "output_type": "execute_result"
    }
   ],
   "source": [
    "df.corr()"
   ]
  },
  {
   "cell_type": "code",
   "execution_count": 7,
   "id": "expanded-alfred",
   "metadata": {},
   "outputs": [],
   "source": [
    "df.columns = [\"submit_time\", 'wait_time', 'run_time', 'avg_cpu_time_used', 'used_mem', 'req_time']"
   ]
  },
  {
   "cell_type": "code",
   "execution_count": 8,
   "id": "modified-panel",
   "metadata": {},
   "outputs": [
    {
     "data": {
      "text/html": [
       "<div>\n",
       "<style scoped>\n",
       "    .dataframe tbody tr th:only-of-type {\n",
       "        vertical-align: middle;\n",
       "    }\n",
       "\n",
       "    .dataframe tbody tr th {\n",
       "        vertical-align: top;\n",
       "    }\n",
       "\n",
       "    .dataframe thead th {\n",
       "        text-align: right;\n",
       "    }\n",
       "</style>\n",
       "<table border=\"1\" class=\"dataframe\">\n",
       "  <thead>\n",
       "    <tr style=\"text-align: right;\">\n",
       "      <th></th>\n",
       "      <th>submit_time</th>\n",
       "      <th>wait_time</th>\n",
       "      <th>run_time</th>\n",
       "      <th>avg_cpu_time_used</th>\n",
       "      <th>used_mem</th>\n",
       "      <th>req_time</th>\n",
       "    </tr>\n",
       "  </thead>\n",
       "  <tbody>\n",
       "    <tr>\n",
       "      <th>0</th>\n",
       "      <td>1136070024</td>\n",
       "      <td>203761</td>\n",
       "      <td>138467</td>\n",
       "      <td>138371</td>\n",
       "      <td>98652</td>\n",
       "      <td>259200</td>\n",
       "    </tr>\n",
       "    <tr>\n",
       "      <th>1</th>\n",
       "      <td>1136070690</td>\n",
       "      <td>0</td>\n",
       "      <td>11</td>\n",
       "      <td>4</td>\n",
       "      <td>35848</td>\n",
       "      <td>259200</td>\n",
       "    </tr>\n",
       "    <tr>\n",
       "      <th>2</th>\n",
       "      <td>1136071207</td>\n",
       "      <td>117</td>\n",
       "      <td>201203</td>\n",
       "      <td>0</td>\n",
       "      <td>0</td>\n",
       "      <td>259200</td>\n",
       "    </tr>\n",
       "    <tr>\n",
       "      <th>3</th>\n",
       "      <td>1136071267</td>\n",
       "      <td>4406</td>\n",
       "      <td>196985</td>\n",
       "      <td>0</td>\n",
       "      <td>0</td>\n",
       "      <td>259200</td>\n",
       "    </tr>\n",
       "    <tr>\n",
       "      <th>4</th>\n",
       "      <td>1136071269</td>\n",
       "      <td>202516</td>\n",
       "      <td>19520</td>\n",
       "      <td>18731</td>\n",
       "      <td>522268</td>\n",
       "      <td>259200</td>\n",
       "    </tr>\n",
       "    <tr>\n",
       "      <th>...</th>\n",
       "      <td>...</td>\n",
       "      <td>...</td>\n",
       "      <td>...</td>\n",
       "      <td>...</td>\n",
       "      <td>...</td>\n",
       "      <td>...</td>\n",
       "    </tr>\n",
       "    <tr>\n",
       "      <th>404171</th>\n",
       "      <td>1167603618</td>\n",
       "      <td>2</td>\n",
       "      <td>56</td>\n",
       "      <td>18</td>\n",
       "      <td>0</td>\n",
       "      <td>259200</td>\n",
       "    </tr>\n",
       "    <tr>\n",
       "      <th>404172</th>\n",
       "      <td>1167603624</td>\n",
       "      <td>1</td>\n",
       "      <td>57</td>\n",
       "      <td>17</td>\n",
       "      <td>61084</td>\n",
       "      <td>259200</td>\n",
       "    </tr>\n",
       "    <tr>\n",
       "      <th>404173</th>\n",
       "      <td>1167603637</td>\n",
       "      <td>1</td>\n",
       "      <td>45</td>\n",
       "      <td>17</td>\n",
       "      <td>0</td>\n",
       "      <td>259200</td>\n",
       "    </tr>\n",
       "    <tr>\n",
       "      <th>404174</th>\n",
       "      <td>1167603747</td>\n",
       "      <td>1</td>\n",
       "      <td>43</td>\n",
       "      <td>17</td>\n",
       "      <td>0</td>\n",
       "      <td>259200</td>\n",
       "    </tr>\n",
       "    <tr>\n",
       "      <th>404175</th>\n",
       "      <td>1167605790</td>\n",
       "      <td>52</td>\n",
       "      <td>-1</td>\n",
       "      <td>-1</td>\n",
       "      <td>-1</td>\n",
       "      <td>-1</td>\n",
       "    </tr>\n",
       "  </tbody>\n",
       "</table>\n",
       "<p>404176 rows × 6 columns</p>\n",
       "</div>"
      ],
      "text/plain": [
       "        submit_time  wait_time  run_time  avg_cpu_time_used  used_mem  \\\n",
       "0        1136070024     203761    138467             138371     98652   \n",
       "1        1136070690          0        11                  4     35848   \n",
       "2        1136071207        117    201203                  0         0   \n",
       "3        1136071267       4406    196985                  0         0   \n",
       "4        1136071269     202516     19520              18731    522268   \n",
       "...             ...        ...       ...                ...       ...   \n",
       "404171   1167603618          2        56                 18         0   \n",
       "404172   1167603624          1        57                 17     61084   \n",
       "404173   1167603637          1        45                 17         0   \n",
       "404174   1167603747          1        43                 17         0   \n",
       "404175   1167605790         52        -1                 -1        -1   \n",
       "\n",
       "        req_time  \n",
       "0         259200  \n",
       "1         259200  \n",
       "2         259200  \n",
       "3         259200  \n",
       "4         259200  \n",
       "...          ...  \n",
       "404171    259200  \n",
       "404172    259200  \n",
       "404173    259200  \n",
       "404174    259200  \n",
       "404175        -1  \n",
       "\n",
       "[404176 rows x 6 columns]"
      ]
     },
     "execution_count": 8,
     "metadata": {},
     "output_type": "execute_result"
    }
   ],
   "source": [
    "df"
   ]
  },
  {
   "cell_type": "code",
   "execution_count": 9,
   "id": "ruled-greene",
   "metadata": {},
   "outputs": [],
   "source": [
    "from matplotlib import pyplot as plt"
   ]
  },
  {
   "cell_type": "code",
   "execution_count": 10,
   "id": "electric-endorsement",
   "metadata": {},
   "outputs": [],
   "source": [
    "from sklearn.preprocessing import MinMaxScaler"
   ]
  },
  {
   "cell_type": "code",
   "execution_count": 11,
   "id": "informed-trouble",
   "metadata": {},
   "outputs": [],
   "source": [
    "scaler = MinMaxScaler(feature_range=(0,1))"
   ]
  },
  {
   "cell_type": "code",
   "execution_count": 12,
   "id": "durable-genius",
   "metadata": {},
   "outputs": [],
   "source": [
    "import numpy as np"
   ]
  },
  {
   "cell_type": "code",
   "execution_count": 13,
   "id": "amateur-ethnic",
   "metadata": {},
   "outputs": [],
   "source": [
    "import tensorflow as tf\n",
    "from tensorflow import keras\n",
    "from tensorflow.keras import layers\n",
    "from tensorflow.keras.models import Sequential\n",
    "from tensorflow.keras.layers import SimpleRNN, Dense"
   ]
  },
  {
   "cell_type": "markdown",
   "id": "imported-grade",
   "metadata": {},
   "source": [
    "# Multivariate RNN"
   ]
  },
  {
   "cell_type": "markdown",
   "id": "oriental-indication",
   "metadata": {},
   "source": [
    "### Cleaning Data"
   ]
  },
  {
   "cell_type": "code",
   "execution_count": 14,
   "id": "legal-blair",
   "metadata": {},
   "outputs": [],
   "source": [
    "import random"
   ]
  },
  {
   "cell_type": "code",
   "execution_count": 15,
   "id": "subsequent-battle",
   "metadata": {},
   "outputs": [
    {
     "data": {
      "text/plain": [
       "331908"
      ]
     },
     "execution_count": 15,
     "metadata": {},
     "output_type": "execute_result"
    }
   ],
   "source": [
    "start = random.randint(0, 404175 - 12500)\n",
    "start"
   ]
  },
  {
   "cell_type": "code",
   "execution_count": 16,
   "id": "assisted-comparison",
   "metadata": {},
   "outputs": [],
   "source": [
    "df = df.iloc[start:start+12500, :]"
   ]
  },
  {
   "cell_type": "code",
   "execution_count": null,
   "id": "designing-harbor",
   "metadata": {},
   "outputs": [],
   "source": []
  },
  {
   "cell_type": "code",
   "execution_count": 17,
   "id": "handled-waterproof",
   "metadata": {},
   "outputs": [],
   "source": [
    "df = df.reset_index()"
   ]
  },
  {
   "cell_type": "code",
   "execution_count": 18,
   "id": "running-extension",
   "metadata": {},
   "outputs": [
    {
     "data": {
      "text/html": [
       "<div>\n",
       "<style scoped>\n",
       "    .dataframe tbody tr th:only-of-type {\n",
       "        vertical-align: middle;\n",
       "    }\n",
       "\n",
       "    .dataframe tbody tr th {\n",
       "        vertical-align: top;\n",
       "    }\n",
       "\n",
       "    .dataframe thead th {\n",
       "        text-align: right;\n",
       "    }\n",
       "</style>\n",
       "<table border=\"1\" class=\"dataframe\">\n",
       "  <thead>\n",
       "    <tr style=\"text-align: right;\">\n",
       "      <th></th>\n",
       "      <th>index</th>\n",
       "      <th>submit_time</th>\n",
       "      <th>wait_time</th>\n",
       "      <th>run_time</th>\n",
       "      <th>avg_cpu_time_used</th>\n",
       "      <th>used_mem</th>\n",
       "      <th>req_time</th>\n",
       "    </tr>\n",
       "  </thead>\n",
       "  <tbody>\n",
       "    <tr>\n",
       "      <th>0</th>\n",
       "      <td>331908</td>\n",
       "      <td>1161278899</td>\n",
       "      <td>68472</td>\n",
       "      <td>161363</td>\n",
       "      <td>140136</td>\n",
       "      <td>325532</td>\n",
       "      <td>259200</td>\n",
       "    </tr>\n",
       "    <tr>\n",
       "      <th>1</th>\n",
       "      <td>331909</td>\n",
       "      <td>1161279014</td>\n",
       "      <td>10422</td>\n",
       "      <td>936</td>\n",
       "      <td>23</td>\n",
       "      <td>53480</td>\n",
       "      <td>26580</td>\n",
       "    </tr>\n",
       "    <tr>\n",
       "      <th>2</th>\n",
       "      <td>331910</td>\n",
       "      <td>1161279019</td>\n",
       "      <td>68355</td>\n",
       "      <td>142964</td>\n",
       "      <td>142284</td>\n",
       "      <td>260324</td>\n",
       "      <td>259200</td>\n",
       "    </tr>\n",
       "    <tr>\n",
       "      <th>3</th>\n",
       "      <td>331911</td>\n",
       "      <td>1161279024</td>\n",
       "      <td>59477</td>\n",
       "      <td>-1</td>\n",
       "      <td>-1</td>\n",
       "      <td>-1</td>\n",
       "      <td>-1</td>\n",
       "    </tr>\n",
       "    <tr>\n",
       "      <th>4</th>\n",
       "      <td>331912</td>\n",
       "      <td>1161279072</td>\n",
       "      <td>1739</td>\n",
       "      <td>2642</td>\n",
       "      <td>2093</td>\n",
       "      <td>730912</td>\n",
       "      <td>26580</td>\n",
       "    </tr>\n",
       "    <tr>\n",
       "      <th>...</th>\n",
       "      <td>...</td>\n",
       "      <td>...</td>\n",
       "      <td>...</td>\n",
       "      <td>...</td>\n",
       "      <td>...</td>\n",
       "      <td>...</td>\n",
       "      <td>...</td>\n",
       "    </tr>\n",
       "    <tr>\n",
       "      <th>12495</th>\n",
       "      <td>344403</td>\n",
       "      <td>1162211311</td>\n",
       "      <td>1</td>\n",
       "      <td>57</td>\n",
       "      <td>21</td>\n",
       "      <td>105428</td>\n",
       "      <td>259200</td>\n",
       "    </tr>\n",
       "    <tr>\n",
       "      <th>12496</th>\n",
       "      <td>344404</td>\n",
       "      <td>1162211331</td>\n",
       "      <td>2</td>\n",
       "      <td>67</td>\n",
       "      <td>20</td>\n",
       "      <td>184012</td>\n",
       "      <td>259200</td>\n",
       "    </tr>\n",
       "    <tr>\n",
       "      <th>12497</th>\n",
       "      <td>344405</td>\n",
       "      <td>1162211333</td>\n",
       "      <td>12697</td>\n",
       "      <td>63350</td>\n",
       "      <td>41344</td>\n",
       "      <td>1811700</td>\n",
       "      <td>259200</td>\n",
       "    </tr>\n",
       "    <tr>\n",
       "      <th>12498</th>\n",
       "      <td>344406</td>\n",
       "      <td>1162211348</td>\n",
       "      <td>21618</td>\n",
       "      <td>-1</td>\n",
       "      <td>-1</td>\n",
       "      <td>-1</td>\n",
       "      <td>-1</td>\n",
       "    </tr>\n",
       "    <tr>\n",
       "      <th>12499</th>\n",
       "      <td>344407</td>\n",
       "      <td>1162211503</td>\n",
       "      <td>1</td>\n",
       "      <td>82</td>\n",
       "      <td>18</td>\n",
       "      <td>0</td>\n",
       "      <td>259200</td>\n",
       "    </tr>\n",
       "  </tbody>\n",
       "</table>\n",
       "<p>12500 rows × 7 columns</p>\n",
       "</div>"
      ],
      "text/plain": [
       "        index  submit_time  wait_time  run_time  avg_cpu_time_used  used_mem  \\\n",
       "0      331908   1161278899      68472    161363             140136    325532   \n",
       "1      331909   1161279014      10422       936                 23     53480   \n",
       "2      331910   1161279019      68355    142964             142284    260324   \n",
       "3      331911   1161279024      59477        -1                 -1        -1   \n",
       "4      331912   1161279072       1739      2642               2093    730912   \n",
       "...       ...          ...        ...       ...                ...       ...   \n",
       "12495  344403   1162211311          1        57                 21    105428   \n",
       "12496  344404   1162211331          2        67                 20    184012   \n",
       "12497  344405   1162211333      12697     63350              41344   1811700   \n",
       "12498  344406   1162211348      21618        -1                 -1        -1   \n",
       "12499  344407   1162211503          1        82                 18         0   \n",
       "\n",
       "       req_time  \n",
       "0        259200  \n",
       "1         26580  \n",
       "2        259200  \n",
       "3            -1  \n",
       "4         26580  \n",
       "...         ...  \n",
       "12495    259200  \n",
       "12496    259200  \n",
       "12497    259200  \n",
       "12498        -1  \n",
       "12499    259200  \n",
       "\n",
       "[12500 rows x 7 columns]"
      ]
     },
     "execution_count": 18,
     "metadata": {},
     "output_type": "execute_result"
    }
   ],
   "source": [
    "df"
   ]
  },
  {
   "cell_type": "code",
   "execution_count": 19,
   "id": "wrong-hunger",
   "metadata": {},
   "outputs": [
    {
     "data": {
      "text/html": [
       "<div>\n",
       "<style scoped>\n",
       "    .dataframe tbody tr th:only-of-type {\n",
       "        vertical-align: middle;\n",
       "    }\n",
       "\n",
       "    .dataframe tbody tr th {\n",
       "        vertical-align: top;\n",
       "    }\n",
       "\n",
       "    .dataframe thead th {\n",
       "        text-align: right;\n",
       "    }\n",
       "</style>\n",
       "<table border=\"1\" class=\"dataframe\">\n",
       "  <thead>\n",
       "    <tr style=\"text-align: right;\">\n",
       "      <th></th>\n",
       "      <th>index</th>\n",
       "      <th>submit_time</th>\n",
       "      <th>wait_time</th>\n",
       "      <th>run_time</th>\n",
       "      <th>avg_cpu_time_used</th>\n",
       "      <th>used_mem</th>\n",
       "      <th>req_time</th>\n",
       "    </tr>\n",
       "  </thead>\n",
       "  <tbody>\n",
       "    <tr>\n",
       "      <th>index</th>\n",
       "      <td>1.000000</td>\n",
       "      <td>0.998534</td>\n",
       "      <td>0.188057</td>\n",
       "      <td>0.085150</td>\n",
       "      <td>0.113448</td>\n",
       "      <td>-0.036600</td>\n",
       "      <td>0.147274</td>\n",
       "    </tr>\n",
       "    <tr>\n",
       "      <th>submit_time</th>\n",
       "      <td>0.998534</td>\n",
       "      <td>1.000000</td>\n",
       "      <td>0.183083</td>\n",
       "      <td>0.087230</td>\n",
       "      <td>0.115295</td>\n",
       "      <td>-0.029247</td>\n",
       "      <td>0.153870</td>\n",
       "    </tr>\n",
       "    <tr>\n",
       "      <th>wait_time</th>\n",
       "      <td>0.188057</td>\n",
       "      <td>0.183083</td>\n",
       "      <td>1.000000</td>\n",
       "      <td>0.201461</td>\n",
       "      <td>0.235452</td>\n",
       "      <td>-0.040879</td>\n",
       "      <td>0.102763</td>\n",
       "    </tr>\n",
       "    <tr>\n",
       "      <th>run_time</th>\n",
       "      <td>0.085150</td>\n",
       "      <td>0.087230</td>\n",
       "      <td>0.201461</td>\n",
       "      <td>1.000000</td>\n",
       "      <td>0.895977</td>\n",
       "      <td>0.356947</td>\n",
       "      <td>0.494722</td>\n",
       "    </tr>\n",
       "    <tr>\n",
       "      <th>avg_cpu_time_used</th>\n",
       "      <td>0.113448</td>\n",
       "      <td>0.115295</td>\n",
       "      <td>0.235452</td>\n",
       "      <td>0.895977</td>\n",
       "      <td>1.000000</td>\n",
       "      <td>0.391428</td>\n",
       "      <td>0.485685</td>\n",
       "    </tr>\n",
       "    <tr>\n",
       "      <th>used_mem</th>\n",
       "      <td>-0.036600</td>\n",
       "      <td>-0.029247</td>\n",
       "      <td>-0.040879</td>\n",
       "      <td>0.356947</td>\n",
       "      <td>0.391428</td>\n",
       "      <td>1.000000</td>\n",
       "      <td>0.428942</td>\n",
       "    </tr>\n",
       "    <tr>\n",
       "      <th>req_time</th>\n",
       "      <td>0.147274</td>\n",
       "      <td>0.153870</td>\n",
       "      <td>0.102763</td>\n",
       "      <td>0.494722</td>\n",
       "      <td>0.485685</td>\n",
       "      <td>0.428942</td>\n",
       "      <td>1.000000</td>\n",
       "    </tr>\n",
       "  </tbody>\n",
       "</table>\n",
       "</div>"
      ],
      "text/plain": [
       "                      index  submit_time  wait_time  run_time  \\\n",
       "index              1.000000     0.998534   0.188057  0.085150   \n",
       "submit_time        0.998534     1.000000   0.183083  0.087230   \n",
       "wait_time          0.188057     0.183083   1.000000  0.201461   \n",
       "run_time           0.085150     0.087230   0.201461  1.000000   \n",
       "avg_cpu_time_used  0.113448     0.115295   0.235452  0.895977   \n",
       "used_mem          -0.036600    -0.029247  -0.040879  0.356947   \n",
       "req_time           0.147274     0.153870   0.102763  0.494722   \n",
       "\n",
       "                   avg_cpu_time_used  used_mem  req_time  \n",
       "index                       0.113448 -0.036600  0.147274  \n",
       "submit_time                 0.115295 -0.029247  0.153870  \n",
       "wait_time                   0.235452 -0.040879  0.102763  \n",
       "run_time                    0.895977  0.356947  0.494722  \n",
       "avg_cpu_time_used           1.000000  0.391428  0.485685  \n",
       "used_mem                    0.391428  1.000000  0.428942  \n",
       "req_time                    0.485685  0.428942  1.000000  "
      ]
     },
     "execution_count": 19,
     "metadata": {},
     "output_type": "execute_result"
    }
   ],
   "source": [
    "df.corr()"
   ]
  },
  {
   "cell_type": "code",
   "execution_count": 20,
   "id": "retained-microphone",
   "metadata": {
    "scrolled": true
   },
   "outputs": [
    {
     "data": {
      "text/plain": [
       "<matplotlib.legend.Legend at 0x1d31e002430>"
      ]
     },
     "execution_count": 20,
     "metadata": {},
     "output_type": "execute_result"
    },
    {
     "data": {
      "image/png": "[encoded data removed]",
      "text/plain": [
       "<Figure size 640x480 with 1 Axes>"
      ]
     },
     "metadata": {},
     "output_type": "display_data"
    }
   ],
   "source": [
    "plt.plot(df['run_time'], alpha = 0.25, label = \"run_time\")\n",
    "plt.plot(df['avg_cpu_time_used'], alpha = 0.25, label = \"avg_cpu_time_used\")\n",
    "plt.plot(df['used_mem'], alpha = 0.25, label = \"used_mem\")\n",
    "plt.plot(df['req_time'], alpha = 0.25, label = \"req_time\")\n",
    "plt.legend()"
   ]
  },
  {
   "cell_type": "code",
   "execution_count": 21,
   "id": "postal-collection",
   "metadata": {},
   "outputs": [],
   "source": [
    "for i, value in enumerate(df[\"avg_cpu_time_used\"]):\n",
    "    if value == -1:\n",
    "        df[\"avg_cpu_time_used\"][i] = df[\"avg_cpu_time_used\"][i-1]\n",
    "for i, value in enumerate(df[\"run_time\"]):\n",
    "    if value == -1:\n",
    "        df[\"run_time\"][i] = df[\"run_time\"][i-1]\n",
    "for i, value in enumerate(df[\"used_mem\"]):\n",
    "    if value == -1:\n",
    "        df[\"used_mem\"][i] = df[\"used_mem\"][i-1]\n",
    "for i, value in enumerate(df[\"req_time\"]):\n",
    "    if value == -1:\n",
    "        df[\"req_time\"][i] = df[\"req_time\"][i-1]"
   ]
  },
  {
   "cell_type": "code",
   "execution_count": 22,
   "id": "adjusted-violence",
   "metadata": {},
   "outputs": [],
   "source": [
    "run_time = df[\"run_time\"]\n",
    "avg_cpu_time_used = df[\"avg_cpu_time_used\"]\n",
    "used_mem = df[\"used_mem\"]\n",
    "req_time = df[\"req_time\"]\n",
    "\n",
    "\n",
    "run_time = scaler.fit_transform(run_time.values.reshape(-1, 1))\n",
    "avg_cpu_time_used = scaler.fit_transform(avg_cpu_time_used.values.reshape(-1, 1))\n",
    "used_mem = scaler.fit_transform(used_mem.values.reshape(-1, 1))\n",
    "req_time = scaler.fit_transform(req_time.values.reshape(-1, 1))"
   ]
  },
  {
   "cell_type": "code",
   "execution_count": 23,
   "id": "cubic-thumb",
   "metadata": {},
   "outputs": [],
   "source": [
    "df = {\n",
    "    \"run_time\" : run_time.reshape(-1),\n",
    "    \"avg_cpu_time_used\" : avg_cpu_time_used.reshape(-1),\n",
    "    \"used_mem\" : used_mem.reshape(-1),\n",
    "    \"req_time\" : req_time.reshape(-1),\n",
    "    \"pred_run\" : run_time.reshape(-1)\n",
    "}"
   ]
  },
  {
   "cell_type": "code",
   "execution_count": 24,
   "id": "committed-commonwealth",
   "metadata": {},
   "outputs": [],
   "source": [
    "df = pd.DataFrame(df)"
   ]
  },
  {
   "cell_type": "code",
   "execution_count": null,
   "id": "heard-october",
   "metadata": {},
   "outputs": [],
   "source": []
  },
  {
   "cell_type": "code",
   "execution_count": 25,
   "id": "neutral-seller",
   "metadata": {},
   "outputs": [
    {
     "data": {
      "text/html": [
       "<div>\n",
       "<style scoped>\n",
       "    .dataframe tbody tr th:only-of-type {\n",
       "        vertical-align: middle;\n",
       "    }\n",
       "\n",
       "    .dataframe tbody tr th {\n",
       "        vertical-align: top;\n",
       "    }\n",
       "\n",
       "    .dataframe thead th {\n",
       "        text-align: right;\n",
       "    }\n",
       "</style>\n",
       "<table border=\"1\" class=\"dataframe\">\n",
       "  <thead>\n",
       "    <tr style=\"text-align: right;\">\n",
       "      <th></th>\n",
       "      <th>run_time</th>\n",
       "      <th>avg_cpu_time_used</th>\n",
       "      <th>used_mem</th>\n",
       "      <th>req_time</th>\n",
       "      <th>pred_run</th>\n",
       "    </tr>\n",
       "  </thead>\n",
       "  <tbody>\n",
       "    <tr>\n",
       "      <th>0</th>\n",
       "      <td>0.540554</td>\n",
       "      <td>0.545894</td>\n",
       "      <td>0.098525</td>\n",
       "      <td>0.749565</td>\n",
       "      <td>0.540554</td>\n",
       "    </tr>\n",
       "    <tr>\n",
       "      <th>1</th>\n",
       "      <td>0.003136</td>\n",
       "      <td>0.000090</td>\n",
       "      <td>0.016186</td>\n",
       "      <td>0.075304</td>\n",
       "      <td>0.003136</td>\n",
       "    </tr>\n",
       "    <tr>\n",
       "      <th>2</th>\n",
       "      <td>0.478919</td>\n",
       "      <td>0.554262</td>\n",
       "      <td>0.078790</td>\n",
       "      <td>0.749565</td>\n",
       "      <td>0.478919</td>\n",
       "    </tr>\n",
       "    <tr>\n",
       "      <th>3</th>\n",
       "      <td>0.478919</td>\n",
       "      <td>0.554262</td>\n",
       "      <td>0.078790</td>\n",
       "      <td>0.749565</td>\n",
       "      <td>0.478919</td>\n",
       "    </tr>\n",
       "    <tr>\n",
       "      <th>4</th>\n",
       "      <td>0.008851</td>\n",
       "      <td>0.008153</td>\n",
       "      <td>0.221218</td>\n",
       "      <td>0.075304</td>\n",
       "      <td>0.008851</td>\n",
       "    </tr>\n",
       "    <tr>\n",
       "      <th>...</th>\n",
       "      <td>...</td>\n",
       "      <td>...</td>\n",
       "      <td>...</td>\n",
       "      <td>...</td>\n",
       "      <td>...</td>\n",
       "    </tr>\n",
       "    <tr>\n",
       "      <th>12495</th>\n",
       "      <td>0.000191</td>\n",
       "      <td>0.000082</td>\n",
       "      <td>0.031909</td>\n",
       "      <td>0.749565</td>\n",
       "      <td>0.000191</td>\n",
       "    </tr>\n",
       "    <tr>\n",
       "      <th>12496</th>\n",
       "      <td>0.000224</td>\n",
       "      <td>0.000078</td>\n",
       "      <td>0.055693</td>\n",
       "      <td>0.749565</td>\n",
       "      <td>0.000224</td>\n",
       "    </tr>\n",
       "    <tr>\n",
       "      <th>12497</th>\n",
       "      <td>0.212218</td>\n",
       "      <td>0.161054</td>\n",
       "      <td>0.548329</td>\n",
       "      <td>0.749565</td>\n",
       "      <td>0.212218</td>\n",
       "    </tr>\n",
       "    <tr>\n",
       "      <th>12498</th>\n",
       "      <td>0.212218</td>\n",
       "      <td>0.161054</td>\n",
       "      <td>0.548329</td>\n",
       "      <td>0.749565</td>\n",
       "      <td>0.212218</td>\n",
       "    </tr>\n",
       "    <tr>\n",
       "      <th>12499</th>\n",
       "      <td>0.000275</td>\n",
       "      <td>0.000070</td>\n",
       "      <td>0.000000</td>\n",
       "      <td>0.749565</td>\n",
       "      <td>0.000275</td>\n",
       "    </tr>\n",
       "  </tbody>\n",
       "</table>\n",
       "<p>12500 rows × 5 columns</p>\n",
       "</div>"
      ],
      "text/plain": [
       "       run_time  avg_cpu_time_used  used_mem  req_time  pred_run\n",
       "0      0.540554           0.545894  0.098525  0.749565  0.540554\n",
       "1      0.003136           0.000090  0.016186  0.075304  0.003136\n",
       "2      0.478919           0.554262  0.078790  0.749565  0.478919\n",
       "3      0.478919           0.554262  0.078790  0.749565  0.478919\n",
       "4      0.008851           0.008153  0.221218  0.075304  0.008851\n",
       "...         ...                ...       ...       ...       ...\n",
       "12495  0.000191           0.000082  0.031909  0.749565  0.000191\n",
       "12496  0.000224           0.000078  0.055693  0.749565  0.000224\n",
       "12497  0.212218           0.161054  0.548329  0.749565  0.212218\n",
       "12498  0.212218           0.161054  0.548329  0.749565  0.212218\n",
       "12499  0.000275           0.000070  0.000000  0.749565  0.000275\n",
       "\n",
       "[12500 rows x 5 columns]"
      ]
     },
     "execution_count": 25,
     "metadata": {},
     "output_type": "execute_result"
    }
   ],
   "source": [
    "df"
   ]
  },
  {
   "cell_type": "code",
   "execution_count": 26,
   "id": "surprising-mumbai",
   "metadata": {},
   "outputs": [
    {
     "name": "stdout",
     "output_type": "stream",
     "text": [
      "Testing data length is:  10 :  [   run_time  avg_cpu_time_used  used_mem  req_time\n",
      "0  0.540554           0.545894  0.098525  0.749565\n",
      "1  0.003136           0.000090  0.016186  0.075304\n",
      "2  0.478919           0.554262  0.078790  0.749565\n",
      "3  0.478919           0.554262  0.078790  0.749565\n",
      "4  0.008851           0.008153  0.221218  0.075304\n",
      "5  0.008851           0.008153  0.221218  0.075304\n",
      "6  0.013822           0.007986  0.221456  0.075304\n",
      "7  0.527985           0.608452  0.090627  0.749565\n",
      "8  0.503136           0.504879  0.100745  0.749565\n",
      "9  0.197632           0.212813  0.648850  0.749565]\n",
      "Training data length is:  1 :  [pred_run    0.197632\n",
      "Name: 10, dtype: float64]\n"
     ]
    }
   ],
   "source": [
    "samples = 10\n",
    "steps = 1\n",
    "X = []\n",
    "Y = []\n",
    "\n",
    "for i in range(df.shape[0] - samples):\n",
    "    X.append(df.iloc[i:i+samples, 0:4])\n",
    "    Y.append(df.iloc[i+samples, 4:])\n",
    "    \n",
    "print(\"Testing data length is: \", len(X[0:1][0]), ': ', X[0:1])\n",
    "print(\"Training data length is: \", len(Y[0:1]), ': ', Y[0:1])"
   ]
  },
  {
   "cell_type": "code",
   "execution_count": 27,
   "id": "viral-truck",
   "metadata": {},
   "outputs": [],
   "source": [
    "X = np.array(X)\n",
    "Y = np.array(Y)"
   ]
  },
  {
   "cell_type": "code",
   "execution_count": 28,
   "id": "prerequisite-omega",
   "metadata": {
    "scrolled": true
   },
   "outputs": [
    {
     "data": {
      "text/plain": [
       "(array([[[5.40554212e-01, 5.45894378e-01, 9.85254416e-02, 7.49565217e-01],\n",
       "         [3.13553133e-03, 8.95956122e-05, 1.61862447e-02, 7.53043478e-02],\n",
       "         [4.78918912e-01, 5.54261830e-01, 7.87896030e-02, 7.49565217e-01],\n",
       "         ...,\n",
       "         [5.27985287e-01, 6.08451593e-01, 9.06272321e-02, 7.49565217e-01],\n",
       "         [5.03135531e-01, 5.04879065e-01, 1.00744543e-01, 7.49565217e-01],\n",
       "         [1.97632272e-01, 2.12812952e-01, 6.48850498e-01, 7.49565217e-01]],\n",
       " \n",
       "        [[3.13553133e-03, 8.95956122e-05, 1.61862447e-02, 7.53043478e-02],\n",
       "         [4.78918912e-01, 5.54261830e-01, 7.87896030e-02, 7.49565217e-01],\n",
       "         [4.78918912e-01, 5.54261830e-01, 7.87896030e-02, 7.49565217e-01],\n",
       "         ...,\n",
       "         [5.03135531e-01, 5.04879065e-01, 1.00744543e-01, 7.49565217e-01],\n",
       "         [1.97632272e-01, 2.12812952e-01, 6.48850498e-01, 7.49565217e-01],\n",
       "         [1.97632272e-01, 2.12812952e-01, 6.48850498e-01, 7.49565217e-01]],\n",
       " \n",
       "        [[4.78918912e-01, 5.54261830e-01, 7.87896030e-02, 7.49565217e-01],\n",
       "         [4.78918912e-01, 5.54261830e-01, 7.87896030e-02, 7.49565217e-01],\n",
       "         [8.85050617e-03, 8.15320071e-03, 2.21217661e-01, 7.53043478e-02],\n",
       "         ...,\n",
       "         [1.97632272e-01, 2.12812952e-01, 6.48850498e-01, 7.49565217e-01],\n",
       "         [1.97632272e-01, 2.12812952e-01, 6.48850498e-01, 7.49565217e-01],\n",
       "         [1.97632272e-01, 2.12812952e-01, 6.48850498e-01, 7.49565217e-01]],\n",
       " \n",
       "        ...,\n",
       " \n",
       "        [[3.13496184e-01, 3.64245118e-01, 2.40779167e-01, 7.49565217e-01],\n",
       "         [2.67159999e-01, 3.10359200e-01, 2.39750124e-01, 7.49565217e-01],\n",
       "         [2.20123679e-01, 2.54704744e-01, 2.38430527e-01, 7.49565217e-01],\n",
       "         ...,\n",
       "         [2.49308240e-01, 2.87940820e-01, 2.39023741e-01, 7.49565217e-01],\n",
       "         [1.90945818e-04, 8.18046894e-05, 3.19088147e-02, 7.49565217e-01],\n",
       "         [2.24445085e-04, 7.79092280e-05, 5.56930304e-02, 7.49565217e-01]],\n",
       " \n",
       "        [[2.67159999e-01, 3.10359200e-01, 2.39750124e-01, 7.49565217e-01],\n",
       "         [2.20123679e-01, 2.54704744e-01, 2.38430527e-01, 7.49565217e-01],\n",
       "         [2.83899583e-01, 3.30105294e-01, 2.41886902e-01, 7.49565217e-01],\n",
       "         ...,\n",
       "         [1.90945818e-04, 8.18046894e-05, 3.19088147e-02, 7.49565217e-01],\n",
       "         [2.24445085e-04, 7.79092280e-05, 5.56930304e-02, 7.49565217e-01],\n",
       "         [2.12217852e-01, 1.61053956e-01, 5.48328713e-01, 7.49565217e-01]],\n",
       " \n",
       "        [[2.20123679e-01, 2.54704744e-01, 2.38430527e-01, 7.49565217e-01],\n",
       "         [2.83899583e-01, 3.30105294e-01, 2.41886902e-01, 7.49565217e-01],\n",
       "         [2.83899583e-01, 3.30105294e-01, 2.41886902e-01, 7.49565217e-01],\n",
       "         ...,\n",
       "         [2.24445085e-04, 7.79092280e-05, 5.56930304e-02, 7.49565217e-01],\n",
       "         [2.12217852e-01, 1.61053956e-01, 5.48328713e-01, 7.49565217e-01],\n",
       "         [2.12217852e-01, 1.61053956e-01, 5.48328713e-01, 7.49565217e-01]]]),\n",
       " (12490, 10, 4))"
      ]
     },
     "execution_count": 28,
     "metadata": {},
     "output_type": "execute_result"
    }
   ],
   "source": [
    "X, X.shape"
   ]
  },
  {
   "cell_type": "code",
   "execution_count": 29,
   "id": "valuable-theory",
   "metadata": {},
   "outputs": [
    {
     "name": "stdout",
     "output_type": "stream",
     "text": [
      "Threshold is 12240\n"
     ]
    }
   ],
   "source": [
    "threshold = round(0.98 * X.shape[0])\n",
    "print('Threshold is', threshold)"
   ]
  },
  {
   "cell_type": "code",
   "execution_count": 30,
   "id": "grand-transmission",
   "metadata": {},
   "outputs": [],
   "source": [
    "trainX, trainY = X[:threshold], Y[:threshold]\n",
    "testX, testY = X[threshold:], Y[threshold:]"
   ]
  },
  {
   "cell_type": "code",
   "execution_count": 31,
   "id": "industrial-order",
   "metadata": {},
   "outputs": [
    {
     "data": {
      "text/plain": [
       "((12240, 10, 4), (12240, 1))"
      ]
     },
     "execution_count": 31,
     "metadata": {},
     "output_type": "execute_result"
    }
   ],
   "source": [
    "trainX.shape, trainY.shape"
   ]
  },
  {
   "cell_type": "code",
   "execution_count": 32,
   "id": "technical-politics",
   "metadata": {},
   "outputs": [],
   "source": [
    "def custom_loss(y_true, y_pred):\n",
    "            \n",
    "    return (tf.keras.losses.mean_squared_error(y_true, y_pred) + 1* tf.keras.losses.mean_absolute_error(y_true, y_pred))/2"
   ]
  },
  {
   "cell_type": "code",
   "execution_count": null,
   "id": "delayed-nursery",
   "metadata": {},
   "outputs": [],
   "source": []
  },
  {
   "cell_type": "code",
   "execution_count": null,
   "id": "mental-plymouth",
   "metadata": {},
   "outputs": [],
   "source": []
  },
  {
   "cell_type": "code",
   "execution_count": 47,
   "id": "magnetic-kitchen",
   "metadata": {},
   "outputs": [],
   "source": [
    "def make_model():\n",
    "    model = keras.Sequential()\n",
    "    model.add(layers.GRU(50,\n",
    "                      use_bias=True,\n",
    "                        activation = 'relu',\n",
    "                      input_shape=(trainX.shape[1], trainX.shape[2]),\n",
    "                      return_sequences = True\n",
    "                      )) \n",
    "    model.add(layers.GRU(10,\n",
    "                          use_bias=True,\n",
    "                         activation = 'relu',\n",
    "                           return_sequences = True))\n",
    "    model.add(layers.GRU(20,\n",
    "                          activation = 'relu',\n",
    "                       use_bias=True))\n",
    "    #model.add(layers.Dropout(rate = 0.1))\n",
    "    model.add(layers.Dense(1))\n",
    "    model.compile(loss='mean_absolute_error', optimizer='adam')\n",
    "#     model.compile(loss=custom_loss, optimizer='adam')\n",
    "    \n",
    "    return model"
   ]
  },
  {
   "cell_type": "code",
   "execution_count": 48,
   "id": "welsh-saskatchewan",
   "metadata": {},
   "outputs": [
    {
     "name": "stderr",
     "output_type": "stream",
     "text": [
      "c:\\python\\python391\\lib\\site-packages\\keras\\src\\layers\\rnn\\rnn.py:205: UserWarning: Do not pass an `input_shape`/`input_dim` argument to a layer. When using Sequential models, prefer using an `Input(shape)` object as the first layer in the model instead.\n",
      "  super().__init__(**kwargs)\n"
     ]
    }
   ],
   "source": [
    "model = make_model()"
   ]
  },
  {
   "cell_type": "code",
   "execution_count": 49,
   "id": "reduced-process",
   "metadata": {},
   "outputs": [
    {
     "data": {
      "text/html": [
       "<pre style=\"white-space:pre;overflow-x:auto;line-height:normal;font-family:Menlo,'DejaVu Sans Mono',consolas,'Courier New',monospace\"><span style=\"font-weight: bold\">Model: \"sequential_1\"</span>\n",
       "</pre>\n"
      ],
      "text/plain": [
       "\u001b[1mModel: \"sequential_1\"\u001b[0m\n"
      ]
     },
     "metadata": {},
     "output_type": "display_data"
    },
    {
     "data": {
      "text/html": [
       "<pre style=\"white-space:pre;overflow-x:auto;line-height:normal;font-family:Menlo,'DejaVu Sans Mono',consolas,'Courier New',monospace\">┏━━━━━━━━━━━━━━━━━━━━━━━━━━━━━━━━━━━━┳━━━━━━━━━━━━━━━━━━━━━━━━━━━━━━━┳━━━━━━━━━━━━━┓\n",
       "┃<span style=\"font-weight: bold\"> Layer (type)                       </span>┃<span style=\"font-weight: bold\"> Output Shape                  </span>┃<span style=\"font-weight: bold\">     Param # </span>┃\n",
       "┡━━━━━━━━━━━━━━━━━━━━━━━━━━━━━━━━━━━━╇━━━━━━━━━━━━━━━━━━━━━━━━━━━━━━━╇━━━━━━━━━━━━━┩\n",
       "│ gru_3 (<span style=\"color: #0087ff; text-decoration-color: #0087ff\">GRU</span>)                        │ (<span style=\"color: #00d7ff; text-decoration-color: #00d7ff\">None</span>, <span style=\"color: #00af00; text-decoration-color: #00af00\">10</span>, <span style=\"color: #00af00; text-decoration-color: #00af00\">50</span>)                │       <span style=\"color: #00af00; text-decoration-color: #00af00\">8,400</span> │\n",
       "├────────────────────────────────────┼───────────────────────────────┼─────────────┤\n",
       "│ gru_4 (<span style=\"color: #0087ff; text-decoration-color: #0087ff\">GRU</span>)                        │ (<span style=\"color: #00d7ff; text-decoration-color: #00d7ff\">None</span>, <span style=\"color: #00af00; text-decoration-color: #00af00\">10</span>, <span style=\"color: #00af00; text-decoration-color: #00af00\">10</span>)                │       <span style=\"color: #00af00; text-decoration-color: #00af00\">1,860</span> │\n",
       "├────────────────────────────────────┼───────────────────────────────┼─────────────┤\n",
       "│ gru_5 (<span style=\"color: #0087ff; text-decoration-color: #0087ff\">GRU</span>)                        │ (<span style=\"color: #00d7ff; text-decoration-color: #00d7ff\">None</span>, <span style=\"color: #00af00; text-decoration-color: #00af00\">20</span>)                    │       <span style=\"color: #00af00; text-decoration-color: #00af00\">1,920</span> │\n",
       "├────────────────────────────────────┼───────────────────────────────┼─────────────┤\n",
       "│ dense_1 (<span style=\"color: #0087ff; text-decoration-color: #0087ff\">Dense</span>)                    │ (<span style=\"color: #00d7ff; text-decoration-color: #00d7ff\">None</span>, <span style=\"color: #00af00; text-decoration-color: #00af00\">1</span>)                     │          <span style=\"color: #00af00; text-decoration-color: #00af00\">21</span> │\n",
       "└────────────────────────────────────┴───────────────────────────────┴─────────────┘\n",
       "</pre>\n"
      ],
      "text/plain": [
       "┏━━━━━━━━━━━━━━━━━━━━━━━━━━━━━━━━━━━━┳━━━━━━━━━━━━━━━━━━━━━━━━━━━━━━━┳━━━━━━━━━━━━━┓\n",
       "┃\u001b[1m \u001b[0m\u001b[1mLayer (type)                      \u001b[0m\u001b[1m \u001b[0m┃\u001b[1m \u001b[0m\u001b[1mOutput Shape                 \u001b[0m\u001b[1m \u001b[0m┃\u001b[1m \u001b[0m\u001b[1m    Param #\u001b[0m\u001b[1m \u001b[0m┃\n",
       "┡━━━━━━━━━━━━━━━━━━━━━━━━━━━━━━━━━━━━╇━━━━━━━━━━━━━━━━━━━━━━━━━━━━━━━╇━━━━━━━━━━━━━┩\n",
       "│ gru_3 (\u001b[38;5;33mGRU\u001b[0m)                        │ (\u001b[38;5;45mNone\u001b[0m, \u001b[38;5;34m10\u001b[0m, \u001b[38;5;34m50\u001b[0m)                │       \u001b[38;5;34m8,400\u001b[0m │\n",
       "├────────────────────────────────────┼───────────────────────────────┼─────────────┤\n",
       "│ gru_4 (\u001b[38;5;33mGRU\u001b[0m)                        │ (\u001b[38;5;45mNone\u001b[0m, \u001b[38;5;34m10\u001b[0m, \u001b[38;5;34m10\u001b[0m)                │       \u001b[38;5;34m1,860\u001b[0m │\n",
       "├────────────────────────────────────┼───────────────────────────────┼─────────────┤\n",
       "│ gru_5 (\u001b[38;5;33mGRU\u001b[0m)                        │ (\u001b[38;5;45mNone\u001b[0m, \u001b[38;5;34m20\u001b[0m)                    │       \u001b[38;5;34m1,920\u001b[0m │\n",
       "├────────────────────────────────────┼───────────────────────────────┼─────────────┤\n",
       "│ dense_1 (\u001b[38;5;33mDense\u001b[0m)                    │ (\u001b[38;5;45mNone\u001b[0m, \u001b[38;5;34m1\u001b[0m)                     │          \u001b[38;5;34m21\u001b[0m │\n",
       "└────────────────────────────────────┴───────────────────────────────┴─────────────┘\n"
      ]
     },
     "metadata": {},
     "output_type": "display_data"
    },
    {
     "data": {
      "text/html": [
       "<pre style=\"white-space:pre;overflow-x:auto;line-height:normal;font-family:Menlo,'DejaVu Sans Mono',consolas,'Courier New',monospace\"><span style=\"font-weight: bold\"> Total params: </span><span style=\"color: #00af00; text-decoration-color: #00af00\">12,201</span> (47.66 KB)\n",
       "</pre>\n"
      ],
      "text/plain": [
       "\u001b[1m Total params: \u001b[0m\u001b[38;5;34m12,201\u001b[0m (47.66 KB)\n"
      ]
     },
     "metadata": {},
     "output_type": "display_data"
    },
    {
     "data": {
      "text/html": [
       "<pre style=\"white-space:pre;overflow-x:auto;line-height:normal;font-family:Menlo,'DejaVu Sans Mono',consolas,'Courier New',monospace\"><span style=\"font-weight: bold\"> Trainable params: </span><span style=\"color: #00af00; text-decoration-color: #00af00\">12,201</span> (47.66 KB)\n",
       "</pre>\n"
      ],
      "text/plain": [
       "\u001b[1m Trainable params: \u001b[0m\u001b[38;5;34m12,201\u001b[0m (47.66 KB)\n"
      ]
     },
     "metadata": {},
     "output_type": "display_data"
    },
    {
     "data": {
      "text/html": [
       "<pre style=\"white-space:pre;overflow-x:auto;line-height:normal;font-family:Menlo,'DejaVu Sans Mono',consolas,'Courier New',monospace\"><span style=\"font-weight: bold\"> Non-trainable params: </span><span style=\"color: #00af00; text-decoration-color: #00af00\">0</span> (0.00 B)\n",
       "</pre>\n"
      ],
      "text/plain": [
       "\u001b[1m Non-trainable params: \u001b[0m\u001b[38;5;34m0\u001b[0m (0.00 B)\n"
      ]
     },
     "metadata": {},
     "output_type": "display_data"
    }
   ],
   "source": [
    "model.summary()"
   ]
  },
  {
   "cell_type": "code",
   "execution_count": 50,
   "id": "cooperative-environment",
   "metadata": {},
   "outputs": [
    {
     "name": "stdout",
     "output_type": "stream",
     "text": [
      "Epoch 1/5\n",
      "\u001b[1m375/375\u001b[0m \u001b[32m━━━━━━━━━━━━━━━━━━━━\u001b[0m\u001b[37m\u001b[0m \u001b[1m7s\u001b[0m 9ms/step - loss: 0.1210 - val_loss: 0.0606\n",
      "Epoch 2/5\n",
      "\u001b[1m375/375\u001b[0m \u001b[32m━━━━━━━━━━━━━━━━━━━━\u001b[0m\u001b[37m\u001b[0m \u001b[1m3s\u001b[0m 8ms/step - loss: 0.0984 - val_loss: 0.0502\n",
      "Epoch 3/5\n",
      "\u001b[1m375/375\u001b[0m \u001b[32m━━━━━━━━━━━━━━━━━━━━\u001b[0m\u001b[37m\u001b[0m \u001b[1m3s\u001b[0m 8ms/step - loss: 0.0908 - val_loss: 0.0502\n",
      "Epoch 4/5\n",
      "\u001b[1m375/375\u001b[0m \u001b[32m━━━━━━━━━━━━━━━━━━━━\u001b[0m\u001b[37m\u001b[0m \u001b[1m3s\u001b[0m 8ms/step - loss: 0.0912 - val_loss: 0.0500\n",
      "Epoch 5/5\n",
      "\u001b[1m375/375\u001b[0m \u001b[32m━━━━━━━━━━━━━━━━━━━━\u001b[0m\u001b[37m\u001b[0m \u001b[1m3s\u001b[0m 8ms/step - loss: 0.0900 - val_loss: 0.0485\n"
     ]
    }
   ],
   "source": [
    "history = model.fit(X[:threshold],\n",
    "                    Y[:threshold],\n",
    "                    shuffle=False,\n",
    "                    epochs=5,\n",
    "                    batch_size=32,\n",
    "                    validation_split=0.02 ,\n",
    "                    verbose=1)"
   ]
  },
  {
   "cell_type": "code",
   "execution_count": 51,
   "id": "interim-patrol",
   "metadata": {},
   "outputs": [
    {
     "data": {
      "text/plain": [
       "<matplotlib.legend.Legend at 0x1d320d12190>"
      ]
     },
     "execution_count": 51,
     "metadata": {},
     "output_type": "execute_result"
    },
    {
     "data": {
      "image/png": "[encoded data removed]",
      "text/plain": [
       "<Figure size 640x480 with 1 Axes>"
      ]
     },
     "metadata": {},
     "output_type": "display_data"
    }
   ],
   "source": [
    "# tr_loss >> val_loss : underfitting\n",
    "# tr_loss << val_loss : overfitting\n",
    "\n",
    "plt.plot(history.history[\"loss\"], label = \"Training Loss\")\n",
    "plt.plot(history.history[\"val_loss\"], label = \"Validation Loss\")\n",
    "plt.legend()"
   ]
  },
  {
   "cell_type": "code",
   "execution_count": 52,
   "id": "expressed-difference",
   "metadata": {
    "scrolled": true
   },
   "outputs": [
    {
     "name": "stdout",
     "output_type": "stream",
     "text": [
      "\u001b[1m8/8\u001b[0m \u001b[32m━━━━━━━━━━━━━━━━━━━━\u001b[0m\u001b[37m\u001b[0m \u001b[1m1s\u001b[0m 60ms/step\n"
     ]
    },
    {
     "data": {
      "text/plain": [
       "<matplotlib.legend.Legend at 0x1d31eb43760>"
      ]
     },
     "execution_count": 52,
     "metadata": {},
     "output_type": "execute_result"
    },
    {
     "data": {
      "image/png": "[encoded data removed]",
      "text/plain": [
       "<Figure size 640x480 with 1 Axes>"
      ]
     },
     "metadata": {},
     "output_type": "display_data"
    }
   ],
   "source": [
    "y_pred = model.predict(testX)\n",
    "plt.plot(testY, alpha = 0.25, label = \"True Value\")\n",
    "plt.plot(y_pred, alpha = 0.25, label = \"Forecasted Value\")\n",
    "plt.legend()"
   ]
  },
  {
   "cell_type": "code",
   "execution_count": 53,
   "id": "committed-graduate",
   "metadata": {},
   "outputs": [],
   "source": [
    "#y_pred = scaler.fit_transform(y_pred)"
   ]
  },
  {
   "cell_type": "code",
   "execution_count": 54,
   "id": "intellectual-treatment",
   "metadata": {},
   "outputs": [],
   "source": [
    "#testY = scaler.fit_transform(testY)"
   ]
  },
  {
   "cell_type": "code",
   "execution_count": null,
   "id": "offshore-principle",
   "metadata": {},
   "outputs": [],
   "source": [
    "y_pred"
   ]
  },
  {
   "cell_type": "code",
   "execution_count": 55,
   "id": "progressive-ratio",
   "metadata": {},
   "outputs": [],
   "source": [
    "rae = 0\n",
    "for i in range(len(y_pred)):\n",
    "    abs_val = abs(y_pred[i][0] - testY[i][0])\n",
    "    rae += abs_val\n",
    "\n",
    "rae = rae / len(y_pred)"
   ]
  },
  {
   "cell_type": "code",
   "execution_count": 56,
   "id": "rough-constitutional",
   "metadata": {},
   "outputs": [
    {
     "data": {
      "text/plain": [
       "0.07882826606224333"
      ]
     },
     "execution_count": 56,
     "metadata": {},
     "output_type": "execute_result"
    }
   ],
   "source": [
    "rae"
   ]
  },
  {
   "cell_type": "code",
   "execution_count": 57,
   "id": "reported-potato",
   "metadata": {},
   "outputs": [
    {
     "data": {
      "text/plain": [
       "7.882826606224333"
      ]
     },
     "execution_count": 57,
     "metadata": {},
     "output_type": "execute_result"
    }
   ],
   "source": [
    "rae * 100"
   ]
  },
  {
   "cell_type": "code",
   "execution_count": 58,
   "id": "urban-thumb",
   "metadata": {},
   "outputs": [],
   "source": [
    "final_df = pd.DataFrame({\n",
    "    \"testY\" : testY.reshape(-1),\n",
    "    \"y_pred\" : y_pred.reshape(-1)\n",
    "})"
   ]
  },
  {
   "cell_type": "code",
   "execution_count": 59,
   "id": "tribal-problem",
   "metadata": {},
   "outputs": [
    {
     "data": {
      "text/html": [
       "<div>\n",
       "<style scoped>\n",
       "    .dataframe tbody tr th:only-of-type {\n",
       "        vertical-align: middle;\n",
       "    }\n",
       "\n",
       "    .dataframe tbody tr th {\n",
       "        vertical-align: top;\n",
       "    }\n",
       "\n",
       "    .dataframe thead th {\n",
       "        text-align: right;\n",
       "    }\n",
       "</style>\n",
       "<table border=\"1\" class=\"dataframe\">\n",
       "  <thead>\n",
       "    <tr style=\"text-align: right;\">\n",
       "      <th></th>\n",
       "      <th>testY</th>\n",
       "      <th>y_pred</th>\n",
       "    </tr>\n",
       "  </thead>\n",
       "  <tbody>\n",
       "    <tr>\n",
       "      <th>testY</th>\n",
       "      <td>1.000000</td>\n",
       "      <td>0.720913</td>\n",
       "    </tr>\n",
       "    <tr>\n",
       "      <th>y_pred</th>\n",
       "      <td>0.720913</td>\n",
       "      <td>1.000000</td>\n",
       "    </tr>\n",
       "  </tbody>\n",
       "</table>\n",
       "</div>"
      ],
      "text/plain": [
       "           testY    y_pred\n",
       "testY   1.000000  0.720913\n",
       "y_pred  0.720913  1.000000"
      ]
     },
     "execution_count": 59,
     "metadata": {},
     "output_type": "execute_result"
    }
   ],
   "source": [
    "final_df.corr()"
   ]
  },
  {
   "cell_type": "code",
   "execution_count": 46,
   "id": "utility-vaccine",
   "metadata": {},
   "outputs": [],
   "source": [
    "#model.save('mae_4.0_gru_model1.keras')"
   ]
  },
  {
   "cell_type": "code",
   "execution_count": null,
   "id": "destroyed-powder",
   "metadata": {},
   "outputs": [],
   "source": []
  }
 ],
 "metadata": {
  "kernelspec": {
   "display_name": "Python 3 (ipykernel)",
   "language": "python",
   "name": "python3"
  },
  "language_info": {
   "codemirror_mode": {
    "name": "ipython",
    "version": 3
   },
   "file_extension": ".py",
   "mimetype": "text/x-python",
   "name": "python",
   "nbconvert_exporter": "python",
   "pygments_lexer": "ipython3",
   "version": "3.12.4"
  }
 },
 "nbformat": 4,
 "nbformat_minor": 5
}
